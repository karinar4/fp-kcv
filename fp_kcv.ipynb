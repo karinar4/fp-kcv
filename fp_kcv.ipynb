{
  "metadata": {
    "kernelspec": {
      "language": "python",
      "display_name": "Python 3",
      "name": "python3"
    },
    "language_info": {
      "name": "python",
      "version": "3.10.13",
      "mimetype": "text/x-python",
      "codemirror_mode": {
        "name": "ipython",
        "version": 3
      },
      "pygments_lexer": "ipython3",
      "nbconvert_exporter": "python",
      "file_extension": ".py"
    },
    "kaggle": {
      "accelerator": "none",
      "dataSources": [
        {
          "sourceId": 8227051,
          "sourceType": "datasetVersion",
          "datasetId": 4878304
        },
        {
          "sourceId": 5344155,
          "sourceType": "datasetVersion",
          "datasetId": 3102947
        }
      ],
      "dockerImageVersionId": 30698,
      "isInternetEnabled": true,
      "language": "python",
      "sourceType": "notebook",
      "isGpuEnabled": false
    },
    "colab": {
      "provenance": []
    }
  },
  "nbformat_minor": 0,
  "nbformat": 4,
  "cells": [
    {
      "cell_type": "markdown",
      "source": [
        "# Introduction\n",
        "\n",
        "Diabetes is a metabolic disease caused by elevated levels of blood glucose, leading to significant damage to vital organ systems. According to the World Health Organization, approximately 422 million people are diabetic, with 1.5 million deaths directly attributed to the condition.\n",
        "\n",
        "While long-term risks can be mitigated through monitoring and treatment, short-term dangers can be severe and potentially fatal for diabetic patients.\n",
        "\n",
        "Fortunately, in most cases, diagnosing diabetes is relatively inexpensive and accessible. In order to make it more accessible and free of cost, we aim to uncover methods to predict an individual's likelihood of suffering from diabetes based on various characteristics i.e. hypertension, age, gender, etc.\n",
        "\n",
        "To start, we discovered a dataset from Kaggle.com to train and explore diabetes, aiming to uncover patterns, correlations, and insights that can inform both medical understanding and eventually predict whether someone has diabetes or not.\n",
        "\n",
        "\n"
      ],
      "metadata": {
        "id": "BtVOEam8AJep"
      }
    },
    {
      "cell_type": "markdown",
      "source": [
        "## Data Description"
      ],
      "metadata": {
        "id": "kCxUOUwHAVxu"
      }
    },
    {
      "cell_type": "markdown",
      "source": [
        "**Objective:** The objective of this project is to develop a robust model for predicting the likelihood of diabetes in patients based on their medical history and demographic information. Such predictions can be immensely valuable for healthcare professionals in identifying individuals who may be at risk of developing diabetes.\n",
        "\n",
        "**Dataset:** The dataset used for this project is the Diabetes Prediction Dataset, which comprises a comprehensive collection of medical and demographic data from patients, along with their diabetes status (positive or negative). The dataset encompasses several essential features including age, gender, body mass index (BMI), hypertension, heart disease, smoking history, HbA1c level, and blood glucose level.\n",
        "\n",
        "To access the **complete dataset**, please visit the following page: https://www.kaggle.com/datasets/iammustafatz/diabetes-prediction-dataset"
      ],
      "metadata": {
        "id": "mkcpMqryAcC1"
      }
    },
    {
      "cell_type": "markdown",
      "source": [
        "## Domain Knowledge"
      ],
      "metadata": {
        "id": "rVUpsKL8qVc7"
      }
    },
    {
      "cell_type": "markdown",
      "source": [
        "1. `Age`: Age is important factor in predicting diabetes risk. As people get older, they become more likely to develop diabetes. This is because things like being less active, changes in hormones, and having other health problems.\n",
        "\n",
        "2.  `Gender`: Gender can play a role in diabetes risk, although the effect may vary. For example, women with a history of gestational diabetes (diabetes during pregnancy) have a higher risk of developing type 2 diabetes later in life. Additionally, some studies have suggested that men may have a slightly higher risk of diabetes compared to women.\n",
        "\n",
        "3. `Body Mass Index(BMI)`: BMI measures body fat based on height and weight. A higher BMI means a higher risk of type 2 diabetes. Too much fat, especially around the waist, can make it hard for the body to control blood sugar.\n",
        "\n",
        "4. `Hypertension`: High blood pressure often comes with diabetes. They both have similar causes and make each other worse. Having high blood pressure raises the chances of getting type 2 diabetes, and having diabetes raises the chances of getting high blood pressure.\n",
        "\n",
        "5. `Heart Disease`: Diabetes and heart disease often go together. Having one makes it more likely to get the other because they share many of the same risk factors, like being overweight or having high cholesterol.\n",
        "\n",
        "6. `Smoking History`: Smoking can increase the chances of getting type 2 diabetes. It messes with how the body handles insulin and glucose. But if someone quits smoking, they can lower their risk of getting diabetes.\n",
        "\n",
        "7. `HbA1c Level`: HbA1c (glycated hemoglobin) shows the average blood glucose level over a few months. If the HbA1c level is high, it means blood sugar hasn't been well controlled, raising the risk of diabetes and its complications.\n",
        "\n",
        "8. `Blood Glucose Level`: This shows how much sugar is in the blood at a given time. If it's too high, especially when someone hasn't eaten or after they eat carbs, it can mean they're at risk for diabetes. Keeping an eye on blood sugar levels is important for managing diabetes.\n",
        "\n",
        "These features, when combined and analyzed with appropriate statistical and machine learning techniques, can help in predicting an individual's risk of developing diabetes.\n"
      ],
      "metadata": {
        "id": "H3-6HWDPqqjD"
      }
    },
    {
      "cell_type": "markdown",
      "source": [
        "# Setting Up\n",
        "This section contains the initial process carried out before starting to analyze the data. This includes steps such as setting up the work environment, downloading or loading data, importing necessary software or libraries, and preparing other tools and resources necessary to properly analyze the data."
      ],
      "metadata": {
        "id": "IusIDmZj2IA3"
      }
    },
    {
      "cell_type": "code",
      "source": [
        "!pip install catboost"
      ],
      "metadata": {
        "colab": {
          "base_uri": "https://localhost:8080/"
        },
        "id": "532nVslyLXT0",
        "outputId": "4a958f89-a63c-45ac-8137-83ebe4c802d8"
      },
      "execution_count": null,
      "outputs": [
        {
          "output_type": "stream",
          "name": "stdout",
          "text": [
            "Collecting catboost\n",
            "  Downloading catboost-1.2.5-cp310-cp310-manylinux2014_x86_64.whl (98.2 MB)\n",
            "\u001b[2K     \u001b[90m━━━━━━━━━━━━━━━━━━━━━━━━━━━━━━━━━━━━━━━━\u001b[0m \u001b[32m98.2/98.2 MB\u001b[0m \u001b[31m9.0 MB/s\u001b[0m eta \u001b[36m0:00:00\u001b[0m\n",
            "\u001b[?25hRequirement already satisfied: graphviz in /usr/local/lib/python3.10/dist-packages (from catboost) (0.20.3)\n",
            "Requirement already satisfied: matplotlib in /usr/local/lib/python3.10/dist-packages (from catboost) (3.7.1)\n",
            "Requirement already satisfied: numpy>=1.16.0 in /usr/local/lib/python3.10/dist-packages (from catboost) (1.25.2)\n",
            "Requirement already satisfied: pandas>=0.24 in /usr/local/lib/python3.10/dist-packages (from catboost) (2.0.3)\n",
            "Requirement already satisfied: scipy in /usr/local/lib/python3.10/dist-packages (from catboost) (1.11.4)\n",
            "Requirement already satisfied: plotly in /usr/local/lib/python3.10/dist-packages (from catboost) (5.15.0)\n",
            "Requirement already satisfied: six in /usr/local/lib/python3.10/dist-packages (from catboost) (1.16.0)\n",
            "Requirement already satisfied: python-dateutil>=2.8.2 in /usr/local/lib/python3.10/dist-packages (from pandas>=0.24->catboost) (2.8.2)\n",
            "Requirement already satisfied: pytz>=2020.1 in /usr/local/lib/python3.10/dist-packages (from pandas>=0.24->catboost) (2023.4)\n",
            "Requirement already satisfied: tzdata>=2022.1 in /usr/local/lib/python3.10/dist-packages (from pandas>=0.24->catboost) (2024.1)\n",
            "Requirement already satisfied: contourpy>=1.0.1 in /usr/local/lib/python3.10/dist-packages (from matplotlib->catboost) (1.2.1)\n",
            "Requirement already satisfied: cycler>=0.10 in /usr/local/lib/python3.10/dist-packages (from matplotlib->catboost) (0.12.1)\n",
            "Requirement already satisfied: fonttools>=4.22.0 in /usr/local/lib/python3.10/dist-packages (from matplotlib->catboost) (4.51.0)\n",
            "Requirement already satisfied: kiwisolver>=1.0.1 in /usr/local/lib/python3.10/dist-packages (from matplotlib->catboost) (1.4.5)\n",
            "Requirement already satisfied: packaging>=20.0 in /usr/local/lib/python3.10/dist-packages (from matplotlib->catboost) (24.0)\n",
            "Requirement already satisfied: pillow>=6.2.0 in /usr/local/lib/python3.10/dist-packages (from matplotlib->catboost) (9.4.0)\n",
            "Requirement already satisfied: pyparsing>=2.3.1 in /usr/local/lib/python3.10/dist-packages (from matplotlib->catboost) (3.1.2)\n",
            "Requirement already satisfied: tenacity>=6.2.0 in /usr/local/lib/python3.10/dist-packages (from plotly->catboost) (8.2.3)\n",
            "Installing collected packages: catboost\n",
            "Successfully installed catboost-1.2.5\n"
          ]
        }
      ]
    },
    {
      "cell_type": "code",
      "source": [
        "# General\n",
        "import numpy as np\n",
        "import pandas as pd\n",
        "import json\n",
        "\n",
        "# Graph\n",
        "import matplotlib.pyplot as plt\n",
        "import seaborn as sns\n",
        "\n",
        "# Machine Learning\n",
        "from sklearn.model_selection import train_test_split\n",
        "from catboost import CatBoostClassifier, Pool, cv\n",
        "from xgboost import XGBClassifier\n",
        "from sklearn.linear_model import LogisticRegression\n",
        "from sklearn.ensemble import RandomForestClassifier\n",
        "\n",
        "# Preprocessing utilities\n",
        "from sklearn.preprocessing import StandardScaler\n",
        "\n",
        "# Sampling methods\n",
        "from imblearn.over_sampling import SMOTE\n",
        "\n",
        "# General Metrics\n",
        "from sklearn.metrics import accuracy_score\n",
        "from sklearn.metrics import confusion_matrix, ConfusionMatrixDisplay\n",
        "from sklearn.metrics import classification_report\n",
        "from sklearn.metrics import roc_auc_score, roc_curve\n",
        "\n",
        "# Serialize and de-serialize a python object structure\n",
        "import pickle"
      ],
      "metadata": {
        "id": "Xixq5nc4vcvQ"
      },
      "execution_count": null,
      "outputs": []
    },
    {
      "cell_type": "markdown",
      "source": [
        "## Importing Libraries\n",
        "- `numpy` and `pandas` are utilized for data manipulation tasks.\n",
        "- `catboost` libraries are imported to be our main prediction model. Other classifiers such as `XGBoost`, `LogisticRegression`, and `RandomForestClassifier` are imported as a comparison.\n",
        "- `SMOTE` is brought in for oversampling purposes, while `StandardScaler` is used for standardization for numerical data.\n",
        "- Metrics functions including `accuracy_score`, `precision_score`, and `confusion_matrix` are imported for model evaluation.\n",
        "- `matplotlib` and `seaborn`is employed for data visualization"
      ],
      "metadata": {
        "id": "mxtz9wOaHdRA"
      }
    },
    {
      "cell_type": "code",
      "source": [
        "!pip install -q kaggle"
      ],
      "metadata": {
        "id": "pnugWT1vtdVJ"
      },
      "execution_count": null,
      "outputs": []
    },
    {
      "cell_type": "code",
      "source": [
        "cred = {\"username\":\"karinarahmawati\",\"key\":\"d414ff81116181f1d8dae59293ba8470\"}"
      ],
      "metadata": {
        "id": "vQZvI-jot-2E"
      },
      "execution_count": null,
      "outputs": []
    },
    {
      "cell_type": "code",
      "source": [
        "!mkdir ~/.kaggle/\n",
        "!touch ~/.kaggle/kaggle.json\n",
        "\n",
        "api_token = cred\n",
        "\n",
        "with open('/root/.kaggle/kaggle.json', 'w') as file:\n",
        "    json.dump(api_token, file)\n",
        "\n",
        "!chmod 600 ~/.kaggle/kaggle.json"
      ],
      "metadata": {
        "id": "iBXmJMoiuGNd",
        "colab": {
          "base_uri": "https://localhost:8080/"
        },
        "outputId": "df106bf7-8504-4983-fe2e-e1df2bb36c22"
      },
      "execution_count": null,
      "outputs": [
        {
          "output_type": "stream",
          "name": "stdout",
          "text": [
            "mkdir: cannot create directory ‘/root/.kaggle/’: File exists\n"
          ]
        }
      ]
    },
    {
      "cell_type": "code",
      "source": [
        "!kaggle datasets download -d iammustafatz/diabetes-prediction-dataset"
      ],
      "metadata": {
        "id": "PB3nWqL4uM9z",
        "colab": {
          "base_uri": "https://localhost:8080/"
        },
        "outputId": "2b322a70-b73a-4a84-a3ee-9a16129ab300"
      },
      "execution_count": null,
      "outputs": [
        {
          "output_type": "stream",
          "name": "stdout",
          "text": [
            "Dataset URL: https://www.kaggle.com/datasets/iammustafatz/diabetes-prediction-dataset\n",
            "License(s): copyright-authors\n",
            "Downloading diabetes-prediction-dataset.zip to /content\n",
            "  0% 0.00/734k [00:00<?, ?B/s]\n",
            "100% 734k/734k [00:00<00:00, 27.1MB/s]\n"
          ]
        }
      ]
    },
    {
      "cell_type": "code",
      "source": [
        "!unzip \"diabetes-prediction-dataset.zip\""
      ],
      "metadata": {
        "id": "pxwib9FauRX5",
        "colab": {
          "base_uri": "https://localhost:8080/"
        },
        "outputId": "253a1513-0e1d-4a2e-ec3a-d89a2c662eef"
      },
      "execution_count": null,
      "outputs": [
        {
          "output_type": "stream",
          "name": "stdout",
          "text": [
            "Archive:  diabetes-prediction-dataset.zip\n",
            "  inflating: diabetes_prediction_dataset.csv  \n"
          ]
        }
      ]
    },
    {
      "cell_type": "code",
      "source": [
        "df = pd.read_csv(\"diabetes_prediction_dataset.csv\")"
      ],
      "metadata": {
        "execution": {
          "iopub.status.busy": "2024-05-02T04:17:11.092976Z",
          "iopub.execute_input": "2024-05-02T04:17:11.094398Z",
          "iopub.status.idle": "2024-05-02T04:17:11.229291Z",
          "shell.execute_reply.started": "2024-05-02T04:17:11.094348Z",
          "shell.execute_reply": "2024-05-02T04:17:11.228350Z"
        },
        "trusted": true,
        "id": "4vejHFanskcZ"
      },
      "execution_count": null,
      "outputs": []
    },
    {
      "cell_type": "markdown",
      "source": [
        "# Exploratory Data Analysis\n",
        "\n",
        "This section involves performing exploratory data analysis to gain insights into the dataset. Through data description, visualization and correlation map, we explore the distributions, relationships, and characteristics of the variables."
      ],
      "metadata": {
        "id": "_LvNBMpl_cgW"
      }
    },
    {
      "cell_type": "markdown",
      "source": [
        "## Data Description\n",
        "To describe the outline of the data such as shape, data types, unique values and percentage of missing values."
      ],
      "metadata": {
        "id": "5hNLzLWt2UhX"
      }
    },
    {
      "cell_type": "code",
      "source": [
        "df.head()"
      ],
      "metadata": {
        "id": "-Iungnk_uc0c",
        "outputId": "70057bc1-deaf-4f1d-9e0d-bfc93b650766",
        "colab": {
          "base_uri": "https://localhost:8080/",
          "height": 226
        }
      },
      "execution_count": null,
      "outputs": [
        {
          "output_type": "execute_result",
          "data": {
            "text/plain": [
              "   gender   age  hypertension  heart_disease smoking_history    bmi  \\\n",
              "0  Female  80.0             0              1           never  25.19   \n",
              "1  Female  54.0             0              0         No Info  27.32   \n",
              "2    Male  28.0             0              0           never  27.32   \n",
              "3  Female  36.0             0              0         current  23.45   \n",
              "4    Male  76.0             1              1         current  20.14   \n",
              "\n",
              "   HbA1c_level  blood_glucose_level  diabetes  \n",
              "0          6.6                  140         0  \n",
              "1          6.6                   80         0  \n",
              "2          5.7                  158         0  \n",
              "3          5.0                  155         0  \n",
              "4          4.8                  155         0  "
            ],
            "text/html": [
              "\n",
              "  <div id=\"df-062f7d4e-871b-4f04-9197-81eec9a0459a\" class=\"colab-df-container\">\n",
              "    <div>\n",
              "<style scoped>\n",
              "    .dataframe tbody tr th:only-of-type {\n",
              "        vertical-align: middle;\n",
              "    }\n",
              "\n",
              "    .dataframe tbody tr th {\n",
              "        vertical-align: top;\n",
              "    }\n",
              "\n",
              "    .dataframe thead th {\n",
              "        text-align: right;\n",
              "    }\n",
              "</style>\n",
              "<table border=\"1\" class=\"dataframe\">\n",
              "  <thead>\n",
              "    <tr style=\"text-align: right;\">\n",
              "      <th></th>\n",
              "      <th>gender</th>\n",
              "      <th>age</th>\n",
              "      <th>hypertension</th>\n",
              "      <th>heart_disease</th>\n",
              "      <th>smoking_history</th>\n",
              "      <th>bmi</th>\n",
              "      <th>HbA1c_level</th>\n",
              "      <th>blood_glucose_level</th>\n",
              "      <th>diabetes</th>\n",
              "    </tr>\n",
              "  </thead>\n",
              "  <tbody>\n",
              "    <tr>\n",
              "      <th>0</th>\n",
              "      <td>Female</td>\n",
              "      <td>80.0</td>\n",
              "      <td>0</td>\n",
              "      <td>1</td>\n",
              "      <td>never</td>\n",
              "      <td>25.19</td>\n",
              "      <td>6.6</td>\n",
              "      <td>140</td>\n",
              "      <td>0</td>\n",
              "    </tr>\n",
              "    <tr>\n",
              "      <th>1</th>\n",
              "      <td>Female</td>\n",
              "      <td>54.0</td>\n",
              "      <td>0</td>\n",
              "      <td>0</td>\n",
              "      <td>No Info</td>\n",
              "      <td>27.32</td>\n",
              "      <td>6.6</td>\n",
              "      <td>80</td>\n",
              "      <td>0</td>\n",
              "    </tr>\n",
              "    <tr>\n",
              "      <th>2</th>\n",
              "      <td>Male</td>\n",
              "      <td>28.0</td>\n",
              "      <td>0</td>\n",
              "      <td>0</td>\n",
              "      <td>never</td>\n",
              "      <td>27.32</td>\n",
              "      <td>5.7</td>\n",
              "      <td>158</td>\n",
              "      <td>0</td>\n",
              "    </tr>\n",
              "    <tr>\n",
              "      <th>3</th>\n",
              "      <td>Female</td>\n",
              "      <td>36.0</td>\n",
              "      <td>0</td>\n",
              "      <td>0</td>\n",
              "      <td>current</td>\n",
              "      <td>23.45</td>\n",
              "      <td>5.0</td>\n",
              "      <td>155</td>\n",
              "      <td>0</td>\n",
              "    </tr>\n",
              "    <tr>\n",
              "      <th>4</th>\n",
              "      <td>Male</td>\n",
              "      <td>76.0</td>\n",
              "      <td>1</td>\n",
              "      <td>1</td>\n",
              "      <td>current</td>\n",
              "      <td>20.14</td>\n",
              "      <td>4.8</td>\n",
              "      <td>155</td>\n",
              "      <td>0</td>\n",
              "    </tr>\n",
              "  </tbody>\n",
              "</table>\n",
              "</div>\n",
              "    <div class=\"colab-df-buttons\">\n",
              "\n",
              "  <div class=\"colab-df-container\">\n",
              "    <button class=\"colab-df-convert\" onclick=\"convertToInteractive('df-062f7d4e-871b-4f04-9197-81eec9a0459a')\"\n",
              "            title=\"Convert this dataframe to an interactive table.\"\n",
              "            style=\"display:none;\">\n",
              "\n",
              "  <svg xmlns=\"http://www.w3.org/2000/svg\" height=\"24px\" viewBox=\"0 -960 960 960\">\n",
              "    <path d=\"M120-120v-720h720v720H120Zm60-500h600v-160H180v160Zm220 220h160v-160H400v160Zm0 220h160v-160H400v160ZM180-400h160v-160H180v160Zm440 0h160v-160H620v160ZM180-180h160v-160H180v160Zm440 0h160v-160H620v160Z\"/>\n",
              "  </svg>\n",
              "    </button>\n",
              "\n",
              "  <style>\n",
              "    .colab-df-container {\n",
              "      display:flex;\n",
              "      gap: 12px;\n",
              "    }\n",
              "\n",
              "    .colab-df-convert {\n",
              "      background-color: #E8F0FE;\n",
              "      border: none;\n",
              "      border-radius: 50%;\n",
              "      cursor: pointer;\n",
              "      display: none;\n",
              "      fill: #1967D2;\n",
              "      height: 32px;\n",
              "      padding: 0 0 0 0;\n",
              "      width: 32px;\n",
              "    }\n",
              "\n",
              "    .colab-df-convert:hover {\n",
              "      background-color: #E2EBFA;\n",
              "      box-shadow: 0px 1px 2px rgba(60, 64, 67, 0.3), 0px 1px 3px 1px rgba(60, 64, 67, 0.15);\n",
              "      fill: #174EA6;\n",
              "    }\n",
              "\n",
              "    .colab-df-buttons div {\n",
              "      margin-bottom: 4px;\n",
              "    }\n",
              "\n",
              "    [theme=dark] .colab-df-convert {\n",
              "      background-color: #3B4455;\n",
              "      fill: #D2E3FC;\n",
              "    }\n",
              "\n",
              "    [theme=dark] .colab-df-convert:hover {\n",
              "      background-color: #434B5C;\n",
              "      box-shadow: 0px 1px 3px 1px rgba(0, 0, 0, 0.15);\n",
              "      filter: drop-shadow(0px 1px 2px rgba(0, 0, 0, 0.3));\n",
              "      fill: #FFFFFF;\n",
              "    }\n",
              "  </style>\n",
              "\n",
              "    <script>\n",
              "      const buttonEl =\n",
              "        document.querySelector('#df-062f7d4e-871b-4f04-9197-81eec9a0459a button.colab-df-convert');\n",
              "      buttonEl.style.display =\n",
              "        google.colab.kernel.accessAllowed ? 'block' : 'none';\n",
              "\n",
              "      async function convertToInteractive(key) {\n",
              "        const element = document.querySelector('#df-062f7d4e-871b-4f04-9197-81eec9a0459a');\n",
              "        const dataTable =\n",
              "          await google.colab.kernel.invokeFunction('convertToInteractive',\n",
              "                                                    [key], {});\n",
              "        if (!dataTable) return;\n",
              "\n",
              "        const docLinkHtml = 'Like what you see? Visit the ' +\n",
              "          '<a target=\"_blank\" href=https://colab.research.google.com/notebooks/data_table.ipynb>data table notebook</a>'\n",
              "          + ' to learn more about interactive tables.';\n",
              "        element.innerHTML = '';\n",
              "        dataTable['output_type'] = 'display_data';\n",
              "        await google.colab.output.renderOutput(dataTable, element);\n",
              "        const docLink = document.createElement('div');\n",
              "        docLink.innerHTML = docLinkHtml;\n",
              "        element.appendChild(docLink);\n",
              "      }\n",
              "    </script>\n",
              "  </div>\n",
              "\n",
              "\n",
              "<div id=\"df-b0af8112-1fbc-4100-9287-46b527280330\">\n",
              "  <button class=\"colab-df-quickchart\" onclick=\"quickchart('df-b0af8112-1fbc-4100-9287-46b527280330')\"\n",
              "            title=\"Suggest charts\"\n",
              "            style=\"display:none;\">\n",
              "\n",
              "<svg xmlns=\"http://www.w3.org/2000/svg\" height=\"24px\"viewBox=\"0 0 24 24\"\n",
              "     width=\"24px\">\n",
              "    <g>\n",
              "        <path d=\"M19 3H5c-1.1 0-2 .9-2 2v14c0 1.1.9 2 2 2h14c1.1 0 2-.9 2-2V5c0-1.1-.9-2-2-2zM9 17H7v-7h2v7zm4 0h-2V7h2v10zm4 0h-2v-4h2v4z\"/>\n",
              "    </g>\n",
              "</svg>\n",
              "  </button>\n",
              "\n",
              "<style>\n",
              "  .colab-df-quickchart {\n",
              "      --bg-color: #E8F0FE;\n",
              "      --fill-color: #1967D2;\n",
              "      --hover-bg-color: #E2EBFA;\n",
              "      --hover-fill-color: #174EA6;\n",
              "      --disabled-fill-color: #AAA;\n",
              "      --disabled-bg-color: #DDD;\n",
              "  }\n",
              "\n",
              "  [theme=dark] .colab-df-quickchart {\n",
              "      --bg-color: #3B4455;\n",
              "      --fill-color: #D2E3FC;\n",
              "      --hover-bg-color: #434B5C;\n",
              "      --hover-fill-color: #FFFFFF;\n",
              "      --disabled-bg-color: #3B4455;\n",
              "      --disabled-fill-color: #666;\n",
              "  }\n",
              "\n",
              "  .colab-df-quickchart {\n",
              "    background-color: var(--bg-color);\n",
              "    border: none;\n",
              "    border-radius: 50%;\n",
              "    cursor: pointer;\n",
              "    display: none;\n",
              "    fill: var(--fill-color);\n",
              "    height: 32px;\n",
              "    padding: 0;\n",
              "    width: 32px;\n",
              "  }\n",
              "\n",
              "  .colab-df-quickchart:hover {\n",
              "    background-color: var(--hover-bg-color);\n",
              "    box-shadow: 0 1px 2px rgba(60, 64, 67, 0.3), 0 1px 3px 1px rgba(60, 64, 67, 0.15);\n",
              "    fill: var(--button-hover-fill-color);\n",
              "  }\n",
              "\n",
              "  .colab-df-quickchart-complete:disabled,\n",
              "  .colab-df-quickchart-complete:disabled:hover {\n",
              "    background-color: var(--disabled-bg-color);\n",
              "    fill: var(--disabled-fill-color);\n",
              "    box-shadow: none;\n",
              "  }\n",
              "\n",
              "  .colab-df-spinner {\n",
              "    border: 2px solid var(--fill-color);\n",
              "    border-color: transparent;\n",
              "    border-bottom-color: var(--fill-color);\n",
              "    animation:\n",
              "      spin 1s steps(1) infinite;\n",
              "  }\n",
              "\n",
              "  @keyframes spin {\n",
              "    0% {\n",
              "      border-color: transparent;\n",
              "      border-bottom-color: var(--fill-color);\n",
              "      border-left-color: var(--fill-color);\n",
              "    }\n",
              "    20% {\n",
              "      border-color: transparent;\n",
              "      border-left-color: var(--fill-color);\n",
              "      border-top-color: var(--fill-color);\n",
              "    }\n",
              "    30% {\n",
              "      border-color: transparent;\n",
              "      border-left-color: var(--fill-color);\n",
              "      border-top-color: var(--fill-color);\n",
              "      border-right-color: var(--fill-color);\n",
              "    }\n",
              "    40% {\n",
              "      border-color: transparent;\n",
              "      border-right-color: var(--fill-color);\n",
              "      border-top-color: var(--fill-color);\n",
              "    }\n",
              "    60% {\n",
              "      border-color: transparent;\n",
              "      border-right-color: var(--fill-color);\n",
              "    }\n",
              "    80% {\n",
              "      border-color: transparent;\n",
              "      border-right-color: var(--fill-color);\n",
              "      border-bottom-color: var(--fill-color);\n",
              "    }\n",
              "    90% {\n",
              "      border-color: transparent;\n",
              "      border-bottom-color: var(--fill-color);\n",
              "    }\n",
              "  }\n",
              "</style>\n",
              "\n",
              "  <script>\n",
              "    async function quickchart(key) {\n",
              "      const quickchartButtonEl =\n",
              "        document.querySelector('#' + key + ' button');\n",
              "      quickchartButtonEl.disabled = true;  // To prevent multiple clicks.\n",
              "      quickchartButtonEl.classList.add('colab-df-spinner');\n",
              "      try {\n",
              "        const charts = await google.colab.kernel.invokeFunction(\n",
              "            'suggestCharts', [key], {});\n",
              "      } catch (error) {\n",
              "        console.error('Error during call to suggestCharts:', error);\n",
              "      }\n",
              "      quickchartButtonEl.classList.remove('colab-df-spinner');\n",
              "      quickchartButtonEl.classList.add('colab-df-quickchart-complete');\n",
              "    }\n",
              "    (() => {\n",
              "      let quickchartButtonEl =\n",
              "        document.querySelector('#df-b0af8112-1fbc-4100-9287-46b527280330 button');\n",
              "      quickchartButtonEl.style.display =\n",
              "        google.colab.kernel.accessAllowed ? 'block' : 'none';\n",
              "    })();\n",
              "  </script>\n",
              "</div>\n",
              "    </div>\n",
              "  </div>\n"
            ],
            "application/vnd.google.colaboratory.intrinsic+json": {
              "type": "dataframe",
              "variable_name": "df",
              "summary": "{\n  \"name\": \"df\",\n  \"rows\": 100000,\n  \"fields\": [\n    {\n      \"column\": \"gender\",\n      \"properties\": {\n        \"dtype\": \"category\",\n        \"num_unique_values\": 3,\n        \"samples\": [\n          \"Female\",\n          \"Male\",\n          \"Other\"\n        ],\n        \"semantic_type\": \"\",\n        \"description\": \"\"\n      }\n    },\n    {\n      \"column\": \"age\",\n      \"properties\": {\n        \"dtype\": \"number\",\n        \"std\": 22.516839871617023,\n        \"min\": 0.08,\n        \"max\": 80.0,\n        \"num_unique_values\": 102,\n        \"samples\": [\n          29.0,\n          39.0,\n          16.0\n        ],\n        \"semantic_type\": \"\",\n        \"description\": \"\"\n      }\n    },\n    {\n      \"column\": \"hypertension\",\n      \"properties\": {\n        \"dtype\": \"number\",\n        \"std\": 0,\n        \"min\": 0,\n        \"max\": 1,\n        \"num_unique_values\": 2,\n        \"samples\": [\n          1,\n          0\n        ],\n        \"semantic_type\": \"\",\n        \"description\": \"\"\n      }\n    },\n    {\n      \"column\": \"heart_disease\",\n      \"properties\": {\n        \"dtype\": \"number\",\n        \"std\": 0,\n        \"min\": 0,\n        \"max\": 1,\n        \"num_unique_values\": 2,\n        \"samples\": [\n          0,\n          1\n        ],\n        \"semantic_type\": \"\",\n        \"description\": \"\"\n      }\n    },\n    {\n      \"column\": \"smoking_history\",\n      \"properties\": {\n        \"dtype\": \"category\",\n        \"num_unique_values\": 6,\n        \"samples\": [\n          \"never\",\n          \"No Info\"\n        ],\n        \"semantic_type\": \"\",\n        \"description\": \"\"\n      }\n    },\n    {\n      \"column\": \"bmi\",\n      \"properties\": {\n        \"dtype\": \"number\",\n        \"std\": 6.636783416648369,\n        \"min\": 10.01,\n        \"max\": 95.69,\n        \"num_unique_values\": 4247,\n        \"samples\": [\n          53.27,\n          32.33\n        ],\n        \"semantic_type\": \"\",\n        \"description\": \"\"\n      }\n    },\n    {\n      \"column\": \"HbA1c_level\",\n      \"properties\": {\n        \"dtype\": \"number\",\n        \"std\": 1.0706720918835437,\n        \"min\": 3.5,\n        \"max\": 9.0,\n        \"num_unique_values\": 18,\n        \"samples\": [\n          6.6,\n          5.7\n        ],\n        \"semantic_type\": \"\",\n        \"description\": \"\"\n      }\n    },\n    {\n      \"column\": \"blood_glucose_level\",\n      \"properties\": {\n        \"dtype\": \"number\",\n        \"std\": 40,\n        \"min\": 80,\n        \"max\": 300,\n        \"num_unique_values\": 18,\n        \"samples\": [\n          140,\n          80\n        ],\n        \"semantic_type\": \"\",\n        \"description\": \"\"\n      }\n    },\n    {\n      \"column\": \"diabetes\",\n      \"properties\": {\n        \"dtype\": \"number\",\n        \"std\": 0,\n        \"min\": 0,\n        \"max\": 1,\n        \"num_unique_values\": 2,\n        \"samples\": [\n          1,\n          0\n        ],\n        \"semantic_type\": \"\",\n        \"description\": \"\"\n      }\n    }\n  ]\n}"
            }
          },
          "metadata": {},
          "execution_count": 150
        }
      ]
    },
    {
      "cell_type": "code",
      "source": [
        "df.shape"
      ],
      "metadata": {
        "colab": {
          "base_uri": "https://localhost:8080/"
        },
        "id": "lo-JTzNwypSv",
        "outputId": "fd43da08-8b6f-4d59-ff62-02cf6b697afa"
      },
      "execution_count": null,
      "outputs": [
        {
          "output_type": "execute_result",
          "data": {
            "text/plain": [
              "(100000, 9)"
            ]
          },
          "metadata": {},
          "execution_count": 151
        }
      ]
    },
    {
      "cell_type": "code",
      "source": [
        "# Concatenates data types, unique values, and percentage of NaN values\n",
        "info = pd.concat([df.dtypes, df.nunique(), df.isnull().sum()*100/len(df)], axis=1)\n",
        "info.columns = ['dtypes', 'nunique', 'nan %']\n",
        "info"
      ],
      "metadata": {
        "colab": {
          "base_uri": "https://localhost:8080/",
          "height": 332
        },
        "id": "wu5kUm-XxXYA",
        "outputId": "91517960-77a3-4dbc-a665-ffbbeaada011"
      },
      "execution_count": null,
      "outputs": [
        {
          "output_type": "execute_result",
          "data": {
            "text/plain": [
              "                      dtypes  nunique  nan %\n",
              "gender                object        3    0.0\n",
              "age                  float64      102    0.0\n",
              "hypertension           int64        2    0.0\n",
              "heart_disease          int64        2    0.0\n",
              "smoking_history       object        6    0.0\n",
              "bmi                  float64     4247    0.0\n",
              "HbA1c_level          float64       18    0.0\n",
              "blood_glucose_level    int64       18    0.0\n",
              "diabetes               int64        2    0.0"
            ],
            "text/html": [
              "\n",
              "  <div id=\"df-bc216ee0-8759-45fb-9ed3-8bfb7d5a4476\" class=\"colab-df-container\">\n",
              "    <div>\n",
              "<style scoped>\n",
              "    .dataframe tbody tr th:only-of-type {\n",
              "        vertical-align: middle;\n",
              "    }\n",
              "\n",
              "    .dataframe tbody tr th {\n",
              "        vertical-align: top;\n",
              "    }\n",
              "\n",
              "    .dataframe thead th {\n",
              "        text-align: right;\n",
              "    }\n",
              "</style>\n",
              "<table border=\"1\" class=\"dataframe\">\n",
              "  <thead>\n",
              "    <tr style=\"text-align: right;\">\n",
              "      <th></th>\n",
              "      <th>dtypes</th>\n",
              "      <th>nunique</th>\n",
              "      <th>nan %</th>\n",
              "    </tr>\n",
              "  </thead>\n",
              "  <tbody>\n",
              "    <tr>\n",
              "      <th>gender</th>\n",
              "      <td>object</td>\n",
              "      <td>3</td>\n",
              "      <td>0.0</td>\n",
              "    </tr>\n",
              "    <tr>\n",
              "      <th>age</th>\n",
              "      <td>float64</td>\n",
              "      <td>102</td>\n",
              "      <td>0.0</td>\n",
              "    </tr>\n",
              "    <tr>\n",
              "      <th>hypertension</th>\n",
              "      <td>int64</td>\n",
              "      <td>2</td>\n",
              "      <td>0.0</td>\n",
              "    </tr>\n",
              "    <tr>\n",
              "      <th>heart_disease</th>\n",
              "      <td>int64</td>\n",
              "      <td>2</td>\n",
              "      <td>0.0</td>\n",
              "    </tr>\n",
              "    <tr>\n",
              "      <th>smoking_history</th>\n",
              "      <td>object</td>\n",
              "      <td>6</td>\n",
              "      <td>0.0</td>\n",
              "    </tr>\n",
              "    <tr>\n",
              "      <th>bmi</th>\n",
              "      <td>float64</td>\n",
              "      <td>4247</td>\n",
              "      <td>0.0</td>\n",
              "    </tr>\n",
              "    <tr>\n",
              "      <th>HbA1c_level</th>\n",
              "      <td>float64</td>\n",
              "      <td>18</td>\n",
              "      <td>0.0</td>\n",
              "    </tr>\n",
              "    <tr>\n",
              "      <th>blood_glucose_level</th>\n",
              "      <td>int64</td>\n",
              "      <td>18</td>\n",
              "      <td>0.0</td>\n",
              "    </tr>\n",
              "    <tr>\n",
              "      <th>diabetes</th>\n",
              "      <td>int64</td>\n",
              "      <td>2</td>\n",
              "      <td>0.0</td>\n",
              "    </tr>\n",
              "  </tbody>\n",
              "</table>\n",
              "</div>\n",
              "    <div class=\"colab-df-buttons\">\n",
              "\n",
              "  <div class=\"colab-df-container\">\n",
              "    <button class=\"colab-df-convert\" onclick=\"convertToInteractive('df-bc216ee0-8759-45fb-9ed3-8bfb7d5a4476')\"\n",
              "            title=\"Convert this dataframe to an interactive table.\"\n",
              "            style=\"display:none;\">\n",
              "\n",
              "  <svg xmlns=\"http://www.w3.org/2000/svg\" height=\"24px\" viewBox=\"0 -960 960 960\">\n",
              "    <path d=\"M120-120v-720h720v720H120Zm60-500h600v-160H180v160Zm220 220h160v-160H400v160Zm0 220h160v-160H400v160ZM180-400h160v-160H180v160Zm440 0h160v-160H620v160ZM180-180h160v-160H180v160Zm440 0h160v-160H620v160Z\"/>\n",
              "  </svg>\n",
              "    </button>\n",
              "\n",
              "  <style>\n",
              "    .colab-df-container {\n",
              "      display:flex;\n",
              "      gap: 12px;\n",
              "    }\n",
              "\n",
              "    .colab-df-convert {\n",
              "      background-color: #E8F0FE;\n",
              "      border: none;\n",
              "      border-radius: 50%;\n",
              "      cursor: pointer;\n",
              "      display: none;\n",
              "      fill: #1967D2;\n",
              "      height: 32px;\n",
              "      padding: 0 0 0 0;\n",
              "      width: 32px;\n",
              "    }\n",
              "\n",
              "    .colab-df-convert:hover {\n",
              "      background-color: #E2EBFA;\n",
              "      box-shadow: 0px 1px 2px rgba(60, 64, 67, 0.3), 0px 1px 3px 1px rgba(60, 64, 67, 0.15);\n",
              "      fill: #174EA6;\n",
              "    }\n",
              "\n",
              "    .colab-df-buttons div {\n",
              "      margin-bottom: 4px;\n",
              "    }\n",
              "\n",
              "    [theme=dark] .colab-df-convert {\n",
              "      background-color: #3B4455;\n",
              "      fill: #D2E3FC;\n",
              "    }\n",
              "\n",
              "    [theme=dark] .colab-df-convert:hover {\n",
              "      background-color: #434B5C;\n",
              "      box-shadow: 0px 1px 3px 1px rgba(0, 0, 0, 0.15);\n",
              "      filter: drop-shadow(0px 1px 2px rgba(0, 0, 0, 0.3));\n",
              "      fill: #FFFFFF;\n",
              "    }\n",
              "  </style>\n",
              "\n",
              "    <script>\n",
              "      const buttonEl =\n",
              "        document.querySelector('#df-bc216ee0-8759-45fb-9ed3-8bfb7d5a4476 button.colab-df-convert');\n",
              "      buttonEl.style.display =\n",
              "        google.colab.kernel.accessAllowed ? 'block' : 'none';\n",
              "\n",
              "      async function convertToInteractive(key) {\n",
              "        const element = document.querySelector('#df-bc216ee0-8759-45fb-9ed3-8bfb7d5a4476');\n",
              "        const dataTable =\n",
              "          await google.colab.kernel.invokeFunction('convertToInteractive',\n",
              "                                                    [key], {});\n",
              "        if (!dataTable) return;\n",
              "\n",
              "        const docLinkHtml = 'Like what you see? Visit the ' +\n",
              "          '<a target=\"_blank\" href=https://colab.research.google.com/notebooks/data_table.ipynb>data table notebook</a>'\n",
              "          + ' to learn more about interactive tables.';\n",
              "        element.innerHTML = '';\n",
              "        dataTable['output_type'] = 'display_data';\n",
              "        await google.colab.output.renderOutput(dataTable, element);\n",
              "        const docLink = document.createElement('div');\n",
              "        docLink.innerHTML = docLinkHtml;\n",
              "        element.appendChild(docLink);\n",
              "      }\n",
              "    </script>\n",
              "  </div>\n",
              "\n",
              "\n",
              "<div id=\"df-46b1b51c-fdca-45b8-9d89-c9d479547030\">\n",
              "  <button class=\"colab-df-quickchart\" onclick=\"quickchart('df-46b1b51c-fdca-45b8-9d89-c9d479547030')\"\n",
              "            title=\"Suggest charts\"\n",
              "            style=\"display:none;\">\n",
              "\n",
              "<svg xmlns=\"http://www.w3.org/2000/svg\" height=\"24px\"viewBox=\"0 0 24 24\"\n",
              "     width=\"24px\">\n",
              "    <g>\n",
              "        <path d=\"M19 3H5c-1.1 0-2 .9-2 2v14c0 1.1.9 2 2 2h14c1.1 0 2-.9 2-2V5c0-1.1-.9-2-2-2zM9 17H7v-7h2v7zm4 0h-2V7h2v10zm4 0h-2v-4h2v4z\"/>\n",
              "    </g>\n",
              "</svg>\n",
              "  </button>\n",
              "\n",
              "<style>\n",
              "  .colab-df-quickchart {\n",
              "      --bg-color: #E8F0FE;\n",
              "      --fill-color: #1967D2;\n",
              "      --hover-bg-color: #E2EBFA;\n",
              "      --hover-fill-color: #174EA6;\n",
              "      --disabled-fill-color: #AAA;\n",
              "      --disabled-bg-color: #DDD;\n",
              "  }\n",
              "\n",
              "  [theme=dark] .colab-df-quickchart {\n",
              "      --bg-color: #3B4455;\n",
              "      --fill-color: #D2E3FC;\n",
              "      --hover-bg-color: #434B5C;\n",
              "      --hover-fill-color: #FFFFFF;\n",
              "      --disabled-bg-color: #3B4455;\n",
              "      --disabled-fill-color: #666;\n",
              "  }\n",
              "\n",
              "  .colab-df-quickchart {\n",
              "    background-color: var(--bg-color);\n",
              "    border: none;\n",
              "    border-radius: 50%;\n",
              "    cursor: pointer;\n",
              "    display: none;\n",
              "    fill: var(--fill-color);\n",
              "    height: 32px;\n",
              "    padding: 0;\n",
              "    width: 32px;\n",
              "  }\n",
              "\n",
              "  .colab-df-quickchart:hover {\n",
              "    background-color: var(--hover-bg-color);\n",
              "    box-shadow: 0 1px 2px rgba(60, 64, 67, 0.3), 0 1px 3px 1px rgba(60, 64, 67, 0.15);\n",
              "    fill: var(--button-hover-fill-color);\n",
              "  }\n",
              "\n",
              "  .colab-df-quickchart-complete:disabled,\n",
              "  .colab-df-quickchart-complete:disabled:hover {\n",
              "    background-color: var(--disabled-bg-color);\n",
              "    fill: var(--disabled-fill-color);\n",
              "    box-shadow: none;\n",
              "  }\n",
              "\n",
              "  .colab-df-spinner {\n",
              "    border: 2px solid var(--fill-color);\n",
              "    border-color: transparent;\n",
              "    border-bottom-color: var(--fill-color);\n",
              "    animation:\n",
              "      spin 1s steps(1) infinite;\n",
              "  }\n",
              "\n",
              "  @keyframes spin {\n",
              "    0% {\n",
              "      border-color: transparent;\n",
              "      border-bottom-color: var(--fill-color);\n",
              "      border-left-color: var(--fill-color);\n",
              "    }\n",
              "    20% {\n",
              "      border-color: transparent;\n",
              "      border-left-color: var(--fill-color);\n",
              "      border-top-color: var(--fill-color);\n",
              "    }\n",
              "    30% {\n",
              "      border-color: transparent;\n",
              "      border-left-color: var(--fill-color);\n",
              "      border-top-color: var(--fill-color);\n",
              "      border-right-color: var(--fill-color);\n",
              "    }\n",
              "    40% {\n",
              "      border-color: transparent;\n",
              "      border-right-color: var(--fill-color);\n",
              "      border-top-color: var(--fill-color);\n",
              "    }\n",
              "    60% {\n",
              "      border-color: transparent;\n",
              "      border-right-color: var(--fill-color);\n",
              "    }\n",
              "    80% {\n",
              "      border-color: transparent;\n",
              "      border-right-color: var(--fill-color);\n",
              "      border-bottom-color: var(--fill-color);\n",
              "    }\n",
              "    90% {\n",
              "      border-color: transparent;\n",
              "      border-bottom-color: var(--fill-color);\n",
              "    }\n",
              "  }\n",
              "</style>\n",
              "\n",
              "  <script>\n",
              "    async function quickchart(key) {\n",
              "      const quickchartButtonEl =\n",
              "        document.querySelector('#' + key + ' button');\n",
              "      quickchartButtonEl.disabled = true;  // To prevent multiple clicks.\n",
              "      quickchartButtonEl.classList.add('colab-df-spinner');\n",
              "      try {\n",
              "        const charts = await google.colab.kernel.invokeFunction(\n",
              "            'suggestCharts', [key], {});\n",
              "      } catch (error) {\n",
              "        console.error('Error during call to suggestCharts:', error);\n",
              "      }\n",
              "      quickchartButtonEl.classList.remove('colab-df-spinner');\n",
              "      quickchartButtonEl.classList.add('colab-df-quickchart-complete');\n",
              "    }\n",
              "    (() => {\n",
              "      let quickchartButtonEl =\n",
              "        document.querySelector('#df-46b1b51c-fdca-45b8-9d89-c9d479547030 button');\n",
              "      quickchartButtonEl.style.display =\n",
              "        google.colab.kernel.accessAllowed ? 'block' : 'none';\n",
              "    })();\n",
              "  </script>\n",
              "</div>\n",
              "    </div>\n",
              "  </div>\n"
            ],
            "application/vnd.google.colaboratory.intrinsic+json": {
              "type": "dataframe",
              "variable_name": "info",
              "summary": "{\n  \"name\": \"info\",\n  \"rows\": 9,\n  \"fields\": [\n    {\n      \"column\": \"dtypes\",\n      \"properties\": {\n        \"dtype\": \"category\",\n        \"num_unique_values\": 3,\n        \"samples\": [\n          \"object\",\n          \"float64\",\n          \"int64\"\n        ],\n        \"semantic_type\": \"\",\n        \"description\": \"\"\n      }\n    },\n    {\n      \"column\": \"nunique\",\n      \"properties\": {\n        \"dtype\": \"number\",\n        \"std\": 1409,\n        \"min\": 2,\n        \"max\": 4247,\n        \"num_unique_values\": 6,\n        \"samples\": [\n          3,\n          102,\n          18\n        ],\n        \"semantic_type\": \"\",\n        \"description\": \"\"\n      }\n    },\n    {\n      \"column\": \"nan %\",\n      \"properties\": {\n        \"dtype\": \"number\",\n        \"std\": 0.0,\n        \"min\": 0.0,\n        \"max\": 0.0,\n        \"num_unique_values\": 1,\n        \"samples\": [\n          0.0\n        ],\n        \"semantic_type\": \"\",\n        \"description\": \"\"\n      }\n    }\n  ]\n}"
            }
          },
          "metadata": {},
          "execution_count": 152
        }
      ]
    },
    {
      "cell_type": "code",
      "source": [
        "df.describe().transpose()"
      ],
      "metadata": {
        "colab": {
          "base_uri": "https://localhost:8080/",
          "height": 269
        },
        "id": "RS0t31S7x8M7",
        "outputId": "b5a8bbc2-ffdb-4bd1-8991-f7e2afb7667d"
      },
      "execution_count": null,
      "outputs": [
        {
          "output_type": "execute_result",
          "data": {
            "text/plain": [
              "                        count        mean        std    min     25%     50%  \\\n",
              "age                  100000.0   41.885856  22.516840   0.08   24.00   43.00   \n",
              "hypertension         100000.0    0.074850   0.263150   0.00    0.00    0.00   \n",
              "heart_disease        100000.0    0.039420   0.194593   0.00    0.00    0.00   \n",
              "bmi                  100000.0   27.320767   6.636783  10.01   23.63   27.32   \n",
              "HbA1c_level          100000.0    5.527507   1.070672   3.50    4.80    5.80   \n",
              "blood_glucose_level  100000.0  138.058060  40.708136  80.00  100.00  140.00   \n",
              "diabetes             100000.0    0.085000   0.278883   0.00    0.00    0.00   \n",
              "\n",
              "                        75%     max  \n",
              "age                   60.00   80.00  \n",
              "hypertension           0.00    1.00  \n",
              "heart_disease          0.00    1.00  \n",
              "bmi                   29.58   95.69  \n",
              "HbA1c_level            6.20    9.00  \n",
              "blood_glucose_level  159.00  300.00  \n",
              "diabetes               0.00    1.00  "
            ],
            "text/html": [
              "\n",
              "  <div id=\"df-962d55cb-7bff-413b-95b3-96053e8252d4\" class=\"colab-df-container\">\n",
              "    <div>\n",
              "<style scoped>\n",
              "    .dataframe tbody tr th:only-of-type {\n",
              "        vertical-align: middle;\n",
              "    }\n",
              "\n",
              "    .dataframe tbody tr th {\n",
              "        vertical-align: top;\n",
              "    }\n",
              "\n",
              "    .dataframe thead th {\n",
              "        text-align: right;\n",
              "    }\n",
              "</style>\n",
              "<table border=\"1\" class=\"dataframe\">\n",
              "  <thead>\n",
              "    <tr style=\"text-align: right;\">\n",
              "      <th></th>\n",
              "      <th>count</th>\n",
              "      <th>mean</th>\n",
              "      <th>std</th>\n",
              "      <th>min</th>\n",
              "      <th>25%</th>\n",
              "      <th>50%</th>\n",
              "      <th>75%</th>\n",
              "      <th>max</th>\n",
              "    </tr>\n",
              "  </thead>\n",
              "  <tbody>\n",
              "    <tr>\n",
              "      <th>age</th>\n",
              "      <td>100000.0</td>\n",
              "      <td>41.885856</td>\n",
              "      <td>22.516840</td>\n",
              "      <td>0.08</td>\n",
              "      <td>24.00</td>\n",
              "      <td>43.00</td>\n",
              "      <td>60.00</td>\n",
              "      <td>80.00</td>\n",
              "    </tr>\n",
              "    <tr>\n",
              "      <th>hypertension</th>\n",
              "      <td>100000.0</td>\n",
              "      <td>0.074850</td>\n",
              "      <td>0.263150</td>\n",
              "      <td>0.00</td>\n",
              "      <td>0.00</td>\n",
              "      <td>0.00</td>\n",
              "      <td>0.00</td>\n",
              "      <td>1.00</td>\n",
              "    </tr>\n",
              "    <tr>\n",
              "      <th>heart_disease</th>\n",
              "      <td>100000.0</td>\n",
              "      <td>0.039420</td>\n",
              "      <td>0.194593</td>\n",
              "      <td>0.00</td>\n",
              "      <td>0.00</td>\n",
              "      <td>0.00</td>\n",
              "      <td>0.00</td>\n",
              "      <td>1.00</td>\n",
              "    </tr>\n",
              "    <tr>\n",
              "      <th>bmi</th>\n",
              "      <td>100000.0</td>\n",
              "      <td>27.320767</td>\n",
              "      <td>6.636783</td>\n",
              "      <td>10.01</td>\n",
              "      <td>23.63</td>\n",
              "      <td>27.32</td>\n",
              "      <td>29.58</td>\n",
              "      <td>95.69</td>\n",
              "    </tr>\n",
              "    <tr>\n",
              "      <th>HbA1c_level</th>\n",
              "      <td>100000.0</td>\n",
              "      <td>5.527507</td>\n",
              "      <td>1.070672</td>\n",
              "      <td>3.50</td>\n",
              "      <td>4.80</td>\n",
              "      <td>5.80</td>\n",
              "      <td>6.20</td>\n",
              "      <td>9.00</td>\n",
              "    </tr>\n",
              "    <tr>\n",
              "      <th>blood_glucose_level</th>\n",
              "      <td>100000.0</td>\n",
              "      <td>138.058060</td>\n",
              "      <td>40.708136</td>\n",
              "      <td>80.00</td>\n",
              "      <td>100.00</td>\n",
              "      <td>140.00</td>\n",
              "      <td>159.00</td>\n",
              "      <td>300.00</td>\n",
              "    </tr>\n",
              "    <tr>\n",
              "      <th>diabetes</th>\n",
              "      <td>100000.0</td>\n",
              "      <td>0.085000</td>\n",
              "      <td>0.278883</td>\n",
              "      <td>0.00</td>\n",
              "      <td>0.00</td>\n",
              "      <td>0.00</td>\n",
              "      <td>0.00</td>\n",
              "      <td>1.00</td>\n",
              "    </tr>\n",
              "  </tbody>\n",
              "</table>\n",
              "</div>\n",
              "    <div class=\"colab-df-buttons\">\n",
              "\n",
              "  <div class=\"colab-df-container\">\n",
              "    <button class=\"colab-df-convert\" onclick=\"convertToInteractive('df-962d55cb-7bff-413b-95b3-96053e8252d4')\"\n",
              "            title=\"Convert this dataframe to an interactive table.\"\n",
              "            style=\"display:none;\">\n",
              "\n",
              "  <svg xmlns=\"http://www.w3.org/2000/svg\" height=\"24px\" viewBox=\"0 -960 960 960\">\n",
              "    <path d=\"M120-120v-720h720v720H120Zm60-500h600v-160H180v160Zm220 220h160v-160H400v160Zm0 220h160v-160H400v160ZM180-400h160v-160H180v160Zm440 0h160v-160H620v160ZM180-180h160v-160H180v160Zm440 0h160v-160H620v160Z\"/>\n",
              "  </svg>\n",
              "    </button>\n",
              "\n",
              "  <style>\n",
              "    .colab-df-container {\n",
              "      display:flex;\n",
              "      gap: 12px;\n",
              "    }\n",
              "\n",
              "    .colab-df-convert {\n",
              "      background-color: #E8F0FE;\n",
              "      border: none;\n",
              "      border-radius: 50%;\n",
              "      cursor: pointer;\n",
              "      display: none;\n",
              "      fill: #1967D2;\n",
              "      height: 32px;\n",
              "      padding: 0 0 0 0;\n",
              "      width: 32px;\n",
              "    }\n",
              "\n",
              "    .colab-df-convert:hover {\n",
              "      background-color: #E2EBFA;\n",
              "      box-shadow: 0px 1px 2px rgba(60, 64, 67, 0.3), 0px 1px 3px 1px rgba(60, 64, 67, 0.15);\n",
              "      fill: #174EA6;\n",
              "    }\n",
              "\n",
              "    .colab-df-buttons div {\n",
              "      margin-bottom: 4px;\n",
              "    }\n",
              "\n",
              "    [theme=dark] .colab-df-convert {\n",
              "      background-color: #3B4455;\n",
              "      fill: #D2E3FC;\n",
              "    }\n",
              "\n",
              "    [theme=dark] .colab-df-convert:hover {\n",
              "      background-color: #434B5C;\n",
              "      box-shadow: 0px 1px 3px 1px rgba(0, 0, 0, 0.15);\n",
              "      filter: drop-shadow(0px 1px 2px rgba(0, 0, 0, 0.3));\n",
              "      fill: #FFFFFF;\n",
              "    }\n",
              "  </style>\n",
              "\n",
              "    <script>\n",
              "      const buttonEl =\n",
              "        document.querySelector('#df-962d55cb-7bff-413b-95b3-96053e8252d4 button.colab-df-convert');\n",
              "      buttonEl.style.display =\n",
              "        google.colab.kernel.accessAllowed ? 'block' : 'none';\n",
              "\n",
              "      async function convertToInteractive(key) {\n",
              "        const element = document.querySelector('#df-962d55cb-7bff-413b-95b3-96053e8252d4');\n",
              "        const dataTable =\n",
              "          await google.colab.kernel.invokeFunction('convertToInteractive',\n",
              "                                                    [key], {});\n",
              "        if (!dataTable) return;\n",
              "\n",
              "        const docLinkHtml = 'Like what you see? Visit the ' +\n",
              "          '<a target=\"_blank\" href=https://colab.research.google.com/notebooks/data_table.ipynb>data table notebook</a>'\n",
              "          + ' to learn more about interactive tables.';\n",
              "        element.innerHTML = '';\n",
              "        dataTable['output_type'] = 'display_data';\n",
              "        await google.colab.output.renderOutput(dataTable, element);\n",
              "        const docLink = document.createElement('div');\n",
              "        docLink.innerHTML = docLinkHtml;\n",
              "        element.appendChild(docLink);\n",
              "      }\n",
              "    </script>\n",
              "  </div>\n",
              "\n",
              "\n",
              "<div id=\"df-be232320-2941-40f3-b3e9-99de2e679769\">\n",
              "  <button class=\"colab-df-quickchart\" onclick=\"quickchart('df-be232320-2941-40f3-b3e9-99de2e679769')\"\n",
              "            title=\"Suggest charts\"\n",
              "            style=\"display:none;\">\n",
              "\n",
              "<svg xmlns=\"http://www.w3.org/2000/svg\" height=\"24px\"viewBox=\"0 0 24 24\"\n",
              "     width=\"24px\">\n",
              "    <g>\n",
              "        <path d=\"M19 3H5c-1.1 0-2 .9-2 2v14c0 1.1.9 2 2 2h14c1.1 0 2-.9 2-2V5c0-1.1-.9-2-2-2zM9 17H7v-7h2v7zm4 0h-2V7h2v10zm4 0h-2v-4h2v4z\"/>\n",
              "    </g>\n",
              "</svg>\n",
              "  </button>\n",
              "\n",
              "<style>\n",
              "  .colab-df-quickchart {\n",
              "      --bg-color: #E8F0FE;\n",
              "      --fill-color: #1967D2;\n",
              "      --hover-bg-color: #E2EBFA;\n",
              "      --hover-fill-color: #174EA6;\n",
              "      --disabled-fill-color: #AAA;\n",
              "      --disabled-bg-color: #DDD;\n",
              "  }\n",
              "\n",
              "  [theme=dark] .colab-df-quickchart {\n",
              "      --bg-color: #3B4455;\n",
              "      --fill-color: #D2E3FC;\n",
              "      --hover-bg-color: #434B5C;\n",
              "      --hover-fill-color: #FFFFFF;\n",
              "      --disabled-bg-color: #3B4455;\n",
              "      --disabled-fill-color: #666;\n",
              "  }\n",
              "\n",
              "  .colab-df-quickchart {\n",
              "    background-color: var(--bg-color);\n",
              "    border: none;\n",
              "    border-radius: 50%;\n",
              "    cursor: pointer;\n",
              "    display: none;\n",
              "    fill: var(--fill-color);\n",
              "    height: 32px;\n",
              "    padding: 0;\n",
              "    width: 32px;\n",
              "  }\n",
              "\n",
              "  .colab-df-quickchart:hover {\n",
              "    background-color: var(--hover-bg-color);\n",
              "    box-shadow: 0 1px 2px rgba(60, 64, 67, 0.3), 0 1px 3px 1px rgba(60, 64, 67, 0.15);\n",
              "    fill: var(--button-hover-fill-color);\n",
              "  }\n",
              "\n",
              "  .colab-df-quickchart-complete:disabled,\n",
              "  .colab-df-quickchart-complete:disabled:hover {\n",
              "    background-color: var(--disabled-bg-color);\n",
              "    fill: var(--disabled-fill-color);\n",
              "    box-shadow: none;\n",
              "  }\n",
              "\n",
              "  .colab-df-spinner {\n",
              "    border: 2px solid var(--fill-color);\n",
              "    border-color: transparent;\n",
              "    border-bottom-color: var(--fill-color);\n",
              "    animation:\n",
              "      spin 1s steps(1) infinite;\n",
              "  }\n",
              "\n",
              "  @keyframes spin {\n",
              "    0% {\n",
              "      border-color: transparent;\n",
              "      border-bottom-color: var(--fill-color);\n",
              "      border-left-color: var(--fill-color);\n",
              "    }\n",
              "    20% {\n",
              "      border-color: transparent;\n",
              "      border-left-color: var(--fill-color);\n",
              "      border-top-color: var(--fill-color);\n",
              "    }\n",
              "    30% {\n",
              "      border-color: transparent;\n",
              "      border-left-color: var(--fill-color);\n",
              "      border-top-color: var(--fill-color);\n",
              "      border-right-color: var(--fill-color);\n",
              "    }\n",
              "    40% {\n",
              "      border-color: transparent;\n",
              "      border-right-color: var(--fill-color);\n",
              "      border-top-color: var(--fill-color);\n",
              "    }\n",
              "    60% {\n",
              "      border-color: transparent;\n",
              "      border-right-color: var(--fill-color);\n",
              "    }\n",
              "    80% {\n",
              "      border-color: transparent;\n",
              "      border-right-color: var(--fill-color);\n",
              "      border-bottom-color: var(--fill-color);\n",
              "    }\n",
              "    90% {\n",
              "      border-color: transparent;\n",
              "      border-bottom-color: var(--fill-color);\n",
              "    }\n",
              "  }\n",
              "</style>\n",
              "\n",
              "  <script>\n",
              "    async function quickchart(key) {\n",
              "      const quickchartButtonEl =\n",
              "        document.querySelector('#' + key + ' button');\n",
              "      quickchartButtonEl.disabled = true;  // To prevent multiple clicks.\n",
              "      quickchartButtonEl.classList.add('colab-df-spinner');\n",
              "      try {\n",
              "        const charts = await google.colab.kernel.invokeFunction(\n",
              "            'suggestCharts', [key], {});\n",
              "      } catch (error) {\n",
              "        console.error('Error during call to suggestCharts:', error);\n",
              "      }\n",
              "      quickchartButtonEl.classList.remove('colab-df-spinner');\n",
              "      quickchartButtonEl.classList.add('colab-df-quickchart-complete');\n",
              "    }\n",
              "    (() => {\n",
              "      let quickchartButtonEl =\n",
              "        document.querySelector('#df-be232320-2941-40f3-b3e9-99de2e679769 button');\n",
              "      quickchartButtonEl.style.display =\n",
              "        google.colab.kernel.accessAllowed ? 'block' : 'none';\n",
              "    })();\n",
              "  </script>\n",
              "</div>\n",
              "    </div>\n",
              "  </div>\n"
            ],
            "application/vnd.google.colaboratory.intrinsic+json": {
              "type": "dataframe",
              "summary": "{\n  \"name\": \"df\",\n  \"rows\": 7,\n  \"fields\": [\n    {\n      \"column\": \"count\",\n      \"properties\": {\n        \"dtype\": \"number\",\n        \"std\": 0.0,\n        \"min\": 100000.0,\n        \"max\": 100000.0,\n        \"num_unique_values\": 1,\n        \"samples\": [\n          100000.0\n        ],\n        \"semantic_type\": \"\",\n        \"description\": \"\"\n      }\n    },\n    {\n      \"column\": \"mean\",\n      \"properties\": {\n        \"dtype\": \"number\",\n        \"std\": 50.184125782051744,\n        \"min\": 0.03942,\n        \"max\": 138.05806,\n        \"num_unique_values\": 7,\n        \"samples\": [\n          41.885856\n        ],\n        \"semantic_type\": \"\",\n        \"description\": \"\"\n      }\n    },\n    {\n      \"column\": \"std\",\n      \"properties\": {\n        \"dtype\": \"number\",\n        \"std\": 15.683108835825339,\n        \"min\": 0.1945930169980995,\n        \"max\": 40.708136048704134,\n        \"num_unique_values\": 7,\n        \"samples\": [\n          22.516839871617023\n        ],\n        \"semantic_type\": \"\",\n        \"description\": \"\"\n      }\n    },\n    {\n      \"column\": \"min\",\n      \"properties\": {\n        \"dtype\": \"number\",\n        \"std\": 29.611816897988547,\n        \"min\": 0.0,\n        \"max\": 80.0,\n        \"num_unique_values\": 5,\n        \"samples\": [\n          0.0\n        ],\n        \"semantic_type\": \"\",\n        \"description\": \"\"\n      }\n    },\n    {\n      \"column\": \"25%\",\n      \"properties\": {\n        \"dtype\": \"number\",\n        \"std\": 36.143567365504495,\n        \"min\": 0.0,\n        \"max\": 100.0,\n        \"num_unique_values\": 5,\n        \"samples\": [\n          0.0\n        ],\n        \"semantic_type\": \"\",\n        \"description\": \"\"\n      }\n    },\n    {\n      \"column\": \"50%\",\n      \"properties\": {\n        \"dtype\": \"number\",\n        \"std\": 50.919007209863146,\n        \"min\": 0.0,\n        \"max\": 140.0,\n        \"num_unique_values\": 5,\n        \"samples\": [\n          0.0\n        ],\n        \"semantic_type\": \"\",\n        \"description\": \"\"\n      }\n    },\n    {\n      \"column\": \"75%\",\n      \"properties\": {\n        \"dtype\": \"number\",\n        \"std\": 58.48240809972566,\n        \"min\": 0.0,\n        \"max\": 159.0,\n        \"num_unique_values\": 5,\n        \"samples\": [\n          0.0\n        ],\n        \"semantic_type\": \"\",\n        \"description\": \"\"\n      }\n    },\n    {\n      \"column\": \"max\",\n      \"properties\": {\n        \"dtype\": \"number\",\n        \"std\": 109.28800925383656,\n        \"min\": 1.0,\n        \"max\": 300.0,\n        \"num_unique_values\": 5,\n        \"samples\": [\n          1.0\n        ],\n        \"semantic_type\": \"\",\n        \"description\": \"\"\n      }\n    }\n  ]\n}"
            }
          },
          "metadata": {},
          "execution_count": 153
        }
      ]
    },
    {
      "cell_type": "code",
      "source": [
        "df.info()"
      ],
      "metadata": {
        "colab": {
          "base_uri": "https://localhost:8080/"
        },
        "id": "_O-MY75LI5W8",
        "outputId": "dcf940f0-34eb-47a2-e3af-26d87f9cbf59"
      },
      "execution_count": null,
      "outputs": [
        {
          "output_type": "stream",
          "name": "stdout",
          "text": [
            "<class 'pandas.core.frame.DataFrame'>\n",
            "RangeIndex: 100000 entries, 0 to 99999\n",
            "Data columns (total 9 columns):\n",
            " #   Column               Non-Null Count   Dtype  \n",
            "---  ------               --------------   -----  \n",
            " 0   gender               100000 non-null  object \n",
            " 1   age                  100000 non-null  float64\n",
            " 2   hypertension         100000 non-null  int64  \n",
            " 3   heart_disease        100000 non-null  int64  \n",
            " 4   smoking_history      100000 non-null  object \n",
            " 5   bmi                  100000 non-null  float64\n",
            " 6   HbA1c_level          100000 non-null  float64\n",
            " 7   blood_glucose_level  100000 non-null  int64  \n",
            " 8   diabetes             100000 non-null  int64  \n",
            "dtypes: float64(3), int64(4), object(2)\n",
            "memory usage: 6.9+ MB\n"
          ]
        }
      ]
    },
    {
      "cell_type": "markdown",
      "source": [
        "## Data Visualization\n",
        "\n",
        "There are several categorical and numerical columns that will be explored from this dataset,\n",
        "\n",
        "### Data Visualization\n",
        "\n",
        "#### Categorical Data:\n",
        "\n",
        "1. **Gender:** Female or Male\n",
        "\n",
        "2. **Hypertension:** Yes (1) or No (0)\n",
        "\n",
        "3. **Heart Disease:** Yes (1) or No (0)\n",
        "\n",
        "4. **Smoking History:**\n",
        "   - Never\n",
        "   - Ever\n",
        "   - Current\n",
        "   - Former\n",
        "   - No Information Available\n",
        "\n",
        "5. **Diabetes:** Yes (1) or No (0)\n",
        "\n",
        "#### Numerical Data:\n",
        "\n",
        "1. **Age**\n",
        "2. **BMI (Body Mass Index)**\n",
        "3. **HbA1c Level**\n",
        "4. **Blood Glucose Level**"
      ],
      "metadata": {
        "id": "jJ4CdJgU2c5D"
      }
    },
    {
      "cell_type": "markdown",
      "source": [
        "### Categorical Data"
      ],
      "metadata": {
        "id": "FCimO-WR_y0y"
      }
    },
    {
      "cell_type": "markdown",
      "source": [
        "#### Gender"
      ],
      "metadata": {
        "id": "uIC5poY-5b83"
      }
    },
    {
      "cell_type": "code",
      "source": [
        "df['gender'].value_counts()"
      ],
      "metadata": {
        "colab": {
          "base_uri": "https://localhost:8080/"
        },
        "id": "I_bC__LH6dYb",
        "outputId": "de080475-977a-48dc-eef4-74376b338beb"
      },
      "execution_count": null,
      "outputs": [
        {
          "output_type": "execute_result",
          "data": {
            "text/plain": [
              "gender\n",
              "Female    58552\n",
              "Male      41430\n",
              "Other        18\n",
              "Name: count, dtype: int64"
            ]
          },
          "metadata": {},
          "execution_count": 155
        }
      ]
    },
    {
      "cell_type": "code",
      "source": [
        "# Plot a count of gender categorized by diabetes status\n",
        "plt.figure(figsize=(5,5))\n",
        "sns.countplot(x='gender', data=df, palette='crest', hue='diabetes').set(title='Count Plot of Gender')\n",
        "plt.show()"
      ],
      "metadata": {
        "colab": {
          "base_uri": "https://localhost:8080/",
          "height": 487
        },
        "id": "OR_0odBC6KTj",
        "outputId": "89fdf772-63ca-425d-b673-494bdd0a4848"
      },
      "execution_count": null,
      "outputs": [
        {
          "output_type": "display_data",
          "data": {
            "text/plain": [
              "<Figure size 500x500 with 1 Axes>"
            ],
            "image/png": "[encoded data removed]"
          },
          "metadata": {}
        }
      ]
    },
    {
      "cell_type": "markdown",
      "source": [
        "#### Hypertension"
      ],
      "metadata": {
        "id": "H2WndeyX9807"
      }
    },
    {
      "cell_type": "code",
      "source": [
        "df['hypertension'].value_counts()"
      ],
      "metadata": {
        "colab": {
          "base_uri": "https://localhost:8080/"
        },
        "id": "qcFLpbTC-A15",
        "outputId": "19e9c788-f28d-444f-8025-d0fc68f75f67"
      },
      "execution_count": null,
      "outputs": [
        {
          "output_type": "execute_result",
          "data": {
            "text/plain": [
              "hypertension\n",
              "0    92515\n",
              "1     7485\n",
              "Name: count, dtype: int64"
            ]
          },
          "metadata": {},
          "execution_count": 157
        }
      ]
    },
    {
      "cell_type": "code",
      "source": [
        "# Plot a count of hypertension cases categorized by diabetes status\n",
        "plt.figure(figsize=(5,5))\n",
        "sns.countplot(x='hypertension', data=df, palette='crest', hue='diabetes').set(title='Count Plot of Hypertension')\n",
        "plt.show()"
      ],
      "metadata": {
        "colab": {
          "base_uri": "https://localhost:8080/",
          "height": 487
        },
        "id": "L_cnWyD4-FkN",
        "outputId": "6e6a0b6d-fdd1-45f0-d386-6f12f9a16ece"
      },
      "execution_count": null,
      "outputs": [
        {
          "output_type": "display_data",
          "data": {
            "text/plain": [
              "<Figure size 500x500 with 1 Axes>"
            ],
            "image/png": "[encoded data removed]"
          },
          "metadata": {}
        }
      ]
    },
    {
      "cell_type": "markdown",
      "source": [
        "#### Heart Disease"
      ],
      "metadata": {
        "id": "ZEmYLCDY-PAO"
      }
    },
    {
      "cell_type": "code",
      "source": [
        "df['heart_disease'].value_counts()"
      ],
      "metadata": {
        "colab": {
          "base_uri": "https://localhost:8080/"
        },
        "id": "j79Cwtm_-mMH",
        "outputId": "b291054a-9c24-4952-f844-40a646955f62"
      },
      "execution_count": null,
      "outputs": [
        {
          "output_type": "execute_result",
          "data": {
            "text/plain": [
              "heart_disease\n",
              "0    96058\n",
              "1     3942\n",
              "Name: count, dtype: int64"
            ]
          },
          "metadata": {},
          "execution_count": 159
        }
      ]
    },
    {
      "cell_type": "code",
      "source": [
        "# Plot a count of heart disease cases categorized by diabetes status\n",
        "plt.figure(figsize=(5,5))\n",
        "sns.countplot(x='heart_disease', data=df, palette='crest', hue='diabetes').set(title='Count Plot of Heart Disease')\n",
        "plt.show()"
      ],
      "metadata": {
        "colab": {
          "base_uri": "https://localhost:8080/",
          "height": 487
        },
        "id": "_LJGI1Ex-OEp",
        "outputId": "1723a262-631b-4d3a-ae81-30035edf6fc3"
      },
      "execution_count": null,
      "outputs": [
        {
          "output_type": "display_data",
          "data": {
            "text/plain": [
              "<Figure size 500x500 with 1 Axes>"
            ],
            "image/png": "[encoded data removed]"
          },
          "metadata": {}
        }
      ]
    },
    {
      "cell_type": "markdown",
      "source": [
        "#### Smoking History"
      ],
      "metadata": {
        "id": "EZvvynQj-bvM"
      }
    },
    {
      "cell_type": "code",
      "source": [
        "df['smoking_history'].value_counts()"
      ],
      "metadata": {
        "colab": {
          "base_uri": "https://localhost:8080/"
        },
        "id": "JLGZkEY6-kOl",
        "outputId": "abbd6da1-49fc-432a-9f3d-5dd73f930f34"
      },
      "execution_count": null,
      "outputs": [
        {
          "output_type": "execute_result",
          "data": {
            "text/plain": [
              "smoking_history\n",
              "No Info        35816\n",
              "never          35095\n",
              "former          9352\n",
              "current         9286\n",
              "not current     6447\n",
              "ever            4004\n",
              "Name: count, dtype: int64"
            ]
          },
          "metadata": {},
          "execution_count": 161
        }
      ]
    },
    {
      "cell_type": "code",
      "source": [
        "# Plot a count of smoking history cases categorized by diabetes status\n",
        "plt.figure(figsize=(7,5))\n",
        "sns.countplot(x='smoking_history', data=df, palette='crest', hue='diabetes').set(title='Count Plot of Smoking History')\n",
        "plt.show()"
      ],
      "metadata": {
        "colab": {
          "base_uri": "https://localhost:8080/",
          "height": 487
        },
        "id": "fwKfll9V-x31",
        "outputId": "9949897b-fe4b-42f5-9681-099699412a18"
      },
      "execution_count": null,
      "outputs": [
        {
          "output_type": "display_data",
          "data": {
            "text/plain": [
              "<Figure size 700x500 with 1 Axes>"
            ],
            "image/png": "[encoded data removed]"
          },
          "metadata": {}
        }
      ]
    },
    {
      "cell_type": "markdown",
      "source": [
        "#### Diabetes"
      ],
      "metadata": {
        "id": "PaTbnY1j-6tX"
      }
    },
    {
      "cell_type": "code",
      "source": [
        "df['diabetes'].value_counts()"
      ],
      "metadata": {
        "colab": {
          "base_uri": "https://localhost:8080/"
        },
        "id": "ILruBW2I-8pG",
        "outputId": "3f1f27ed-1063-4ceb-a1cd-3dfffb1c6a84"
      },
      "execution_count": null,
      "outputs": [
        {
          "output_type": "execute_result",
          "data": {
            "text/plain": [
              "diabetes\n",
              "0    91500\n",
              "1     8500\n",
              "Name: count, dtype: int64"
            ]
          },
          "metadata": {},
          "execution_count": 163
        }
      ]
    },
    {
      "cell_type": "code",
      "source": [
        "# Plot a count distribution of 'diabetes' variable\n",
        "plt.figure(figsize=(4,5))\n",
        "sns.countplot(x='diabetes', data=df, palette='crest').set(title='Count Plot of Diabetes')\n",
        "plt.show()"
      ],
      "metadata": {
        "colab": {
          "base_uri": "https://localhost:8080/",
          "height": 594
        },
        "id": "_WT_mjUO_Alf",
        "outputId": "7afbc63f-ebf2-4509-f0d4-f31412e6f849"
      },
      "execution_count": null,
      "outputs": [
        {
          "output_type": "stream",
          "name": "stderr",
          "text": [
            "<ipython-input-164-f9b670a95ccb>:3: FutureWarning: \n",
            "\n",
            "Passing `palette` without assigning `hue` is deprecated and will be removed in v0.14.0. Assign the `x` variable to `hue` and set `legend=False` for the same effect.\n",
            "\n",
            "  sns.countplot(x='diabetes', data=df, palette='crest').set(title='Count Plot of Diabetes')\n"
          ]
        },
        {
          "output_type": "display_data",
          "data": {
            "text/plain": [
              "<Figure size 400x500 with 1 Axes>"
            ],
            "image/png": "[encoded data removed]"
          },
          "metadata": {}
        }
      ]
    },
    {
      "cell_type": "markdown",
      "source": [
        "Observing the `diabetes` frequency data offered from the dataset, it can be inferred that there's a huge disparity between the number of individuals who are not diabetic and who suffers from diabetes. Consequently, the training model will be biased towards predicting individuals that don't have diabetes and struggles to predict that are diabetic. In the later section of this article, this problem can be tackled with oversampling the training data with SMOTE."
      ],
      "metadata": {
        "id": "EswXpvNHJ_gA"
      }
    },
    {
      "cell_type": "markdown",
      "source": [
        "### Numerical Data"
      ],
      "metadata": {
        "id": "WvfHKDul_5WC"
      }
    },
    {
      "cell_type": "markdown",
      "source": [
        "#### Age"
      ],
      "metadata": {
        "id": "eqjbFlan74SV"
      }
    },
    {
      "cell_type": "code",
      "source": [
        "# Histogram and boxplot for the 'age' variable divided by diabetes status\n",
        "fig, ax = plt.subplots(figsize=(10,5),nrows=1, ncols=2)\n",
        "sns.histplot(data=df,x='age', hue='diabetes',ax=ax[0], palette='crest')\n",
        "sns.boxplot(data=df, y='age', ax=ax[1], palette='crest', width = 0.4)\n",
        "plt.tight_layout()\n",
        "plt.show()"
      ],
      "metadata": {
        "colab": {
          "base_uri": "https://localhost:8080/",
          "height": 601
        },
        "id": "gz8fEG7M79jk",
        "outputId": "83b8896f-a23e-4690-9962-7e5e032ea213"
      },
      "execution_count": null,
      "outputs": [
        {
          "output_type": "stream",
          "name": "stderr",
          "text": [
            "<ipython-input-165-6e0bafb90242>:4: FutureWarning: \n",
            "\n",
            "Passing `palette` without assigning `hue` is deprecated and will be removed in v0.14.0. Assign the `x` variable to `hue` and set `legend=False` for the same effect.\n",
            "\n",
            "  sns.boxplot(data=df, y='age', ax=ax[1], palette='crest', width = 0.4)\n"
          ]
        },
        {
          "output_type": "display_data",
          "data": {
            "text/plain": [
              "<Figure size 1000x500 with 2 Axes>"
            ],
            "image/png": "[encoded data removed]"
          },
          "metadata": {}
        }
      ]
    },
    {
      "cell_type": "markdown",
      "source": [
        "#### BMI"
      ],
      "metadata": {
        "id": "4kRu7ekt_ZjF"
      }
    },
    {
      "cell_type": "code",
      "source": [
        "# Histogram and boxplot for the 'bmi' variable divided by diabetes status\n",
        "fig, ax = plt.subplots(figsize=(10,5),nrows=1, ncols=2)\n",
        "sns.histplot(data=df,x='bmi', hue='diabetes',ax=ax[0], palette='crest', bins=20)\n",
        "sns.boxplot(data=df, y='bmi', ax=ax[1], palette='crest', width = 0.4)\n",
        "plt.tight_layout()\n",
        "plt.show()"
      ],
      "metadata": {
        "colab": {
          "base_uri": "https://localhost:8080/",
          "height": 600
        },
        "id": "mLADv3Wz9GSb",
        "outputId": "9d02d2bb-6b80-4f5b-c8eb-cff144fac110"
      },
      "execution_count": null,
      "outputs": [
        {
          "output_type": "stream",
          "name": "stderr",
          "text": [
            "<ipython-input-166-6cb3792a1228>:4: FutureWarning: \n",
            "\n",
            "Passing `palette` without assigning `hue` is deprecated and will be removed in v0.14.0. Assign the `x` variable to `hue` and set `legend=False` for the same effect.\n",
            "\n",
            "  sns.boxplot(data=df, y='bmi', ax=ax[1], palette='crest', width = 0.4)\n"
          ]
        },
        {
          "output_type": "display_data",
          "data": {
            "text/plain": [
              "<Figure size 1000x500 with 2 Axes>"
            ],
            "image/png": "[encoded data removed]"
          },
          "metadata": {}
        }
      ]
    },
    {
      "cell_type": "markdown",
      "source": [
        "#### HbA1c Level"
      ],
      "metadata": {
        "id": "g4fgi4B0_dvG"
      }
    },
    {
      "cell_type": "code",
      "source": [
        "fig, ax = plt.subplots(figsize=(10,5),nrows=1, ncols=2)\n",
        "sns.histplot(data=df,x='HbA1c_level', hue='diabetes',ax=ax[0], palette='crest', bins=20)\n",
        "sns.boxplot(data=df, y='HbA1c_level', ax=ax[1], palette='crest', width = 0.4)\n",
        "plt.tight_layout()\n",
        "plt.show()"
      ],
      "metadata": {
        "colab": {
          "base_uri": "https://localhost:8080/",
          "height": 601
        },
        "id": "8dtHVbQq9ixt",
        "outputId": "81ad3c47-25e7-4efc-d2b2-732e7a0f1980"
      },
      "execution_count": null,
      "outputs": [
        {
          "output_type": "stream",
          "name": "stderr",
          "text": [
            "<ipython-input-167-34a058518c5f>:3: FutureWarning: \n",
            "\n",
            "Passing `palette` without assigning `hue` is deprecated and will be removed in v0.14.0. Assign the `x` variable to `hue` and set `legend=False` for the same effect.\n",
            "\n",
            "  sns.boxplot(data=df, y='HbA1c_level', ax=ax[1], palette='crest', width = 0.4)\n"
          ]
        },
        {
          "output_type": "display_data",
          "data": {
            "text/plain": [
              "<Figure size 1000x500 with 2 Axes>"
            ],
            "image/png": "[encoded data removed]"
          },
          "metadata": {}
        }
      ]
    },
    {
      "cell_type": "markdown",
      "source": [
        "#### Blood Glucose Level"
      ],
      "metadata": {
        "id": "3FQjDHCQ_iID"
      }
    },
    {
      "cell_type": "code",
      "source": [
        "fig, ax = plt.subplots(figsize=(10,5),nrows=1, ncols=2)\n",
        "sns.histplot(data=df,x='blood_glucose_level', hue='diabetes',ax=ax[0], palette='crest', bins=20)\n",
        "sns.boxplot(data=df, y='blood_glucose_level', ax=ax[1], palette='crest', width = 0.4)\n",
        "plt.tight_layout()\n",
        "plt.show()"
      ],
      "metadata": {
        "colab": {
          "base_uri": "https://localhost:8080/",
          "height": 600
        },
        "id": "kyr86SoN9vS_",
        "outputId": "48e825ab-ae2b-416b-f6e5-5bfe29b5e682"
      },
      "execution_count": null,
      "outputs": [
        {
          "output_type": "stream",
          "name": "stderr",
          "text": [
            "<ipython-input-168-761055bba608>:3: FutureWarning: \n",
            "\n",
            "Passing `palette` without assigning `hue` is deprecated and will be removed in v0.14.0. Assign the `x` variable to `hue` and set `legend=False` for the same effect.\n",
            "\n",
            "  sns.boxplot(data=df, y='blood_glucose_level', ax=ax[1], palette='crest', width = 0.4)\n"
          ]
        },
        {
          "output_type": "display_data",
          "data": {
            "text/plain": [
              "<Figure size 1000x500 with 2 Axes>"
            ],
            "image/png": "[encoded data removed]"
          },
          "metadata": {}
        }
      ]
    },
    {
      "cell_type": "markdown",
      "source": [
        "## Correlation Map\n",
        "\n",
        "Correlation maps will explore relationships within a dataset containing both numerical and categorical features, particularly focusing on diabetes-related factors. `The first correlation graph` presents a comprehensive correlation matrix heatmap depicting correlations among all features, aiding in identifying patterns and associations. `The second correlation graph` specifically highlights correlations of individual features with the target variable, diabetes, providing insights into which factors might have stronger relationships with the presence of diabetes."
      ],
      "metadata": {
        "id": "ZAFBzZ5-Ahqr"
      }
    },
    {
      "cell_type": "code",
      "source": [
        "#  Dataframe with numerical features\n",
        "df_num_features = df[['age', 'bmi', 'HbA1c_level', 'blood_glucose_level', 'diabetes']]\n",
        "\n",
        "# Dataframe with binary features\n",
        "df_bin_features = df[['hypertension','heart_disease']]\n",
        "\n",
        "# Using pandas get_dummies method for the categorical variables\n",
        "df_cat_features_encoded = pd.concat([pd.get_dummies(df[cat_feature],prefix=cat_feature) for cat_feature in df[['gender','smoking_history']].columns.tolist()],axis=1)\n",
        "\n",
        "# Concatenating all dataframes\n",
        "df_all_features = pd.concat([df_num_features, df_bin_features, df_cat_features_encoded], axis=1)\n",
        "\n",
        "df_all_features.head()"
      ],
      "metadata": {
        "colab": {
          "base_uri": "https://localhost:8080/",
          "height": 244
        },
        "id": "kQR3iH3NDk2W",
        "outputId": "b378ad1e-4dad-4478-ad03-4d0715a7ab31"
      },
      "execution_count": null,
      "outputs": [
        {
          "output_type": "execute_result",
          "data": {
            "text/plain": [
              "    age    bmi  HbA1c_level  blood_glucose_level  diabetes  hypertension  \\\n",
              "0  80.0  25.19          6.6                  140         0             0   \n",
              "1  54.0  27.32          6.6                   80         0             0   \n",
              "2  28.0  27.32          5.7                  158         0             0   \n",
              "3  36.0  23.45          5.0                  155         0             0   \n",
              "4  76.0  20.14          4.8                  155         0             1   \n",
              "\n",
              "   heart_disease  gender_Female  gender_Male  gender_Other  \\\n",
              "0              1           True        False         False   \n",
              "1              0           True        False         False   \n",
              "2              0          False         True         False   \n",
              "3              0           True        False         False   \n",
              "4              1          False         True         False   \n",
              "\n",
              "   smoking_history_No Info  smoking_history_current  smoking_history_ever  \\\n",
              "0                    False                    False                 False   \n",
              "1                     True                    False                 False   \n",
              "2                    False                    False                 False   \n",
              "3                    False                     True                 False   \n",
              "4                    False                     True                 False   \n",
              "\n",
              "   smoking_history_former  smoking_history_never  smoking_history_not current  \n",
              "0                   False                   True                        False  \n",
              "1                   False                  False                        False  \n",
              "2                   False                   True                        False  \n",
              "3                   False                  False                        False  \n",
              "4                   False                  False                        False  "
            ],
            "text/html": [
              "\n",
              "  <div id=\"df-e8f3e1c0-0b44-4471-b963-ce6ebf23d65b\" class=\"colab-df-container\">\n",
              "    <div>\n",
              "<style scoped>\n",
              "    .dataframe tbody tr th:only-of-type {\n",
              "        vertical-align: middle;\n",
              "    }\n",
              "\n",
              "    .dataframe tbody tr th {\n",
              "        vertical-align: top;\n",
              "    }\n",
              "\n",
              "    .dataframe thead th {\n",
              "        text-align: right;\n",
              "    }\n",
              "</style>\n",
              "<table border=\"1\" class=\"dataframe\">\n",
              "  <thead>\n",
              "    <tr style=\"text-align: right;\">\n",
              "      <th></th>\n",
              "      <th>age</th>\n",
              "      <th>bmi</th>\n",
              "      <th>HbA1c_level</th>\n",
              "      <th>blood_glucose_level</th>\n",
              "      <th>diabetes</th>\n",
              "      <th>hypertension</th>\n",
              "      <th>heart_disease</th>\n",
              "      <th>gender_Female</th>\n",
              "      <th>gender_Male</th>\n",
              "      <th>gender_Other</th>\n",
              "      <th>smoking_history_No Info</th>\n",
              "      <th>smoking_history_current</th>\n",
              "      <th>smoking_history_ever</th>\n",
              "      <th>smoking_history_former</th>\n",
              "      <th>smoking_history_never</th>\n",
              "      <th>smoking_history_not current</th>\n",
              "    </tr>\n",
              "  </thead>\n",
              "  <tbody>\n",
              "    <tr>\n",
              "      <th>0</th>\n",
              "      <td>80.0</td>\n",
              "      <td>25.19</td>\n",
              "      <td>6.6</td>\n",
              "      <td>140</td>\n",
              "      <td>0</td>\n",
              "      <td>0</td>\n",
              "      <td>1</td>\n",
              "      <td>True</td>\n",
              "      <td>False</td>\n",
              "      <td>False</td>\n",
              "      <td>False</td>\n",
              "      <td>False</td>\n",
              "      <td>False</td>\n",
              "      <td>False</td>\n",
              "      <td>True</td>\n",
              "      <td>False</td>\n",
              "    </tr>\n",
              "    <tr>\n",
              "      <th>1</th>\n",
              "      <td>54.0</td>\n",
              "      <td>27.32</td>\n",
              "      <td>6.6</td>\n",
              "      <td>80</td>\n",
              "      <td>0</td>\n",
              "      <td>0</td>\n",
              "      <td>0</td>\n",
              "      <td>True</td>\n",
              "      <td>False</td>\n",
              "      <td>False</td>\n",
              "      <td>True</td>\n",
              "      <td>False</td>\n",
              "      <td>False</td>\n",
              "      <td>False</td>\n",
              "      <td>False</td>\n",
              "      <td>False</td>\n",
              "    </tr>\n",
              "    <tr>\n",
              "      <th>2</th>\n",
              "      <td>28.0</td>\n",
              "      <td>27.32</td>\n",
              "      <td>5.7</td>\n",
              "      <td>158</td>\n",
              "      <td>0</td>\n",
              "      <td>0</td>\n",
              "      <td>0</td>\n",
              "      <td>False</td>\n",
              "      <td>True</td>\n",
              "      <td>False</td>\n",
              "      <td>False</td>\n",
              "      <td>False</td>\n",
              "      <td>False</td>\n",
              "      <td>False</td>\n",
              "      <td>True</td>\n",
              "      <td>False</td>\n",
              "    </tr>\n",
              "    <tr>\n",
              "      <th>3</th>\n",
              "      <td>36.0</td>\n",
              "      <td>23.45</td>\n",
              "      <td>5.0</td>\n",
              "      <td>155</td>\n",
              "      <td>0</td>\n",
              "      <td>0</td>\n",
              "      <td>0</td>\n",
              "      <td>True</td>\n",
              "      <td>False</td>\n",
              "      <td>False</td>\n",
              "      <td>False</td>\n",
              "      <td>True</td>\n",
              "      <td>False</td>\n",
              "      <td>False</td>\n",
              "      <td>False</td>\n",
              "      <td>False</td>\n",
              "    </tr>\n",
              "    <tr>\n",
              "      <th>4</th>\n",
              "      <td>76.0</td>\n",
              "      <td>20.14</td>\n",
              "      <td>4.8</td>\n",
              "      <td>155</td>\n",
              "      <td>0</td>\n",
              "      <td>1</td>\n",
              "      <td>1</td>\n",
              "      <td>False</td>\n",
              "      <td>True</td>\n",
              "      <td>False</td>\n",
              "      <td>False</td>\n",
              "      <td>True</td>\n",
              "      <td>False</td>\n",
              "      <td>False</td>\n",
              "      <td>False</td>\n",
              "      <td>False</td>\n",
              "    </tr>\n",
              "  </tbody>\n",
              "</table>\n",
              "</div>\n",
              "    <div class=\"colab-df-buttons\">\n",
              "\n",
              "  <div class=\"colab-df-container\">\n",
              "    <button class=\"colab-df-convert\" onclick=\"convertToInteractive('df-e8f3e1c0-0b44-4471-b963-ce6ebf23d65b')\"\n",
              "            title=\"Convert this dataframe to an interactive table.\"\n",
              "            style=\"display:none;\">\n",
              "\n",
              "  <svg xmlns=\"http://www.w3.org/2000/svg\" height=\"24px\" viewBox=\"0 -960 960 960\">\n",
              "    <path d=\"M120-120v-720h720v720H120Zm60-500h600v-160H180v160Zm220 220h160v-160H400v160Zm0 220h160v-160H400v160ZM180-400h160v-160H180v160Zm440 0h160v-160H620v160ZM180-180h160v-160H180v160Zm440 0h160v-160H620v160Z\"/>\n",
              "  </svg>\n",
              "    </button>\n",
              "\n",
              "  <style>\n",
              "    .colab-df-container {\n",
              "      display:flex;\n",
              "      gap: 12px;\n",
              "    }\n",
              "\n",
              "    .colab-df-convert {\n",
              "      background-color: #E8F0FE;\n",
              "      border: none;\n",
              "      border-radius: 50%;\n",
              "      cursor: pointer;\n",
              "      display: none;\n",
              "      fill: #1967D2;\n",
              "      height: 32px;\n",
              "      padding: 0 0 0 0;\n",
              "      width: 32px;\n",
              "    }\n",
              "\n",
              "    .colab-df-convert:hover {\n",
              "      background-color: #E2EBFA;\n",
              "      box-shadow: 0px 1px 2px rgba(60, 64, 67, 0.3), 0px 1px 3px 1px rgba(60, 64, 67, 0.15);\n",
              "      fill: #174EA6;\n",
              "    }\n",
              "\n",
              "    .colab-df-buttons div {\n",
              "      margin-bottom: 4px;\n",
              "    }\n",
              "\n",
              "    [theme=dark] .colab-df-convert {\n",
              "      background-color: #3B4455;\n",
              "      fill: #D2E3FC;\n",
              "    }\n",
              "\n",
              "    [theme=dark] .colab-df-convert:hover {\n",
              "      background-color: #434B5C;\n",
              "      box-shadow: 0px 1px 3px 1px rgba(0, 0, 0, 0.15);\n",
              "      filter: drop-shadow(0px 1px 2px rgba(0, 0, 0, 0.3));\n",
              "      fill: #FFFFFF;\n",
              "    }\n",
              "  </style>\n",
              "\n",
              "    <script>\n",
              "      const buttonEl =\n",
              "        document.querySelector('#df-e8f3e1c0-0b44-4471-b963-ce6ebf23d65b button.colab-df-convert');\n",
              "      buttonEl.style.display =\n",
              "        google.colab.kernel.accessAllowed ? 'block' : 'none';\n",
              "\n",
              "      async function convertToInteractive(key) {\n",
              "        const element = document.querySelector('#df-e8f3e1c0-0b44-4471-b963-ce6ebf23d65b');\n",
              "        const dataTable =\n",
              "          await google.colab.kernel.invokeFunction('convertToInteractive',\n",
              "                                                    [key], {});\n",
              "        if (!dataTable) return;\n",
              "\n",
              "        const docLinkHtml = 'Like what you see? Visit the ' +\n",
              "          '<a target=\"_blank\" href=https://colab.research.google.com/notebooks/data_table.ipynb>data table notebook</a>'\n",
              "          + ' to learn more about interactive tables.';\n",
              "        element.innerHTML = '';\n",
              "        dataTable['output_type'] = 'display_data';\n",
              "        await google.colab.output.renderOutput(dataTable, element);\n",
              "        const docLink = document.createElement('div');\n",
              "        docLink.innerHTML = docLinkHtml;\n",
              "        element.appendChild(docLink);\n",
              "      }\n",
              "    </script>\n",
              "  </div>\n",
              "\n",
              "\n",
              "<div id=\"df-83a92a27-e66d-48a6-a74f-e731107dc2e8\">\n",
              "  <button class=\"colab-df-quickchart\" onclick=\"quickchart('df-83a92a27-e66d-48a6-a74f-e731107dc2e8')\"\n",
              "            title=\"Suggest charts\"\n",
              "            style=\"display:none;\">\n",
              "\n",
              "<svg xmlns=\"http://www.w3.org/2000/svg\" height=\"24px\"viewBox=\"0 0 24 24\"\n",
              "     width=\"24px\">\n",
              "    <g>\n",
              "        <path d=\"M19 3H5c-1.1 0-2 .9-2 2v14c0 1.1.9 2 2 2h14c1.1 0 2-.9 2-2V5c0-1.1-.9-2-2-2zM9 17H7v-7h2v7zm4 0h-2V7h2v10zm4 0h-2v-4h2v4z\"/>\n",
              "    </g>\n",
              "</svg>\n",
              "  </button>\n",
              "\n",
              "<style>\n",
              "  .colab-df-quickchart {\n",
              "      --bg-color: #E8F0FE;\n",
              "      --fill-color: #1967D2;\n",
              "      --hover-bg-color: #E2EBFA;\n",
              "      --hover-fill-color: #174EA6;\n",
              "      --disabled-fill-color: #AAA;\n",
              "      --disabled-bg-color: #DDD;\n",
              "  }\n",
              "\n",
              "  [theme=dark] .colab-df-quickchart {\n",
              "      --bg-color: #3B4455;\n",
              "      --fill-color: #D2E3FC;\n",
              "      --hover-bg-color: #434B5C;\n",
              "      --hover-fill-color: #FFFFFF;\n",
              "      --disabled-bg-color: #3B4455;\n",
              "      --disabled-fill-color: #666;\n",
              "  }\n",
              "\n",
              "  .colab-df-quickchart {\n",
              "    background-color: var(--bg-color);\n",
              "    border: none;\n",
              "    border-radius: 50%;\n",
              "    cursor: pointer;\n",
              "    display: none;\n",
              "    fill: var(--fill-color);\n",
              "    height: 32px;\n",
              "    padding: 0;\n",
              "    width: 32px;\n",
              "  }\n",
              "\n",
              "  .colab-df-quickchart:hover {\n",
              "    background-color: var(--hover-bg-color);\n",
              "    box-shadow: 0 1px 2px rgba(60, 64, 67, 0.3), 0 1px 3px 1px rgba(60, 64, 67, 0.15);\n",
              "    fill: var(--button-hover-fill-color);\n",
              "  }\n",
              "\n",
              "  .colab-df-quickchart-complete:disabled,\n",
              "  .colab-df-quickchart-complete:disabled:hover {\n",
              "    background-color: var(--disabled-bg-color);\n",
              "    fill: var(--disabled-fill-color);\n",
              "    box-shadow: none;\n",
              "  }\n",
              "\n",
              "  .colab-df-spinner {\n",
              "    border: 2px solid var(--fill-color);\n",
              "    border-color: transparent;\n",
              "    border-bottom-color: var(--fill-color);\n",
              "    animation:\n",
              "      spin 1s steps(1) infinite;\n",
              "  }\n",
              "\n",
              "  @keyframes spin {\n",
              "    0% {\n",
              "      border-color: transparent;\n",
              "      border-bottom-color: var(--fill-color);\n",
              "      border-left-color: var(--fill-color);\n",
              "    }\n",
              "    20% {\n",
              "      border-color: transparent;\n",
              "      border-left-color: var(--fill-color);\n",
              "      border-top-color: var(--fill-color);\n",
              "    }\n",
              "    30% {\n",
              "      border-color: transparent;\n",
              "      border-left-color: var(--fill-color);\n",
              "      border-top-color: var(--fill-color);\n",
              "      border-right-color: var(--fill-color);\n",
              "    }\n",
              "    40% {\n",
              "      border-color: transparent;\n",
              "      border-right-color: var(--fill-color);\n",
              "      border-top-color: var(--fill-color);\n",
              "    }\n",
              "    60% {\n",
              "      border-color: transparent;\n",
              "      border-right-color: var(--fill-color);\n",
              "    }\n",
              "    80% {\n",
              "      border-color: transparent;\n",
              "      border-right-color: var(--fill-color);\n",
              "      border-bottom-color: var(--fill-color);\n",
              "    }\n",
              "    90% {\n",
              "      border-color: transparent;\n",
              "      border-bottom-color: var(--fill-color);\n",
              "    }\n",
              "  }\n",
              "</style>\n",
              "\n",
              "  <script>\n",
              "    async function quickchart(key) {\n",
              "      const quickchartButtonEl =\n",
              "        document.querySelector('#' + key + ' button');\n",
              "      quickchartButtonEl.disabled = true;  // To prevent multiple clicks.\n",
              "      quickchartButtonEl.classList.add('colab-df-spinner');\n",
              "      try {\n",
              "        const charts = await google.colab.kernel.invokeFunction(\n",
              "            'suggestCharts', [key], {});\n",
              "      } catch (error) {\n",
              "        console.error('Error during call to suggestCharts:', error);\n",
              "      }\n",
              "      quickchartButtonEl.classList.remove('colab-df-spinner');\n",
              "      quickchartButtonEl.classList.add('colab-df-quickchart-complete');\n",
              "    }\n",
              "    (() => {\n",
              "      let quickchartButtonEl =\n",
              "        document.querySelector('#df-83a92a27-e66d-48a6-a74f-e731107dc2e8 button');\n",
              "      quickchartButtonEl.style.display =\n",
              "        google.colab.kernel.accessAllowed ? 'block' : 'none';\n",
              "    })();\n",
              "  </script>\n",
              "</div>\n",
              "    </div>\n",
              "  </div>\n"
            ],
            "application/vnd.google.colaboratory.intrinsic+json": {
              "type": "dataframe",
              "variable_name": "df_all_features",
              "summary": "{\n  \"name\": \"df_all_features\",\n  \"rows\": 100000,\n  \"fields\": [\n    {\n      \"column\": \"age\",\n      \"properties\": {\n        \"dtype\": \"number\",\n        \"std\": 22.516839871617023,\n        \"min\": 0.08,\n        \"max\": 80.0,\n        \"num_unique_values\": 102,\n        \"samples\": [\n          29.0,\n          39.0,\n          16.0\n        ],\n        \"semantic_type\": \"\",\n        \"description\": \"\"\n      }\n    },\n    {\n      \"column\": \"bmi\",\n      \"properties\": {\n        \"dtype\": \"number\",\n        \"std\": 6.636783416648369,\n        \"min\": 10.01,\n        \"max\": 95.69,\n        \"num_unique_values\": 4247,\n        \"samples\": [\n          53.27,\n          32.33,\n          20.22\n        ],\n        \"semantic_type\": \"\",\n        \"description\": \"\"\n      }\n    },\n    {\n      \"column\": \"HbA1c_level\",\n      \"properties\": {\n        \"dtype\": \"number\",\n        \"std\": 1.0706720918835437,\n        \"min\": 3.5,\n        \"max\": 9.0,\n        \"num_unique_values\": 18,\n        \"samples\": [\n          6.6,\n          5.7,\n          3.5\n        ],\n        \"semantic_type\": \"\",\n        \"description\": \"\"\n      }\n    },\n    {\n      \"column\": \"blood_glucose_level\",\n      \"properties\": {\n        \"dtype\": \"number\",\n        \"std\": 40,\n        \"min\": 80,\n        \"max\": 300,\n        \"num_unique_values\": 18,\n        \"samples\": [\n          140,\n          80,\n          130\n        ],\n        \"semantic_type\": \"\",\n        \"description\": \"\"\n      }\n    },\n    {\n      \"column\": \"diabetes\",\n      \"properties\": {\n        \"dtype\": \"number\",\n        \"std\": 0,\n        \"min\": 0,\n        \"max\": 1,\n        \"num_unique_values\": 2,\n        \"samples\": [\n          1,\n          0\n        ],\n        \"semantic_type\": \"\",\n        \"description\": \"\"\n      }\n    },\n    {\n      \"column\": \"hypertension\",\n      \"properties\": {\n        \"dtype\": \"number\",\n        \"std\": 0,\n        \"min\": 0,\n        \"max\": 1,\n        \"num_unique_values\": 2,\n        \"samples\": [\n          1,\n          0\n        ],\n        \"semantic_type\": \"\",\n        \"description\": \"\"\n      }\n    },\n    {\n      \"column\": \"heart_disease\",\n      \"properties\": {\n        \"dtype\": \"number\",\n        \"std\": 0,\n        \"min\": 0,\n        \"max\": 1,\n        \"num_unique_values\": 2,\n        \"samples\": [\n          0,\n          1\n        ],\n        \"semantic_type\": \"\",\n        \"description\": \"\"\n      }\n    },\n    {\n      \"column\": \"gender_Female\",\n      \"properties\": {\n        \"dtype\": \"boolean\",\n        \"num_unique_values\": 2,\n        \"samples\": [\n          false,\n          true\n        ],\n        \"semantic_type\": \"\",\n        \"description\": \"\"\n      }\n    },\n    {\n      \"column\": \"gender_Male\",\n      \"properties\": {\n        \"dtype\": \"boolean\",\n        \"num_unique_values\": 2,\n        \"samples\": [\n          true,\n          false\n        ],\n        \"semantic_type\": \"\",\n        \"description\": \"\"\n      }\n    },\n    {\n      \"column\": \"gender_Other\",\n      \"properties\": {\n        \"dtype\": \"boolean\",\n        \"num_unique_values\": 2,\n        \"samples\": [\n          true,\n          false\n        ],\n        \"semantic_type\": \"\",\n        \"description\": \"\"\n      }\n    },\n    {\n      \"column\": \"smoking_history_No Info\",\n      \"properties\": {\n        \"dtype\": \"boolean\",\n        \"num_unique_values\": 2,\n        \"samples\": [\n          true,\n          false\n        ],\n        \"semantic_type\": \"\",\n        \"description\": \"\"\n      }\n    },\n    {\n      \"column\": \"smoking_history_current\",\n      \"properties\": {\n        \"dtype\": \"boolean\",\n        \"num_unique_values\": 2,\n        \"samples\": [\n          true,\n          false\n        ],\n        \"semantic_type\": \"\",\n        \"description\": \"\"\n      }\n    },\n    {\n      \"column\": \"smoking_history_ever\",\n      \"properties\": {\n        \"dtype\": \"boolean\",\n        \"num_unique_values\": 2,\n        \"samples\": [\n          true,\n          false\n        ],\n        \"semantic_type\": \"\",\n        \"description\": \"\"\n      }\n    },\n    {\n      \"column\": \"smoking_history_former\",\n      \"properties\": {\n        \"dtype\": \"boolean\",\n        \"num_unique_values\": 2,\n        \"samples\": [\n          true,\n          false\n        ],\n        \"semantic_type\": \"\",\n        \"description\": \"\"\n      }\n    },\n    {\n      \"column\": \"smoking_history_never\",\n      \"properties\": {\n        \"dtype\": \"boolean\",\n        \"num_unique_values\": 2,\n        \"samples\": [\n          false,\n          true\n        ],\n        \"semantic_type\": \"\",\n        \"description\": \"\"\n      }\n    },\n    {\n      \"column\": \"smoking_history_not current\",\n      \"properties\": {\n        \"dtype\": \"boolean\",\n        \"num_unique_values\": 2,\n        \"samples\": [\n          true,\n          false\n        ],\n        \"semantic_type\": \"\",\n        \"description\": \"\"\n      }\n    }\n  ]\n}"
            }
          },
          "metadata": {},
          "execution_count": 169
        }
      ]
    },
    {
      "cell_type": "code",
      "source": [
        "# Correlation 1\n",
        "plt.figure(figsize=(10,7))\n",
        "sns.heatmap(df_all_features.corr(), cmap=\"crest\", annot=True, fmt='.2f')\n",
        "plt.title(\"Correlation Matrix Heatmap\")\n",
        "plt.show()"
      ],
      "metadata": {
        "colab": {
          "base_uri": "https://localhost:8080/",
          "height": 803
        },
        "id": "vWhIfUCxAkB3",
        "outputId": "b1d8d5ac-15a5-4805-b012-627ae8586846"
      },
      "execution_count": null,
      "outputs": [
        {
          "output_type": "display_data",
          "data": {
            "text/plain": [
              "<Figure size 1000x700 with 2 Axes>"
            ],
            "image/png": "[encoded data removed]"
          },
          "metadata": {}
        }
      ]
    },
    {
      "cell_type": "code",
      "source": [
        "# Correlation 2\n",
        "# Create a heatmap of the correlations with the target column\n",
        "corr = df_all_features.corr()\n",
        "target_corr = corr['diabetes'].drop('diabetes')\n",
        "\n",
        "# Sort correlation values in descending order\n",
        "target_corr_sorted = target_corr.sort_values(ascending=False)\n",
        "\n",
        "plt.figure(figsize=(8, 6))\n",
        "sns.set(font_scale=0.8)\n",
        "sns.set_style(\"white\")\n",
        "sns.set_palette(\"PuBuGn_d\")\n",
        "sns.heatmap(target_corr_sorted.to_frame(), cmap=\"crest\", annot=True, fmt='.2f')\n",
        "plt.title('Correlation with Diabetes')\n",
        "plt.show()"
      ],
      "metadata": {
        "colab": {
          "base_uri": "https://localhost:8080/",
          "height": 543
        },
        "id": "qCxF_x55vPz6",
        "outputId": "b84e5e78-d825-4756-b03c-506fb8650256"
      },
      "execution_count": null,
      "outputs": [
        {
          "output_type": "display_data",
          "data": {
            "text/plain": [
              "<Figure size 800x600 with 2 Axes>"
            ],
            "image/png": "[encoded data removed]"
          },
          "metadata": {}
        }
      ]
    },
    {
      "cell_type": "markdown",
      "source": [
        "# Data Preprocessing\n",
        "\n",
        "To ensure the quality of exploratory data analysis and achieve optimal results for the data model, data preprocessing is needed. In data preprocessing, several essential steps ensure the quality and integrity of the dataset.\n",
        "\n",
        "- Encode ordinal values to numerical equivalents, allowing algorithms to interpret them effectively.\n",
        "- Address the correct data types.\n",
        "- Null and duplicate values are addressed through techniques like imputation or deletion to prevent biased analyses.\n",
        "- Remove unnecessary values.\n",
        "- Standardization to scale features appropriately.\n",
        "\n",
        "These preprocessing steps collectively lay a robust foundation for accurate and reliable data analysis in the field of data science."
      ],
      "metadata": {
        "id": "PAQLv2gPNfWu"
      }
    },
    {
      "cell_type": "code",
      "source": [
        "# Check duplicate values\n",
        "df.duplicated().sum()"
      ],
      "metadata": {
        "colab": {
          "base_uri": "https://localhost:8080/"
        },
        "id": "sFrtpoFNykgA",
        "outputId": "aea7c617-2108-4106-fa07-f20984b1d73d"
      },
      "execution_count": null,
      "outputs": [
        {
          "output_type": "execute_result",
          "data": {
            "text/plain": [
              "3854"
            ]
          },
          "metadata": {},
          "execution_count": 172
        }
      ]
    },
    {
      "cell_type": "code",
      "source": [
        "# Drop the duplicated values\n",
        "df = df.drop_duplicates()"
      ],
      "metadata": {
        "id": "vsvV_Mk116ly"
      },
      "execution_count": null,
      "outputs": []
    },
    {
      "cell_type": "code",
      "source": [
        "df['gender'].value_counts()"
      ],
      "metadata": {
        "colab": {
          "base_uri": "https://localhost:8080/"
        },
        "id": "MjQGXW38F0Cw",
        "outputId": "392ab277-50bc-4bf4-91b9-6635fe35b08c"
      },
      "execution_count": null,
      "outputs": [
        {
          "output_type": "execute_result",
          "data": {
            "text/plain": [
              "gender\n",
              "Female    56161\n",
              "Male      39967\n",
              "Other        18\n",
              "Name: count, dtype: int64"
            ]
          },
          "metadata": {},
          "execution_count": 174
        }
      ]
    },
    {
      "cell_type": "code",
      "source": [
        "# Remove Unneccessary value [0.00195%]\n",
        "df = df[df['gender'] != 'Other']"
      ],
      "metadata": {
        "id": "Ny8Pm66w_xRD"
      },
      "execution_count": null,
      "outputs": []
    },
    {
      "cell_type": "code",
      "source": [
        "df.shape"
      ],
      "metadata": {
        "colab": {
          "base_uri": "https://localhost:8080/"
        },
        "id": "SZjeS-Lj2AZQ",
        "outputId": "33e52ce1-bda1-45c1-c306-1adc9aaf3232"
      },
      "execution_count": null,
      "outputs": [
        {
          "output_type": "execute_result",
          "data": {
            "text/plain": [
              "(96128, 9)"
            ]
          },
          "metadata": {},
          "execution_count": 176
        }
      ]
    },
    {
      "cell_type": "code",
      "source": [
        "df['age'].value_counts()"
      ],
      "metadata": {
        "colab": {
          "base_uri": "https://localhost:8080/"
        },
        "id": "iYZNuERXE4Km",
        "outputId": "7133e7cd-1379-49fe-f00c-63b52408c8ec"
      },
      "execution_count": null,
      "outputs": [
        {
          "output_type": "execute_result",
          "data": {
            "text/plain": [
              "age\n",
              "80.00    4932\n",
              "51.00    1566\n",
              "47.00    1511\n",
              "48.00    1508\n",
              "53.00    1498\n",
              "         ... \n",
              "0.48       83\n",
              "1.00       83\n",
              "0.40       66\n",
              "0.16       59\n",
              "0.08       36\n",
              "Name: count, Length: 102, dtype: int64"
            ]
          },
          "metadata": {},
          "execution_count": 18
        }
      ]
    },
    {
      "cell_type": "code",
      "source": [
        "# Change the data type\n",
        "df['age'] = df['age'].astype(int)"
      ],
      "metadata": {
        "id": "CyUXeLFBEgEz"
      },
      "execution_count": null,
      "outputs": []
    },
    {
      "cell_type": "code",
      "source": [
        "columns = ['bmi']\n",
        "\n",
        "for column_name in columns:\n",
        "    Q1 = np.percentile(df[column_name], 25, interpolation='midpoint')\n",
        "    Q3 = np.percentile(df[column_name], 75, interpolation='midpoint')\n",
        "\n",
        "    IQR = Q3 - Q1\n",
        "    low_lim = Q1 - 1.5 * IQR\n",
        "    up_lim = Q3 + 1.5 * IQR\n",
        "\n",
        "    # Delete outliers in the specified column\n",
        "    df = df[(df[column_name] >= low_lim) & (df[column_name] <= up_lim)]"
      ],
      "metadata": {
        "id": "rKe-hQyKH1qQ"
      },
      "execution_count": null,
      "outputs": []
    },
    {
      "cell_type": "code",
      "source": [
        "df.shape"
      ],
      "metadata": {
        "colab": {
          "base_uri": "https://localhost:8080/"
        },
        "id": "NuyP1hSqKZKT",
        "outputId": "e19e1098-bcf4-416e-a0d9-bc52e3ca4595"
      },
      "execution_count": null,
      "outputs": [
        {
          "output_type": "execute_result",
          "data": {
            "text/plain": [
              "(90774, 9)"
            ]
          },
          "metadata": {},
          "execution_count": 179
        }
      ]
    },
    {
      "cell_type": "code",
      "source": [
        "# Standardize numerical columns\n",
        "scaler = StandardScaler()\n",
        "df_scaled = df.copy()\n",
        "num_column = ['age', 'bmi', 'HbA1c_level', 'blood_glucose_level']\n",
        "scaler.fit(df[num_column].values)"
      ],
      "metadata": {
        "colab": {
          "base_uri": "https://localhost:8080/",
          "height": 75
        },
        "id": "uRw1LUY7-Bkk",
        "outputId": "a9e28ac6-658d-4784-edc0-321b5500f2da"
      },
      "execution_count": null,
      "outputs": [
        {
          "output_type": "execute_result",
          "data": {
            "text/plain": [
              "StandardScaler()"
            ],
            "text/html": [
              "<style>#sk-container-id-6 {color: black;background-color: white;}#sk-container-id-6 pre{padding: 0;}#sk-container-id-6 div.sk-toggleable {background-color: white;}#sk-container-id-6 label.sk-toggleable__label {cursor: pointer;display: block;width: 100%;margin-bottom: 0;padding: 0.3em;box-sizing: border-box;text-align: center;}#sk-container-id-6 label.sk-toggleable__label-arrow:before {content: \"▸\";float: left;margin-right: 0.25em;color: #696969;}#sk-container-id-6 label.sk-toggleable__label-arrow:hover:before {color: black;}#sk-container-id-6 div.sk-estimator:hover label.sk-toggleable__label-arrow:before {color: black;}#sk-container-id-6 div.sk-toggleable__content {max-height: 0;max-width: 0;overflow: hidden;text-align: left;background-color: #f0f8ff;}#sk-container-id-6 div.sk-toggleable__content pre {margin: 0.2em;color: black;border-radius: 0.25em;background-color: #f0f8ff;}#sk-container-id-6 input.sk-toggleable__control:checked~div.sk-toggleable__content {max-height: 200px;max-width: 100%;overflow: auto;}#sk-container-id-6 input.sk-toggleable__control:checked~label.sk-toggleable__label-arrow:before {content: \"▾\";}#sk-container-id-6 div.sk-estimator input.sk-toggleable__control:checked~label.sk-toggleable__label {background-color: #d4ebff;}#sk-container-id-6 div.sk-label input.sk-toggleable__control:checked~label.sk-toggleable__label {background-color: #d4ebff;}#sk-container-id-6 input.sk-hidden--visually {border: 0;clip: rect(1px 1px 1px 1px);clip: rect(1px, 1px, 1px, 1px);height: 1px;margin: -1px;overflow: hidden;padding: 0;position: absolute;width: 1px;}#sk-container-id-6 div.sk-estimator {font-family: monospace;background-color: #f0f8ff;border: 1px dotted black;border-radius: 0.25em;box-sizing: border-box;margin-bottom: 0.5em;}#sk-container-id-6 div.sk-estimator:hover {background-color: #d4ebff;}#sk-container-id-6 div.sk-parallel-item::after {content: \"\";width: 100%;border-bottom: 1px solid gray;flex-grow: 1;}#sk-container-id-6 div.sk-label:hover label.sk-toggleable__label {background-color: #d4ebff;}#sk-container-id-6 div.sk-serial::before {content: \"\";position: absolute;border-left: 1px solid gray;box-sizing: border-box;top: 0;bottom: 0;left: 50%;z-index: 0;}#sk-container-id-6 div.sk-serial {display: flex;flex-direction: column;align-items: center;background-color: white;padding-right: 0.2em;padding-left: 0.2em;position: relative;}#sk-container-id-6 div.sk-item {position: relative;z-index: 1;}#sk-container-id-6 div.sk-parallel {display: flex;align-items: stretch;justify-content: center;background-color: white;position: relative;}#sk-container-id-6 div.sk-item::before, #sk-container-id-6 div.sk-parallel-item::before {content: \"\";position: absolute;border-left: 1px solid gray;box-sizing: border-box;top: 0;bottom: 0;left: 50%;z-index: -1;}#sk-container-id-6 div.sk-parallel-item {display: flex;flex-direction: column;z-index: 1;position: relative;background-color: white;}#sk-container-id-6 div.sk-parallel-item:first-child::after {align-self: flex-end;width: 50%;}#sk-container-id-6 div.sk-parallel-item:last-child::after {align-self: flex-start;width: 50%;}#sk-container-id-6 div.sk-parallel-item:only-child::after {width: 0;}#sk-container-id-6 div.sk-dashed-wrapped {border: 1px dashed gray;margin: 0 0.4em 0.5em 0.4em;box-sizing: border-box;padding-bottom: 0.4em;background-color: white;}#sk-container-id-6 div.sk-label label {font-family: monospace;font-weight: bold;display: inline-block;line-height: 1.2em;}#sk-container-id-6 div.sk-label-container {text-align: center;}#sk-container-id-6 div.sk-container {/* jupyter's `normalize.less` sets `[hidden] { display: none; }` but bootstrap.min.css set `[hidden] { display: none !important; }` so we also need the `!important` here to be able to override the default hidden behavior on the sphinx rendered scikit-learn.org. See: https://github.com/scikit-learn/scikit-learn/issues/21755 */display: inline-block !important;position: relative;}#sk-container-id-6 div.sk-text-repr-fallback {display: none;}</style><div id=\"sk-container-id-6\" class=\"sk-top-container\"><div class=\"sk-text-repr-fallback\"><pre>StandardScaler()</pre><b>In a Jupyter environment, please rerun this cell to show the HTML representation or trust the notebook. <br />On GitHub, the HTML representation is unable to render, please try loading this page with nbviewer.org.</b></div><div class=\"sk-container\" hidden><div class=\"sk-item\"><div class=\"sk-estimator sk-toggleable\"><input class=\"sk-toggleable__control sk-hidden--visually\" id=\"sk-estimator-id-6\" type=\"checkbox\" checked><label for=\"sk-estimator-id-6\" class=\"sk-toggleable__label sk-toggleable__label-arrow\">StandardScaler</label><div class=\"sk-toggleable__content\"><pre>StandardScaler()</pre></div></div></div></div></div>"
            ]
          },
          "metadata": {},
          "execution_count": 181
        }
      ]
    },
    {
      "cell_type": "code",
      "source": [
        "pickle.dump(scaler, open(\"scaler.pkl\", \"wb\"))"
      ],
      "metadata": {
        "id": "wlcEJGsU_IAb"
      },
      "execution_count": null,
      "outputs": []
    },
    {
      "cell_type": "code",
      "source": [
        "df_scaled[num_column] = scaler.transform(df[num_column].values)\n",
        "df_scaled"
      ],
      "metadata": {
        "colab": {
          "base_uri": "https://localhost:8080/",
          "height": 444
        },
        "id": "_TR6qiwA-Jdo",
        "outputId": "35d35a4e-766d-42c8-ee62-817075814852"
      },
      "execution_count": null,
      "outputs": [
        {
          "output_type": "execute_result",
          "data": {
            "text/plain": [
              "       gender       age  hypertension  heart_disease smoking_history  \\\n",
              "0      Female  1.690220             0              1           never   \n",
              "1      Female  0.544157             0              0         No Info   \n",
              "2        Male -0.601907             0              0           never   \n",
              "3      Female -0.249272             0              0         current   \n",
              "4        Male  1.513903             1              1         current   \n",
              "...       ...       ...           ...            ...             ...   \n",
              "99994  Female -0.249272             0              0         No Info   \n",
              "99996  Female -1.747971             0              0         No Info   \n",
              "99997    Male  1.073109             0              0          former   \n",
              "99998  Female -0.778225             0              0           never   \n",
              "99999  Female  0.676395             0              0         current   \n",
              "\n",
              "            bmi  HbA1c_level  blood_glucose_level  diabetes  \n",
              "0     -0.233179     1.013362             0.057083         0  \n",
              "1      0.173820     1.013362            -1.430131         0  \n",
              "2      0.173820     0.168773             0.503248         0  \n",
              "3     -0.565657    -0.488130             0.428887         0  \n",
              "4     -1.198129    -0.675816             0.428887         0  \n",
              "...         ...          ...                  ...       ...  \n",
              "99994 -0.345916    -0.675816             0.181018         0  \n",
              "99996 -1.727418     0.919518            -0.934393         0  \n",
              "99997  0.271270     0.168773             0.428887         0  \n",
              "99998  1.721562    -1.426561            -0.934393         0  \n",
              "99999 -0.760558     1.013362            -1.182262         0  \n",
              "\n",
              "[90774 rows x 9 columns]"
            ],
            "text/html": [
              "\n",
              "  <div id=\"df-772cf435-bc45-43ea-a0a2-0930932b505f\" class=\"colab-df-container\">\n",
              "    <div>\n",
              "<style scoped>\n",
              "    .dataframe tbody tr th:only-of-type {\n",
              "        vertical-align: middle;\n",
              "    }\n",
              "\n",
              "    .dataframe tbody tr th {\n",
              "        vertical-align: top;\n",
              "    }\n",
              "\n",
              "    .dataframe thead th {\n",
              "        text-align: right;\n",
              "    }\n",
              "</style>\n",
              "<table border=\"1\" class=\"dataframe\">\n",
              "  <thead>\n",
              "    <tr style=\"text-align: right;\">\n",
              "      <th></th>\n",
              "      <th>gender</th>\n",
              "      <th>age</th>\n",
              "      <th>hypertension</th>\n",
              "      <th>heart_disease</th>\n",
              "      <th>smoking_history</th>\n",
              "      <th>bmi</th>\n",
              "      <th>HbA1c_level</th>\n",
              "      <th>blood_glucose_level</th>\n",
              "      <th>diabetes</th>\n",
              "    </tr>\n",
              "  </thead>\n",
              "  <tbody>\n",
              "    <tr>\n",
              "      <th>0</th>\n",
              "      <td>Female</td>\n",
              "      <td>1.690220</td>\n",
              "      <td>0</td>\n",
              "      <td>1</td>\n",
              "      <td>never</td>\n",
              "      <td>-0.233179</td>\n",
              "      <td>1.013362</td>\n",
              "      <td>0.057083</td>\n",
              "      <td>0</td>\n",
              "    </tr>\n",
              "    <tr>\n",
              "      <th>1</th>\n",
              "      <td>Female</td>\n",
              "      <td>0.544157</td>\n",
              "      <td>0</td>\n",
              "      <td>0</td>\n",
              "      <td>No Info</td>\n",
              "      <td>0.173820</td>\n",
              "      <td>1.013362</td>\n",
              "      <td>-1.430131</td>\n",
              "      <td>0</td>\n",
              "    </tr>\n",
              "    <tr>\n",
              "      <th>2</th>\n",
              "      <td>Male</td>\n",
              "      <td>-0.601907</td>\n",
              "      <td>0</td>\n",
              "      <td>0</td>\n",
              "      <td>never</td>\n",
              "      <td>0.173820</td>\n",
              "      <td>0.168773</td>\n",
              "      <td>0.503248</td>\n",
              "      <td>0</td>\n",
              "    </tr>\n",
              "    <tr>\n",
              "      <th>3</th>\n",
              "      <td>Female</td>\n",
              "      <td>-0.249272</td>\n",
              "      <td>0</td>\n",
              "      <td>0</td>\n",
              "      <td>current</td>\n",
              "      <td>-0.565657</td>\n",
              "      <td>-0.488130</td>\n",
              "      <td>0.428887</td>\n",
              "      <td>0</td>\n",
              "    </tr>\n",
              "    <tr>\n",
              "      <th>4</th>\n",
              "      <td>Male</td>\n",
              "      <td>1.513903</td>\n",
              "      <td>1</td>\n",
              "      <td>1</td>\n",
              "      <td>current</td>\n",
              "      <td>-1.198129</td>\n",
              "      <td>-0.675816</td>\n",
              "      <td>0.428887</td>\n",
              "      <td>0</td>\n",
              "    </tr>\n",
              "    <tr>\n",
              "      <th>...</th>\n",
              "      <td>...</td>\n",
              "      <td>...</td>\n",
              "      <td>...</td>\n",
              "      <td>...</td>\n",
              "      <td>...</td>\n",
              "      <td>...</td>\n",
              "      <td>...</td>\n",
              "      <td>...</td>\n",
              "      <td>...</td>\n",
              "    </tr>\n",
              "    <tr>\n",
              "      <th>99994</th>\n",
              "      <td>Female</td>\n",
              "      <td>-0.249272</td>\n",
              "      <td>0</td>\n",
              "      <td>0</td>\n",
              "      <td>No Info</td>\n",
              "      <td>-0.345916</td>\n",
              "      <td>-0.675816</td>\n",
              "      <td>0.181018</td>\n",
              "      <td>0</td>\n",
              "    </tr>\n",
              "    <tr>\n",
              "      <th>99996</th>\n",
              "      <td>Female</td>\n",
              "      <td>-1.747971</td>\n",
              "      <td>0</td>\n",
              "      <td>0</td>\n",
              "      <td>No Info</td>\n",
              "      <td>-1.727418</td>\n",
              "      <td>0.919518</td>\n",
              "      <td>-0.934393</td>\n",
              "      <td>0</td>\n",
              "    </tr>\n",
              "    <tr>\n",
              "      <th>99997</th>\n",
              "      <td>Male</td>\n",
              "      <td>1.073109</td>\n",
              "      <td>0</td>\n",
              "      <td>0</td>\n",
              "      <td>former</td>\n",
              "      <td>0.271270</td>\n",
              "      <td>0.168773</td>\n",
              "      <td>0.428887</td>\n",
              "      <td>0</td>\n",
              "    </tr>\n",
              "    <tr>\n",
              "      <th>99998</th>\n",
              "      <td>Female</td>\n",
              "      <td>-0.778225</td>\n",
              "      <td>0</td>\n",
              "      <td>0</td>\n",
              "      <td>never</td>\n",
              "      <td>1.721562</td>\n",
              "      <td>-1.426561</td>\n",
              "      <td>-0.934393</td>\n",
              "      <td>0</td>\n",
              "    </tr>\n",
              "    <tr>\n",
              "      <th>99999</th>\n",
              "      <td>Female</td>\n",
              "      <td>0.676395</td>\n",
              "      <td>0</td>\n",
              "      <td>0</td>\n",
              "      <td>current</td>\n",
              "      <td>-0.760558</td>\n",
              "      <td>1.013362</td>\n",
              "      <td>-1.182262</td>\n",
              "      <td>0</td>\n",
              "    </tr>\n",
              "  </tbody>\n",
              "</table>\n",
              "<p>90774 rows × 9 columns</p>\n",
              "</div>\n",
              "    <div class=\"colab-df-buttons\">\n",
              "\n",
              "  <div class=\"colab-df-container\">\n",
              "    <button class=\"colab-df-convert\" onclick=\"convertToInteractive('df-772cf435-bc45-43ea-a0a2-0930932b505f')\"\n",
              "            title=\"Convert this dataframe to an interactive table.\"\n",
              "            style=\"display:none;\">\n",
              "\n",
              "  <svg xmlns=\"http://www.w3.org/2000/svg\" height=\"24px\" viewBox=\"0 -960 960 960\">\n",
              "    <path d=\"M120-120v-720h720v720H120Zm60-500h600v-160H180v160Zm220 220h160v-160H400v160Zm0 220h160v-160H400v160ZM180-400h160v-160H180v160Zm440 0h160v-160H620v160ZM180-180h160v-160H180v160Zm440 0h160v-160H620v160Z\"/>\n",
              "  </svg>\n",
              "    </button>\n",
              "\n",
              "  <style>\n",
              "    .colab-df-container {\n",
              "      display:flex;\n",
              "      gap: 12px;\n",
              "    }\n",
              "\n",
              "    .colab-df-convert {\n",
              "      background-color: #E8F0FE;\n",
              "      border: none;\n",
              "      border-radius: 50%;\n",
              "      cursor: pointer;\n",
              "      display: none;\n",
              "      fill: #1967D2;\n",
              "      height: 32px;\n",
              "      padding: 0 0 0 0;\n",
              "      width: 32px;\n",
              "    }\n",
              "\n",
              "    .colab-df-convert:hover {\n",
              "      background-color: #E2EBFA;\n",
              "      box-shadow: 0px 1px 2px rgba(60, 64, 67, 0.3), 0px 1px 3px 1px rgba(60, 64, 67, 0.15);\n",
              "      fill: #174EA6;\n",
              "    }\n",
              "\n",
              "    .colab-df-buttons div {\n",
              "      margin-bottom: 4px;\n",
              "    }\n",
              "\n",
              "    [theme=dark] .colab-df-convert {\n",
              "      background-color: #3B4455;\n",
              "      fill: #D2E3FC;\n",
              "    }\n",
              "\n",
              "    [theme=dark] .colab-df-convert:hover {\n",
              "      background-color: #434B5C;\n",
              "      box-shadow: 0px 1px 3px 1px rgba(0, 0, 0, 0.15);\n",
              "      filter: drop-shadow(0px 1px 2px rgba(0, 0, 0, 0.3));\n",
              "      fill: #FFFFFF;\n",
              "    }\n",
              "  </style>\n",
              "\n",
              "    <script>\n",
              "      const buttonEl =\n",
              "        document.querySelector('#df-772cf435-bc45-43ea-a0a2-0930932b505f button.colab-df-convert');\n",
              "      buttonEl.style.display =\n",
              "        google.colab.kernel.accessAllowed ? 'block' : 'none';\n",
              "\n",
              "      async function convertToInteractive(key) {\n",
              "        const element = document.querySelector('#df-772cf435-bc45-43ea-a0a2-0930932b505f');\n",
              "        const dataTable =\n",
              "          await google.colab.kernel.invokeFunction('convertToInteractive',\n",
              "                                                    [key], {});\n",
              "        if (!dataTable) return;\n",
              "\n",
              "        const docLinkHtml = 'Like what you see? Visit the ' +\n",
              "          '<a target=\"_blank\" href=https://colab.research.google.com/notebooks/data_table.ipynb>data table notebook</a>'\n",
              "          + ' to learn more about interactive tables.';\n",
              "        element.innerHTML = '';\n",
              "        dataTable['output_type'] = 'display_data';\n",
              "        await google.colab.output.renderOutput(dataTable, element);\n",
              "        const docLink = document.createElement('div');\n",
              "        docLink.innerHTML = docLinkHtml;\n",
              "        element.appendChild(docLink);\n",
              "      }\n",
              "    </script>\n",
              "  </div>\n",
              "\n",
              "\n",
              "<div id=\"df-d9d025c3-49d5-435c-a2e7-50fdbf569b5c\">\n",
              "  <button class=\"colab-df-quickchart\" onclick=\"quickchart('df-d9d025c3-49d5-435c-a2e7-50fdbf569b5c')\"\n",
              "            title=\"Suggest charts\"\n",
              "            style=\"display:none;\">\n",
              "\n",
              "<svg xmlns=\"http://www.w3.org/2000/svg\" height=\"24px\"viewBox=\"0 0 24 24\"\n",
              "     width=\"24px\">\n",
              "    <g>\n",
              "        <path d=\"M19 3H5c-1.1 0-2 .9-2 2v14c0 1.1.9 2 2 2h14c1.1 0 2-.9 2-2V5c0-1.1-.9-2-2-2zM9 17H7v-7h2v7zm4 0h-2V7h2v10zm4 0h-2v-4h2v4z\"/>\n",
              "    </g>\n",
              "</svg>\n",
              "  </button>\n",
              "\n",
              "<style>\n",
              "  .colab-df-quickchart {\n",
              "      --bg-color: #E8F0FE;\n",
              "      --fill-color: #1967D2;\n",
              "      --hover-bg-color: #E2EBFA;\n",
              "      --hover-fill-color: #174EA6;\n",
              "      --disabled-fill-color: #AAA;\n",
              "      --disabled-bg-color: #DDD;\n",
              "  }\n",
              "\n",
              "  [theme=dark] .colab-df-quickchart {\n",
              "      --bg-color: #3B4455;\n",
              "      --fill-color: #D2E3FC;\n",
              "      --hover-bg-color: #434B5C;\n",
              "      --hover-fill-color: #FFFFFF;\n",
              "      --disabled-bg-color: #3B4455;\n",
              "      --disabled-fill-color: #666;\n",
              "  }\n",
              "\n",
              "  .colab-df-quickchart {\n",
              "    background-color: var(--bg-color);\n",
              "    border: none;\n",
              "    border-radius: 50%;\n",
              "    cursor: pointer;\n",
              "    display: none;\n",
              "    fill: var(--fill-color);\n",
              "    height: 32px;\n",
              "    padding: 0;\n",
              "    width: 32px;\n",
              "  }\n",
              "\n",
              "  .colab-df-quickchart:hover {\n",
              "    background-color: var(--hover-bg-color);\n",
              "    box-shadow: 0 1px 2px rgba(60, 64, 67, 0.3), 0 1px 3px 1px rgba(60, 64, 67, 0.15);\n",
              "    fill: var(--button-hover-fill-color);\n",
              "  }\n",
              "\n",
              "  .colab-df-quickchart-complete:disabled,\n",
              "  .colab-df-quickchart-complete:disabled:hover {\n",
              "    background-color: var(--disabled-bg-color);\n",
              "    fill: var(--disabled-fill-color);\n",
              "    box-shadow: none;\n",
              "  }\n",
              "\n",
              "  .colab-df-spinner {\n",
              "    border: 2px solid var(--fill-color);\n",
              "    border-color: transparent;\n",
              "    border-bottom-color: var(--fill-color);\n",
              "    animation:\n",
              "      spin 1s steps(1) infinite;\n",
              "  }\n",
              "\n",
              "  @keyframes spin {\n",
              "    0% {\n",
              "      border-color: transparent;\n",
              "      border-bottom-color: var(--fill-color);\n",
              "      border-left-color: var(--fill-color);\n",
              "    }\n",
              "    20% {\n",
              "      border-color: transparent;\n",
              "      border-left-color: var(--fill-color);\n",
              "      border-top-color: var(--fill-color);\n",
              "    }\n",
              "    30% {\n",
              "      border-color: transparent;\n",
              "      border-left-color: var(--fill-color);\n",
              "      border-top-color: var(--fill-color);\n",
              "      border-right-color: var(--fill-color);\n",
              "    }\n",
              "    40% {\n",
              "      border-color: transparent;\n",
              "      border-right-color: var(--fill-color);\n",
              "      border-top-color: var(--fill-color);\n",
              "    }\n",
              "    60% {\n",
              "      border-color: transparent;\n",
              "      border-right-color: var(--fill-color);\n",
              "    }\n",
              "    80% {\n",
              "      border-color: transparent;\n",
              "      border-right-color: var(--fill-color);\n",
              "      border-bottom-color: var(--fill-color);\n",
              "    }\n",
              "    90% {\n",
              "      border-color: transparent;\n",
              "      border-bottom-color: var(--fill-color);\n",
              "    }\n",
              "  }\n",
              "</style>\n",
              "\n",
              "  <script>\n",
              "    async function quickchart(key) {\n",
              "      const quickchartButtonEl =\n",
              "        document.querySelector('#' + key + ' button');\n",
              "      quickchartButtonEl.disabled = true;  // To prevent multiple clicks.\n",
              "      quickchartButtonEl.classList.add('colab-df-spinner');\n",
              "      try {\n",
              "        const charts = await google.colab.kernel.invokeFunction(\n",
              "            'suggestCharts', [key], {});\n",
              "      } catch (error) {\n",
              "        console.error('Error during call to suggestCharts:', error);\n",
              "      }\n",
              "      quickchartButtonEl.classList.remove('colab-df-spinner');\n",
              "      quickchartButtonEl.classList.add('colab-df-quickchart-complete');\n",
              "    }\n",
              "    (() => {\n",
              "      let quickchartButtonEl =\n",
              "        document.querySelector('#df-d9d025c3-49d5-435c-a2e7-50fdbf569b5c button');\n",
              "      quickchartButtonEl.style.display =\n",
              "        google.colab.kernel.accessAllowed ? 'block' : 'none';\n",
              "    })();\n",
              "  </script>\n",
              "</div>\n",
              "    </div>\n",
              "  </div>\n"
            ],
            "application/vnd.google.colaboratory.intrinsic+json": {
              "type": "dataframe",
              "variable_name": "df_scaled",
              "summary": "{\n  \"name\": \"df_scaled\",\n  \"rows\": 90774,\n  \"fields\": [\n    {\n      \"column\": \"gender\",\n      \"properties\": {\n        \"dtype\": \"category\",\n        \"num_unique_values\": 2,\n        \"samples\": [\n          \"Male\",\n          \"Female\"\n        ],\n        \"semantic_type\": \"\",\n        \"description\": \"\"\n      }\n    },\n    {\n      \"column\": \"age\",\n      \"properties\": {\n        \"dtype\": \"number\",\n        \"std\": 1.0000055082306738,\n        \"min\": -1.8361299618451266,\n        \"max\": 1.6902203886317226,\n        \"num_unique_values\": 81,\n        \"samples\": [\n          0.8086328010125104,\n          1.6902203886317226\n        ],\n        \"semantic_type\": \"\",\n        \"description\": \"\"\n      }\n    },\n    {\n      \"column\": \"hypertension\",\n      \"properties\": {\n        \"dtype\": \"number\",\n        \"std\": 0,\n        \"min\": 0,\n        \"max\": 1,\n        \"num_unique_values\": 2,\n        \"samples\": [\n          1,\n          0\n        ],\n        \"semantic_type\": \"\",\n        \"description\": \"\"\n      }\n    },\n    {\n      \"column\": \"heart_disease\",\n      \"properties\": {\n        \"dtype\": \"number\",\n        \"std\": 0,\n        \"min\": 0,\n        \"max\": 1,\n        \"num_unique_values\": 2,\n        \"samples\": [\n          0,\n          1\n        ],\n        \"semantic_type\": \"\",\n        \"description\": \"\"\n      }\n    },\n    {\n      \"column\": \"smoking_history\",\n      \"properties\": {\n        \"dtype\": \"category\",\n        \"num_unique_values\": 6,\n        \"samples\": [\n          \"never\",\n          \"No Info\"\n        ],\n        \"semantic_type\": \"\",\n        \"description\": \"\"\n      }\n    },\n    {\n      \"column\": \"bmi\",\n      \"properties\": {\n        \"dtype\": \"number\",\n        \"std\": 1.0000055082306738,\n        \"min\": -2.426768432071812,\n        \"max\": 2.5107187596016347,\n        \"num_unique_values\": 2582,\n        \"samples\": [\n          -1.3433492224437764,\n          0.32477241777716764\n        ],\n        \"semantic_type\": \"\",\n        \"description\": \"\"\n      }\n    },\n    {\n      \"column\": \"HbA1c_level\",\n      \"properties\": {\n        \"dtype\": \"number\",\n        \"std\": 1.0000055082306738,\n        \"min\": -1.8957773865417256,\n        \"max\": 3.2655980857635605,\n        \"num_unique_values\": 18,\n        \"samples\": [\n          1.0133615160303444,\n          0.16877280238038905\n        ],\n        \"semantic_type\": \"\",\n        \"description\": \"\"\n      }\n    },\n    {\n      \"column\": \"blood_glucose_level\",\n      \"properties\": {\n        \"dtype\": \"number\",\n        \"std\": 1.0000055082306738,\n        \"min\": -1.4301312300436808,\n        \"max\": 4.022988672731711,\n        \"num_unique_values\": 18,\n        \"samples\": [\n          0.0570832888950625,\n          -1.4301312300436808\n        ],\n        \"semantic_type\": \"\",\n        \"description\": \"\"\n      }\n    },\n    {\n      \"column\": \"diabetes\",\n      \"properties\": {\n        \"dtype\": \"number\",\n        \"std\": 0,\n        \"min\": 0,\n        \"max\": 1,\n        \"num_unique_values\": 2,\n        \"samples\": [\n          1,\n          0\n        ],\n        \"semantic_type\": \"\",\n        \"description\": \"\"\n      }\n    }\n  ]\n}"
            }
          },
          "metadata": {},
          "execution_count": 183
        }
      ]
    },
    {
      "cell_type": "code",
      "source": [
        "# Encoding categorical columns\n",
        "df_scaled['gender'] = df_scaled['gender'].astype('category')\n",
        "df_scaled['gender'] = df_scaled['gender'].cat.codes\n",
        "df_scaled['smoking_history'] = df_scaled['smoking_history'].astype('category')\n",
        "df_scaled['smoking_history'] = df_scaled['smoking_history'].cat.codes"
      ],
      "metadata": {
        "id": "CC6BHXzmgLW0"
      },
      "execution_count": null,
      "outputs": []
    },
    {
      "cell_type": "code",
      "source": [
        "df['gender'].value_counts()"
      ],
      "metadata": {
        "colab": {
          "base_uri": "https://localhost:8080/"
        },
        "id": "6wpTUIQhgjXp",
        "outputId": "7873abd9-074e-4744-f824-d01965bbe49c"
      },
      "execution_count": null,
      "outputs": [
        {
          "output_type": "execute_result",
          "data": {
            "text/plain": [
              "gender\n",
              "Female    52477\n",
              "Male      38297\n",
              "Name: count, dtype: int64"
            ]
          },
          "metadata": {},
          "execution_count": 208
        }
      ]
    },
    {
      "cell_type": "code",
      "source": [
        "df_scaled['gender'].value_counts()"
      ],
      "metadata": {
        "colab": {
          "base_uri": "https://localhost:8080/"
        },
        "id": "_Gd4K3kfgm8J",
        "outputId": "52d73838-96c5-4618-8699-4564f44ea1bd"
      },
      "execution_count": null,
      "outputs": [
        {
          "output_type": "execute_result",
          "data": {
            "text/plain": [
              "gender\n",
              "0    52477\n",
              "1    38297\n",
              "Name: count, dtype: int64"
            ]
          },
          "metadata": {},
          "execution_count": 209
        }
      ]
    },
    {
      "cell_type": "code",
      "source": [
        "df['smoking_history'].value_counts()"
      ],
      "metadata": {
        "colab": {
          "base_uri": "https://localhost:8080/"
        },
        "id": "0AqsMQLBgtUc",
        "outputId": "99292ff9-ac37-4389-e839-9acf7685e61f"
      },
      "execution_count": null,
      "outputs": [
        {
          "output_type": "execute_result",
          "data": {
            "text/plain": [
              "smoking_history\n",
              "never          32230\n",
              "No Info        31574\n",
              "current         8668\n",
              "former          8589\n",
              "not current     5986\n",
              "ever            3727\n",
              "Name: count, dtype: int64"
            ]
          },
          "metadata": {},
          "execution_count": 210
        }
      ]
    },
    {
      "cell_type": "code",
      "source": [
        "df_scaled['smoking_history'].value_counts()"
      ],
      "metadata": {
        "id": "Eyp2LGu-gzXI",
        "outputId": "5709bbb5-4aa6-4291-e369-70519fb1f88b",
        "colab": {
          "base_uri": "https://localhost:8080/"
        }
      },
      "execution_count": null,
      "outputs": [
        {
          "output_type": "execute_result",
          "data": {
            "text/plain": [
              "smoking_history\n",
              "4    32230\n",
              "0    31574\n",
              "1     8668\n",
              "3     8589\n",
              "5     5986\n",
              "2     3727\n",
              "Name: count, dtype: int64"
            ]
          },
          "metadata": {},
          "execution_count": 211
        }
      ]
    },
    {
      "cell_type": "markdown",
      "source": [
        "# Prediction and Model Fitting\n",
        "\n",
        "To tackle our classification problem, we've chosen the **CatBoost classifier** for various reasons. Based on their website, [catboost.ai](https://catboost.ai):\n",
        "\n",
        "> CatBoost is an algorithm for gradient boosting on decision trees. It is developed by Yandex researchers and engineers, and is used for search, recommendation systems, personal assistant, self-driving cars, weather prediction and many other tasks at Yandex and in other companies, including CERN, Cloudflare, Careem taxi. It is in open-source and can be used by anyone.\n",
        "\n",
        "In comparison to other classifiers in the market, CatBoost consistently outperforms its competitors such as XGBoost and Random Forests. One of its significant advantages is the short training time for decision trees, often completing training with optimal results. This efficiency significantly benefits for our team, enabling us to train models with default parameters quickly while still achieving optimal prediction accuracy."
      ],
      "metadata": {
        "id": "a4psHfWYskcd"
      }
    },
    {
      "cell_type": "code",
      "source": [
        "# Define data training and target\n",
        "X = df_scaled.drop(['diabetes'], axis=1)\n",
        "y = df_scaled['diabetes']\n",
        "\n",
        "# Training/Test split and oversampling using SMOTE\n",
        "OS = SMOTE(random_state=25)\n",
        "X_train, X_test, y_train, y_test = train_test_split(X, y, test_size=0.2)\n",
        "X_train, y_train = OS.fit_resample(X_train, y_train)"
      ],
      "metadata": {
        "execution": {
          "iopub.status.busy": "2024-05-02T04:27:15.101526Z",
          "iopub.execute_input": "2024-05-02T04:27:15.102103Z",
          "iopub.status.idle": "2024-05-02T04:27:15.124611Z",
          "shell.execute_reply.started": "2024-05-02T04:27:15.102051Z",
          "shell.execute_reply": "2024-05-02T04:27:15.123429Z"
        },
        "trusted": true,
        "id": "9BXJ14Cgskce"
      },
      "execution_count": null,
      "outputs": []
    },
    {
      "cell_type": "markdown",
      "source": [
        "To address the issue of class imbalance observed during the exploratory data analysis (EDA) phase, implementing **SMOTE (Synthetic Minority Over-sampling Technique)** to oversample the minority class in the training data can be an effective strategy.\n",
        "\n",
        "By generating synthetic samples for the minority class, SMOTE helps mitigate the imbalance and ensures that the model is trained on a more representative dataset. This approach not only prevents the model from being biased towards the majority class but also enhances the model's ability to generalize to unseen data. By balancing the class distribution in the training data, SMOTE contributes to improving the overall quality and reliability of the model's predictions, particularly for the minority class."
      ],
      "metadata": {
        "id": "0Vyp5V9_2Y-0"
      }
    },
    {
      "cell_type": "code",
      "source": [
        "# Model Fitting\n",
        "cb = CatBoostClassifier()\n",
        "cb.fit(X_train, y_train)"
      ],
      "metadata": {
        "execution": {
          "iopub.status.busy": "2024-05-02T04:11:21.271433Z",
          "iopub.execute_input": "2024-05-02T04:11:21.271832Z",
          "iopub.status.idle": "2024-05-02T04:11:35.042175Z",
          "shell.execute_reply.started": "2024-05-02T04:11:21.271798Z",
          "shell.execute_reply": "2024-05-02T04:11:35.041230Z"
        },
        "trusted": true,
        "id": "zqiw-W8iskcf",
        "outputId": "5fef9d0f-ed75-4e6b-fafc-fd5f7c180b6f",
        "colab": {
          "base_uri": "https://localhost:8080/"
        }
      },
      "execution_count": null,
      "outputs": [
        {
          "output_type": "stream",
          "name": "stdout",
          "text": [
            "Learning rate set to 0.083319\n",
            "0:\tlearn: 0.4950884\ttotal: 30ms\tremaining: 29.9s\n",
            "1:\tlearn: 0.3825180\ttotal: 56.3ms\tremaining: 28.1s\n",
            "2:\tlearn: 0.3129689\ttotal: 83ms\tremaining: 27.6s\n",
            "3:\tlearn: 0.2805200\ttotal: 119ms\tremaining: 29.7s\n",
            "4:\tlearn: 0.2580398\ttotal: 155ms\tremaining: 30.9s\n",
            "5:\tlearn: 0.2323825\ttotal: 189ms\tremaining: 31.4s\n",
            "6:\tlearn: 0.2182758\ttotal: 224ms\tremaining: 31.8s\n",
            "7:\tlearn: 0.2076028\ttotal: 251ms\tremaining: 31.1s\n",
            "8:\tlearn: 0.1986117\ttotal: 278ms\tremaining: 30.6s\n",
            "9:\tlearn: 0.1891908\ttotal: 313ms\tremaining: 31s\n",
            "10:\tlearn: 0.1824305\ttotal: 342ms\tremaining: 30.8s\n",
            "11:\tlearn: 0.1762395\ttotal: 371ms\tremaining: 30.6s\n",
            "12:\tlearn: 0.1710014\ttotal: 404ms\tremaining: 30.7s\n",
            "13:\tlearn: 0.1649446\ttotal: 436ms\tremaining: 30.7s\n",
            "14:\tlearn: 0.1614543\ttotal: 473ms\tremaining: 31.1s\n",
            "15:\tlearn: 0.1556050\ttotal: 533ms\tremaining: 32.8s\n",
            "16:\tlearn: 0.1519932\ttotal: 580ms\tremaining: 33.5s\n",
            "17:\tlearn: 0.1489579\ttotal: 625ms\tremaining: 34.1s\n",
            "18:\tlearn: 0.1460958\ttotal: 689ms\tremaining: 35.6s\n",
            "19:\tlearn: 0.1404111\ttotal: 734ms\tremaining: 35.9s\n",
            "20:\tlearn: 0.1393036\ttotal: 798ms\tremaining: 37.2s\n",
            "21:\tlearn: 0.1358369\ttotal: 878ms\tremaining: 39s\n",
            "22:\tlearn: 0.1347873\ttotal: 949ms\tremaining: 40.3s\n",
            "23:\tlearn: 0.1313958\ttotal: 1.03s\tremaining: 41.9s\n",
            "24:\tlearn: 0.1269663\ttotal: 1.11s\tremaining: 43.3s\n",
            "25:\tlearn: 0.1236463\ttotal: 1.19s\tremaining: 44.5s\n",
            "26:\tlearn: 0.1220165\ttotal: 1.26s\tremaining: 45.6s\n",
            "27:\tlearn: 0.1191715\ttotal: 1.34s\tremaining: 46.6s\n",
            "28:\tlearn: 0.1146974\ttotal: 1.42s\tremaining: 47.4s\n",
            "29:\tlearn: 0.1132211\ttotal: 1.48s\tremaining: 47.9s\n",
            "30:\tlearn: 0.1113272\ttotal: 1.55s\tremaining: 48.5s\n",
            "31:\tlearn: 0.1074338\ttotal: 1.61s\tremaining: 48.8s\n",
            "32:\tlearn: 0.1058109\ttotal: 1.69s\tremaining: 49.4s\n",
            "33:\tlearn: 0.1022465\ttotal: 1.76s\tremaining: 49.9s\n",
            "34:\tlearn: 0.0994495\ttotal: 1.83s\tremaining: 50.4s\n",
            "35:\tlearn: 0.0983353\ttotal: 1.9s\tremaining: 50.8s\n",
            "36:\tlearn: 0.0966113\ttotal: 1.97s\tremaining: 51.2s\n",
            "37:\tlearn: 0.0958402\ttotal: 2.03s\tremaining: 51.5s\n",
            "38:\tlearn: 0.0940861\ttotal: 2.1s\tremaining: 51.8s\n",
            "39:\tlearn: 0.0920795\ttotal: 2.19s\tremaining: 52.4s\n",
            "40:\tlearn: 0.0913543\ttotal: 2.24s\tremaining: 52.5s\n",
            "41:\tlearn: 0.0904912\ttotal: 2.31s\tremaining: 52.7s\n",
            "42:\tlearn: 0.0897184\ttotal: 2.37s\tremaining: 52.7s\n",
            "43:\tlearn: 0.0891536\ttotal: 2.44s\tremaining: 53s\n",
            "44:\tlearn: 0.0884169\ttotal: 2.48s\tremaining: 52.6s\n",
            "45:\tlearn: 0.0879012\ttotal: 2.54s\tremaining: 52.6s\n",
            "46:\tlearn: 0.0866610\ttotal: 2.59s\tremaining: 52.6s\n",
            "47:\tlearn: 0.0849473\ttotal: 2.65s\tremaining: 52.6s\n",
            "48:\tlearn: 0.0837476\ttotal: 2.71s\tremaining: 52.6s\n",
            "49:\tlearn: 0.0829222\ttotal: 2.77s\tremaining: 52.6s\n",
            "50:\tlearn: 0.0819090\ttotal: 2.82s\tremaining: 52.4s\n",
            "51:\tlearn: 0.0808206\ttotal: 2.89s\tremaining: 52.7s\n",
            "52:\tlearn: 0.0805943\ttotal: 2.93s\tremaining: 52.4s\n",
            "53:\tlearn: 0.0798484\ttotal: 3s\tremaining: 52.6s\n",
            "54:\tlearn: 0.0792613\ttotal: 3.07s\tremaining: 52.7s\n",
            "55:\tlearn: 0.0787465\ttotal: 3.14s\tremaining: 53s\n",
            "56:\tlearn: 0.0775643\ttotal: 3.21s\tremaining: 53.2s\n",
            "57:\tlearn: 0.0768216\ttotal: 3.28s\tremaining: 53.3s\n",
            "58:\tlearn: 0.0766238\ttotal: 3.32s\tremaining: 52.9s\n",
            "59:\tlearn: 0.0764501\ttotal: 3.35s\tremaining: 52.5s\n",
            "60:\tlearn: 0.0763135\ttotal: 3.37s\tremaining: 51.9s\n",
            "61:\tlearn: 0.0759661\ttotal: 3.4s\tremaining: 51.5s\n",
            "62:\tlearn: 0.0755017\ttotal: 3.43s\tremaining: 51.1s\n",
            "63:\tlearn: 0.0750312\ttotal: 3.46s\tremaining: 50.6s\n",
            "64:\tlearn: 0.0747526\ttotal: 3.49s\tremaining: 50.2s\n",
            "65:\tlearn: 0.0738981\ttotal: 3.51s\tremaining: 49.7s\n",
            "66:\tlearn: 0.0733901\ttotal: 3.54s\tremaining: 49.3s\n",
            "67:\tlearn: 0.0732457\ttotal: 3.57s\tremaining: 49s\n",
            "68:\tlearn: 0.0731172\ttotal: 3.6s\tremaining: 48.6s\n",
            "69:\tlearn: 0.0725781\ttotal: 3.63s\tremaining: 48.2s\n",
            "70:\tlearn: 0.0723670\ttotal: 3.67s\tremaining: 48s\n",
            "71:\tlearn: 0.0722787\ttotal: 3.69s\tremaining: 47.6s\n",
            "72:\tlearn: 0.0720338\ttotal: 3.72s\tremaining: 47.3s\n",
            "73:\tlearn: 0.0717057\ttotal: 3.75s\tremaining: 46.9s\n",
            "74:\tlearn: 0.0715545\ttotal: 3.78s\tremaining: 46.6s\n",
            "75:\tlearn: 0.0714077\ttotal: 3.81s\tremaining: 46.3s\n",
            "76:\tlearn: 0.0711622\ttotal: 3.83s\tremaining: 46s\n",
            "77:\tlearn: 0.0710509\ttotal: 3.87s\tremaining: 45.7s\n",
            "78:\tlearn: 0.0709100\ttotal: 3.89s\tremaining: 45.4s\n",
            "79:\tlearn: 0.0708075\ttotal: 3.92s\tremaining: 45.1s\n",
            "80:\tlearn: 0.0703476\ttotal: 3.95s\tremaining: 44.9s\n",
            "81:\tlearn: 0.0702255\ttotal: 3.98s\tremaining: 44.6s\n",
            "82:\tlearn: 0.0698434\ttotal: 4.01s\tremaining: 44.3s\n",
            "83:\tlearn: 0.0694948\ttotal: 4.04s\tremaining: 44s\n",
            "84:\tlearn: 0.0693935\ttotal: 4.06s\tremaining: 43.8s\n",
            "85:\tlearn: 0.0693095\ttotal: 4.09s\tremaining: 43.5s\n",
            "86:\tlearn: 0.0691434\ttotal: 4.12s\tremaining: 43.2s\n",
            "87:\tlearn: 0.0689372\ttotal: 4.15s\tremaining: 43s\n",
            "88:\tlearn: 0.0687868\ttotal: 4.17s\tremaining: 42.7s\n",
            "89:\tlearn: 0.0685180\ttotal: 4.2s\tremaining: 42.5s\n",
            "90:\tlearn: 0.0683961\ttotal: 4.25s\tremaining: 42.5s\n",
            "91:\tlearn: 0.0677709\ttotal: 4.28s\tremaining: 42.2s\n",
            "92:\tlearn: 0.0677174\ttotal: 4.31s\tremaining: 42s\n",
            "93:\tlearn: 0.0676157\ttotal: 4.34s\tremaining: 41.8s\n",
            "94:\tlearn: 0.0670358\ttotal: 4.37s\tremaining: 41.6s\n",
            "95:\tlearn: 0.0664358\ttotal: 4.4s\tremaining: 41.4s\n",
            "96:\tlearn: 0.0660269\ttotal: 4.43s\tremaining: 41.2s\n",
            "97:\tlearn: 0.0659551\ttotal: 4.46s\tremaining: 41s\n",
            "98:\tlearn: 0.0658923\ttotal: 4.49s\tremaining: 40.9s\n",
            "99:\tlearn: 0.0655122\ttotal: 4.52s\tremaining: 40.7s\n",
            "100:\tlearn: 0.0654297\ttotal: 4.55s\tremaining: 40.5s\n",
            "101:\tlearn: 0.0652647\ttotal: 4.58s\tremaining: 40.3s\n",
            "102:\tlearn: 0.0652125\ttotal: 4.61s\tremaining: 40.2s\n",
            "103:\tlearn: 0.0650374\ttotal: 4.64s\tremaining: 40s\n",
            "104:\tlearn: 0.0649500\ttotal: 4.67s\tremaining: 39.8s\n",
            "105:\tlearn: 0.0648760\ttotal: 4.7s\tremaining: 39.7s\n",
            "106:\tlearn: 0.0646902\ttotal: 4.73s\tremaining: 39.5s\n",
            "107:\tlearn: 0.0645659\ttotal: 4.76s\tremaining: 39.3s\n",
            "108:\tlearn: 0.0644627\ttotal: 4.79s\tremaining: 39.2s\n",
            "109:\tlearn: 0.0644088\ttotal: 4.82s\tremaining: 39s\n",
            "110:\tlearn: 0.0640848\ttotal: 4.85s\tremaining: 38.8s\n",
            "111:\tlearn: 0.0637568\ttotal: 4.88s\tremaining: 38.7s\n",
            "112:\tlearn: 0.0635044\ttotal: 4.91s\tremaining: 38.6s\n",
            "113:\tlearn: 0.0634022\ttotal: 4.94s\tremaining: 38.4s\n",
            "114:\tlearn: 0.0631295\ttotal: 4.97s\tremaining: 38.3s\n",
            "115:\tlearn: 0.0628982\ttotal: 5s\tremaining: 38.1s\n",
            "116:\tlearn: 0.0628462\ttotal: 5.03s\tremaining: 37.9s\n",
            "117:\tlearn: 0.0626400\ttotal: 5.06s\tremaining: 37.8s\n",
            "118:\tlearn: 0.0625430\ttotal: 5.09s\tremaining: 37.7s\n",
            "119:\tlearn: 0.0624738\ttotal: 5.12s\tremaining: 37.5s\n",
            "120:\tlearn: 0.0622759\ttotal: 5.15s\tremaining: 37.4s\n",
            "121:\tlearn: 0.0622038\ttotal: 5.18s\tremaining: 37.3s\n",
            "122:\tlearn: 0.0620230\ttotal: 5.21s\tremaining: 37.1s\n",
            "123:\tlearn: 0.0618201\ttotal: 5.24s\tremaining: 37s\n",
            "124:\tlearn: 0.0616726\ttotal: 5.28s\tremaining: 37s\n",
            "125:\tlearn: 0.0615980\ttotal: 5.31s\tremaining: 36.9s\n",
            "126:\tlearn: 0.0615710\ttotal: 5.34s\tremaining: 36.7s\n",
            "127:\tlearn: 0.0614788\ttotal: 5.38s\tremaining: 36.7s\n",
            "128:\tlearn: 0.0613991\ttotal: 5.41s\tremaining: 36.5s\n",
            "129:\tlearn: 0.0613648\ttotal: 5.44s\tremaining: 36.4s\n",
            "130:\tlearn: 0.0612490\ttotal: 5.47s\tremaining: 36.3s\n",
            "131:\tlearn: 0.0610421\ttotal: 5.5s\tremaining: 36.2s\n",
            "132:\tlearn: 0.0610053\ttotal: 5.53s\tremaining: 36.1s\n",
            "133:\tlearn: 0.0609481\ttotal: 5.56s\tremaining: 36s\n",
            "134:\tlearn: 0.0609011\ttotal: 5.59s\tremaining: 35.8s\n",
            "135:\tlearn: 0.0607767\ttotal: 5.62s\tremaining: 35.7s\n",
            "136:\tlearn: 0.0606776\ttotal: 5.65s\tremaining: 35.6s\n",
            "137:\tlearn: 0.0606092\ttotal: 5.67s\tremaining: 35.4s\n",
            "138:\tlearn: 0.0604547\ttotal: 5.71s\tremaining: 35.3s\n",
            "139:\tlearn: 0.0603517\ttotal: 5.74s\tremaining: 35.2s\n",
            "140:\tlearn: 0.0602720\ttotal: 5.77s\tremaining: 35.2s\n",
            "141:\tlearn: 0.0601465\ttotal: 5.8s\tremaining: 35s\n",
            "142:\tlearn: 0.0600974\ttotal: 5.83s\tremaining: 34.9s\n",
            "143:\tlearn: 0.0599907\ttotal: 5.86s\tremaining: 34.8s\n",
            "144:\tlearn: 0.0599019\ttotal: 5.88s\tremaining: 34.7s\n",
            "145:\tlearn: 0.0598184\ttotal: 5.91s\tremaining: 34.6s\n",
            "146:\tlearn: 0.0597645\ttotal: 5.94s\tremaining: 34.5s\n",
            "147:\tlearn: 0.0597126\ttotal: 5.97s\tremaining: 34.4s\n",
            "148:\tlearn: 0.0596422\ttotal: 6s\tremaining: 34.3s\n",
            "149:\tlearn: 0.0595291\ttotal: 6.03s\tremaining: 34.2s\n",
            "150:\tlearn: 0.0594822\ttotal: 6.05s\tremaining: 34s\n",
            "151:\tlearn: 0.0592786\ttotal: 6.08s\tremaining: 33.9s\n",
            "152:\tlearn: 0.0591968\ttotal: 6.11s\tremaining: 33.8s\n",
            "153:\tlearn: 0.0590717\ttotal: 6.14s\tremaining: 33.7s\n",
            "154:\tlearn: 0.0588116\ttotal: 6.17s\tremaining: 33.7s\n",
            "155:\tlearn: 0.0587056\ttotal: 6.2s\tremaining: 33.6s\n",
            "156:\tlearn: 0.0586376\ttotal: 6.24s\tremaining: 33.5s\n",
            "157:\tlearn: 0.0584568\ttotal: 6.29s\tremaining: 33.5s\n",
            "158:\tlearn: 0.0581288\ttotal: 6.31s\tremaining: 33.4s\n",
            "159:\tlearn: 0.0580318\ttotal: 6.34s\tremaining: 33.3s\n",
            "160:\tlearn: 0.0579605\ttotal: 6.38s\tremaining: 33.2s\n",
            "161:\tlearn: 0.0578917\ttotal: 6.41s\tremaining: 33.1s\n",
            "162:\tlearn: 0.0578164\ttotal: 6.43s\tremaining: 33s\n",
            "163:\tlearn: 0.0576743\ttotal: 6.46s\tremaining: 32.9s\n",
            "164:\tlearn: 0.0576331\ttotal: 6.49s\tremaining: 32.8s\n",
            "165:\tlearn: 0.0575203\ttotal: 6.51s\tremaining: 32.7s\n",
            "166:\tlearn: 0.0573163\ttotal: 6.54s\tremaining: 32.6s\n",
            "167:\tlearn: 0.0572439\ttotal: 6.57s\tremaining: 32.5s\n",
            "168:\tlearn: 0.0571835\ttotal: 6.6s\tremaining: 32.4s\n",
            "169:\tlearn: 0.0571153\ttotal: 6.63s\tremaining: 32.4s\n",
            "170:\tlearn: 0.0569642\ttotal: 6.66s\tremaining: 32.3s\n",
            "171:\tlearn: 0.0568693\ttotal: 6.69s\tremaining: 32.2s\n",
            "172:\tlearn: 0.0567291\ttotal: 6.71s\tremaining: 32.1s\n",
            "173:\tlearn: 0.0566759\ttotal: 6.74s\tremaining: 32s\n",
            "174:\tlearn: 0.0566262\ttotal: 6.77s\tremaining: 31.9s\n",
            "175:\tlearn: 0.0565099\ttotal: 6.8s\tremaining: 31.8s\n",
            "176:\tlearn: 0.0563739\ttotal: 6.83s\tremaining: 31.7s\n",
            "177:\tlearn: 0.0563308\ttotal: 6.86s\tremaining: 31.7s\n",
            "178:\tlearn: 0.0562833\ttotal: 6.88s\tremaining: 31.6s\n",
            "179:\tlearn: 0.0561631\ttotal: 6.91s\tremaining: 31.5s\n",
            "180:\tlearn: 0.0561478\ttotal: 6.94s\tremaining: 31.4s\n",
            "181:\tlearn: 0.0560523\ttotal: 6.96s\tremaining: 31.3s\n",
            "182:\tlearn: 0.0560154\ttotal: 6.99s\tremaining: 31.2s\n",
            "183:\tlearn: 0.0559556\ttotal: 7.02s\tremaining: 31.1s\n",
            "184:\tlearn: 0.0558563\ttotal: 7.04s\tremaining: 31s\n",
            "185:\tlearn: 0.0558197\ttotal: 7.08s\tremaining: 31s\n",
            "186:\tlearn: 0.0558078\ttotal: 7.1s\tremaining: 30.9s\n",
            "187:\tlearn: 0.0557679\ttotal: 7.13s\tremaining: 30.8s\n",
            "188:\tlearn: 0.0557369\ttotal: 7.16s\tremaining: 30.7s\n",
            "189:\tlearn: 0.0556714\ttotal: 7.18s\tremaining: 30.6s\n",
            "190:\tlearn: 0.0556212\ttotal: 7.21s\tremaining: 30.5s\n",
            "191:\tlearn: 0.0555829\ttotal: 7.24s\tremaining: 30.5s\n",
            "192:\tlearn: 0.0555068\ttotal: 7.28s\tremaining: 30.4s\n",
            "193:\tlearn: 0.0554433\ttotal: 7.32s\tremaining: 30.4s\n",
            "194:\tlearn: 0.0554032\ttotal: 7.34s\tremaining: 30.3s\n",
            "195:\tlearn: 0.0553492\ttotal: 7.37s\tremaining: 30.2s\n",
            "196:\tlearn: 0.0551814\ttotal: 7.4s\tremaining: 30.2s\n",
            "197:\tlearn: 0.0551061\ttotal: 7.43s\tremaining: 30.1s\n",
            "198:\tlearn: 0.0550085\ttotal: 7.46s\tremaining: 30s\n",
            "199:\tlearn: 0.0549665\ttotal: 7.49s\tremaining: 30s\n",
            "200:\tlearn: 0.0549052\ttotal: 7.51s\tremaining: 29.9s\n",
            "201:\tlearn: 0.0548230\ttotal: 7.54s\tremaining: 29.8s\n",
            "202:\tlearn: 0.0547133\ttotal: 7.57s\tremaining: 29.7s\n",
            "203:\tlearn: 0.0546099\ttotal: 7.6s\tremaining: 29.7s\n",
            "204:\tlearn: 0.0544645\ttotal: 7.63s\tremaining: 29.6s\n",
            "205:\tlearn: 0.0543808\ttotal: 7.66s\tremaining: 29.5s\n",
            "206:\tlearn: 0.0543123\ttotal: 7.69s\tremaining: 29.4s\n",
            "207:\tlearn: 0.0542756\ttotal: 7.72s\tremaining: 29.4s\n",
            "208:\tlearn: 0.0541605\ttotal: 7.74s\tremaining: 29.3s\n",
            "209:\tlearn: 0.0541146\ttotal: 7.77s\tremaining: 29.2s\n",
            "210:\tlearn: 0.0540299\ttotal: 7.8s\tremaining: 29.2s\n",
            "211:\tlearn: 0.0539819\ttotal: 7.83s\tremaining: 29.1s\n",
            "212:\tlearn: 0.0538403\ttotal: 7.86s\tremaining: 29s\n",
            "213:\tlearn: 0.0537793\ttotal: 7.88s\tremaining: 29s\n",
            "214:\tlearn: 0.0537255\ttotal: 7.91s\tremaining: 28.9s\n",
            "215:\tlearn: 0.0536370\ttotal: 7.94s\tremaining: 28.8s\n",
            "216:\tlearn: 0.0536124\ttotal: 7.97s\tremaining: 28.8s\n",
            "217:\tlearn: 0.0535033\ttotal: 7.99s\tremaining: 28.7s\n",
            "218:\tlearn: 0.0534620\ttotal: 8.02s\tremaining: 28.6s\n",
            "219:\tlearn: 0.0533366\ttotal: 8.05s\tremaining: 28.5s\n",
            "220:\tlearn: 0.0532726\ttotal: 8.08s\tremaining: 28.5s\n",
            "221:\tlearn: 0.0531972\ttotal: 8.1s\tremaining: 28.4s\n",
            "222:\tlearn: 0.0531531\ttotal: 8.13s\tremaining: 28.3s\n",
            "223:\tlearn: 0.0531106\ttotal: 8.16s\tremaining: 28.3s\n",
            "224:\tlearn: 0.0530852\ttotal: 8.19s\tremaining: 28.2s\n",
            "225:\tlearn: 0.0530096\ttotal: 8.22s\tremaining: 28.2s\n",
            "226:\tlearn: 0.0530018\ttotal: 8.25s\tremaining: 28.1s\n",
            "227:\tlearn: 0.0529580\ttotal: 8.27s\tremaining: 28s\n",
            "228:\tlearn: 0.0529018\ttotal: 8.31s\tremaining: 28s\n",
            "229:\tlearn: 0.0528786\ttotal: 8.35s\tremaining: 27.9s\n",
            "230:\tlearn: 0.0528093\ttotal: 8.38s\tremaining: 27.9s\n",
            "231:\tlearn: 0.0527644\ttotal: 8.41s\tremaining: 27.8s\n",
            "232:\tlearn: 0.0527399\ttotal: 8.44s\tremaining: 27.8s\n",
            "233:\tlearn: 0.0526688\ttotal: 8.47s\tremaining: 27.7s\n",
            "234:\tlearn: 0.0526192\ttotal: 8.5s\tremaining: 27.7s\n",
            "235:\tlearn: 0.0525844\ttotal: 8.53s\tremaining: 27.6s\n",
            "236:\tlearn: 0.0525057\ttotal: 8.56s\tremaining: 27.6s\n",
            "237:\tlearn: 0.0524636\ttotal: 8.59s\tremaining: 27.5s\n",
            "238:\tlearn: 0.0523934\ttotal: 8.62s\tremaining: 27.5s\n",
            "239:\tlearn: 0.0523515\ttotal: 8.65s\tremaining: 27.4s\n",
            "240:\tlearn: 0.0523176\ttotal: 8.68s\tremaining: 27.3s\n",
            "241:\tlearn: 0.0522806\ttotal: 8.71s\tremaining: 27.3s\n",
            "242:\tlearn: 0.0522651\ttotal: 8.74s\tremaining: 27.2s\n",
            "243:\tlearn: 0.0522421\ttotal: 8.77s\tremaining: 27.2s\n",
            "244:\tlearn: 0.0522357\ttotal: 8.8s\tremaining: 27.1s\n",
            "245:\tlearn: 0.0521874\ttotal: 8.83s\tremaining: 27.1s\n",
            "246:\tlearn: 0.0521438\ttotal: 8.86s\tremaining: 27s\n",
            "247:\tlearn: 0.0520888\ttotal: 8.89s\tremaining: 26.9s\n",
            "248:\tlearn: 0.0520504\ttotal: 8.91s\tremaining: 26.9s\n",
            "249:\tlearn: 0.0520064\ttotal: 8.94s\tremaining: 26.8s\n",
            "250:\tlearn: 0.0519134\ttotal: 8.97s\tremaining: 26.8s\n",
            "251:\tlearn: 0.0518427\ttotal: 9s\tremaining: 26.7s\n",
            "252:\tlearn: 0.0518121\ttotal: 9.03s\tremaining: 26.7s\n",
            "253:\tlearn: 0.0517797\ttotal: 9.06s\tremaining: 26.6s\n",
            "254:\tlearn: 0.0516796\ttotal: 9.09s\tremaining: 26.6s\n",
            "255:\tlearn: 0.0516534\ttotal: 9.13s\tremaining: 26.5s\n",
            "256:\tlearn: 0.0515801\ttotal: 9.16s\tremaining: 26.5s\n",
            "257:\tlearn: 0.0515396\ttotal: 9.19s\tremaining: 26.4s\n",
            "258:\tlearn: 0.0515039\ttotal: 9.22s\tremaining: 26.4s\n",
            "259:\tlearn: 0.0514830\ttotal: 9.25s\tremaining: 26.3s\n",
            "260:\tlearn: 0.0514659\ttotal: 9.28s\tremaining: 26.3s\n",
            "261:\tlearn: 0.0514406\ttotal: 9.31s\tremaining: 26.2s\n",
            "262:\tlearn: 0.0514016\ttotal: 9.36s\tremaining: 26.2s\n",
            "263:\tlearn: 0.0513612\ttotal: 9.38s\tremaining: 26.2s\n",
            "264:\tlearn: 0.0513209\ttotal: 9.41s\tremaining: 26.1s\n",
            "265:\tlearn: 0.0512957\ttotal: 9.44s\tremaining: 26.1s\n",
            "266:\tlearn: 0.0512517\ttotal: 9.47s\tremaining: 26s\n",
            "267:\tlearn: 0.0511982\ttotal: 9.49s\tremaining: 25.9s\n",
            "268:\tlearn: 0.0511713\ttotal: 9.52s\tremaining: 25.9s\n",
            "269:\tlearn: 0.0511384\ttotal: 9.55s\tremaining: 25.8s\n",
            "270:\tlearn: 0.0510993\ttotal: 9.58s\tremaining: 25.8s\n",
            "271:\tlearn: 0.0510643\ttotal: 9.61s\tremaining: 25.7s\n",
            "272:\tlearn: 0.0510323\ttotal: 9.63s\tremaining: 25.7s\n",
            "273:\tlearn: 0.0509345\ttotal: 9.67s\tremaining: 25.6s\n",
            "274:\tlearn: 0.0509060\ttotal: 9.69s\tremaining: 25.6s\n",
            "275:\tlearn: 0.0508861\ttotal: 9.72s\tremaining: 25.5s\n",
            "276:\tlearn: 0.0508544\ttotal: 9.75s\tremaining: 25.5s\n",
            "277:\tlearn: 0.0508039\ttotal: 9.78s\tremaining: 25.4s\n",
            "278:\tlearn: 0.0507995\ttotal: 9.8s\tremaining: 25.3s\n",
            "279:\tlearn: 0.0507740\ttotal: 9.83s\tremaining: 25.3s\n",
            "280:\tlearn: 0.0507501\ttotal: 9.86s\tremaining: 25.2s\n",
            "281:\tlearn: 0.0507426\ttotal: 9.89s\tremaining: 25.2s\n",
            "282:\tlearn: 0.0507076\ttotal: 9.91s\tremaining: 25.1s\n",
            "283:\tlearn: 0.0506711\ttotal: 9.94s\tremaining: 25.1s\n",
            "284:\tlearn: 0.0506434\ttotal: 9.97s\tremaining: 25s\n",
            "285:\tlearn: 0.0505648\ttotal: 9.99s\tremaining: 25s\n",
            "286:\tlearn: 0.0504876\ttotal: 10s\tremaining: 24.9s\n",
            "287:\tlearn: 0.0504434\ttotal: 10.1s\tremaining: 24.9s\n",
            "288:\tlearn: 0.0503991\ttotal: 10.1s\tremaining: 24.8s\n",
            "289:\tlearn: 0.0503233\ttotal: 10.1s\tremaining: 24.8s\n",
            "290:\tlearn: 0.0502615\ttotal: 10.1s\tremaining: 24.7s\n",
            "291:\tlearn: 0.0502460\ttotal: 10.2s\tremaining: 24.7s\n",
            "292:\tlearn: 0.0501526\ttotal: 10.2s\tremaining: 24.6s\n",
            "293:\tlearn: 0.0501277\ttotal: 10.2s\tremaining: 24.6s\n",
            "294:\tlearn: 0.0501079\ttotal: 10.3s\tremaining: 24.5s\n",
            "295:\tlearn: 0.0500477\ttotal: 10.3s\tremaining: 24.5s\n",
            "296:\tlearn: 0.0499935\ttotal: 10.3s\tremaining: 24.4s\n",
            "297:\tlearn: 0.0499309\ttotal: 10.4s\tremaining: 24.4s\n",
            "298:\tlearn: 0.0499022\ttotal: 10.4s\tremaining: 24.4s\n",
            "299:\tlearn: 0.0498800\ttotal: 10.4s\tremaining: 24.3s\n",
            "300:\tlearn: 0.0498316\ttotal: 10.4s\tremaining: 24.3s\n",
            "301:\tlearn: 0.0497726\ttotal: 10.5s\tremaining: 24.2s\n",
            "302:\tlearn: 0.0497409\ttotal: 10.5s\tremaining: 24.2s\n",
            "303:\tlearn: 0.0497093\ttotal: 10.5s\tremaining: 24.1s\n",
            "304:\tlearn: 0.0496852\ttotal: 10.6s\tremaining: 24s\n",
            "305:\tlearn: 0.0496540\ttotal: 10.6s\tremaining: 24s\n",
            "306:\tlearn: 0.0496309\ttotal: 10.6s\tremaining: 24s\n",
            "307:\tlearn: 0.0495936\ttotal: 10.6s\tremaining: 23.9s\n",
            "308:\tlearn: 0.0495644\ttotal: 10.7s\tremaining: 23.9s\n",
            "309:\tlearn: 0.0495225\ttotal: 10.7s\tremaining: 23.8s\n",
            "310:\tlearn: 0.0494965\ttotal: 10.7s\tremaining: 23.8s\n",
            "311:\tlearn: 0.0494347\ttotal: 10.8s\tremaining: 23.7s\n",
            "312:\tlearn: 0.0494192\ttotal: 10.8s\tremaining: 23.7s\n",
            "313:\tlearn: 0.0493915\ttotal: 10.8s\tremaining: 23.6s\n",
            "314:\tlearn: 0.0493708\ttotal: 10.8s\tremaining: 23.6s\n",
            "315:\tlearn: 0.0493133\ttotal: 10.9s\tremaining: 23.5s\n",
            "316:\tlearn: 0.0492889\ttotal: 10.9s\tremaining: 23.5s\n",
            "317:\tlearn: 0.0492683\ttotal: 10.9s\tremaining: 23.4s\n",
            "318:\tlearn: 0.0492121\ttotal: 11s\tremaining: 23.4s\n",
            "319:\tlearn: 0.0491815\ttotal: 11s\tremaining: 23.3s\n",
            "320:\tlearn: 0.0491352\ttotal: 11s\tremaining: 23.3s\n",
            "321:\tlearn: 0.0491126\ttotal: 11.1s\tremaining: 23.3s\n",
            "322:\tlearn: 0.0490846\ttotal: 11.1s\tremaining: 23.2s\n",
            "323:\tlearn: 0.0490387\ttotal: 11.1s\tremaining: 23.2s\n",
            "324:\tlearn: 0.0489706\ttotal: 11.1s\tremaining: 23.1s\n",
            "325:\tlearn: 0.0489487\ttotal: 11.2s\tremaining: 23.1s\n",
            "326:\tlearn: 0.0488984\ttotal: 11.2s\tremaining: 23s\n",
            "327:\tlearn: 0.0488695\ttotal: 11.2s\tremaining: 23s\n",
            "328:\tlearn: 0.0488443\ttotal: 11.2s\tremaining: 22.9s\n",
            "329:\tlearn: 0.0487728\ttotal: 11.3s\tremaining: 22.9s\n",
            "330:\tlearn: 0.0487418\ttotal: 11.3s\tremaining: 22.8s\n",
            "331:\tlearn: 0.0486977\ttotal: 11.3s\tremaining: 22.8s\n",
            "332:\tlearn: 0.0486097\ttotal: 11.4s\tremaining: 22.8s\n",
            "333:\tlearn: 0.0485879\ttotal: 11.4s\tremaining: 22.7s\n",
            "334:\tlearn: 0.0485606\ttotal: 11.4s\tremaining: 22.7s\n",
            "335:\tlearn: 0.0485327\ttotal: 11.5s\tremaining: 22.7s\n",
            "336:\tlearn: 0.0484627\ttotal: 11.5s\tremaining: 22.6s\n",
            "337:\tlearn: 0.0484430\ttotal: 11.5s\tremaining: 22.6s\n",
            "338:\tlearn: 0.0484202\ttotal: 11.5s\tremaining: 22.5s\n",
            "339:\tlearn: 0.0483738\ttotal: 11.6s\tremaining: 22.5s\n",
            "340:\tlearn: 0.0483371\ttotal: 11.6s\tremaining: 22.4s\n",
            "341:\tlearn: 0.0483199\ttotal: 11.6s\tremaining: 22.4s\n",
            "342:\tlearn: 0.0482950\ttotal: 11.7s\tremaining: 22.3s\n",
            "343:\tlearn: 0.0482524\ttotal: 11.7s\tremaining: 22.3s\n",
            "344:\tlearn: 0.0482341\ttotal: 11.7s\tremaining: 22.2s\n",
            "345:\tlearn: 0.0482076\ttotal: 11.7s\tremaining: 22.2s\n",
            "346:\tlearn: 0.0481756\ttotal: 11.8s\tremaining: 22.1s\n",
            "347:\tlearn: 0.0480859\ttotal: 11.8s\tremaining: 22.1s\n",
            "348:\tlearn: 0.0480589\ttotal: 11.8s\tremaining: 22.1s\n",
            "349:\tlearn: 0.0480123\ttotal: 11.9s\tremaining: 22s\n",
            "350:\tlearn: 0.0479601\ttotal: 11.9s\tremaining: 22s\n",
            "351:\tlearn: 0.0479153\ttotal: 11.9s\tremaining: 21.9s\n",
            "352:\tlearn: 0.0478988\ttotal: 11.9s\tremaining: 21.9s\n",
            "353:\tlearn: 0.0478766\ttotal: 12s\tremaining: 21.8s\n",
            "354:\tlearn: 0.0478519\ttotal: 12s\tremaining: 21.8s\n",
            "355:\tlearn: 0.0478133\ttotal: 12s\tremaining: 21.7s\n",
            "356:\tlearn: 0.0477951\ttotal: 12s\tremaining: 21.7s\n",
            "357:\tlearn: 0.0477734\ttotal: 12.1s\tremaining: 21.7s\n",
            "358:\tlearn: 0.0477243\ttotal: 12.1s\tremaining: 21.6s\n",
            "359:\tlearn: 0.0476805\ttotal: 12.1s\tremaining: 21.6s\n",
            "360:\tlearn: 0.0476481\ttotal: 12.2s\tremaining: 21.5s\n",
            "361:\tlearn: 0.0476038\ttotal: 12.2s\tremaining: 21.5s\n",
            "362:\tlearn: 0.0475906\ttotal: 12.2s\tremaining: 21.4s\n",
            "363:\tlearn: 0.0475638\ttotal: 12.2s\tremaining: 21.4s\n",
            "364:\tlearn: 0.0475373\ttotal: 12.3s\tremaining: 21.4s\n",
            "365:\tlearn: 0.0474958\ttotal: 12.3s\tremaining: 21.3s\n",
            "366:\tlearn: 0.0474739\ttotal: 12.3s\tremaining: 21.3s\n",
            "367:\tlearn: 0.0474580\ttotal: 12.4s\tremaining: 21.2s\n",
            "368:\tlearn: 0.0474040\ttotal: 12.4s\tremaining: 21.2s\n",
            "369:\tlearn: 0.0473650\ttotal: 12.4s\tremaining: 21.2s\n",
            "370:\tlearn: 0.0473346\ttotal: 12.5s\tremaining: 21.1s\n",
            "371:\tlearn: 0.0473150\ttotal: 12.5s\tremaining: 21.1s\n",
            "372:\tlearn: 0.0472920\ttotal: 12.5s\tremaining: 21s\n",
            "373:\tlearn: 0.0472729\ttotal: 12.5s\tremaining: 21s\n",
            "374:\tlearn: 0.0472315\ttotal: 12.6s\tremaining: 21s\n",
            "375:\tlearn: 0.0472112\ttotal: 12.6s\tremaining: 20.9s\n",
            "376:\tlearn: 0.0471773\ttotal: 12.6s\tremaining: 20.9s\n",
            "377:\tlearn: 0.0471199\ttotal: 12.7s\tremaining: 20.8s\n",
            "378:\tlearn: 0.0470750\ttotal: 12.7s\tremaining: 20.8s\n",
            "379:\tlearn: 0.0470056\ttotal: 12.7s\tremaining: 20.8s\n",
            "380:\tlearn: 0.0469699\ttotal: 12.7s\tremaining: 20.7s\n",
            "381:\tlearn: 0.0469318\ttotal: 12.8s\tremaining: 20.7s\n",
            "382:\tlearn: 0.0469050\ttotal: 12.8s\tremaining: 20.6s\n",
            "383:\tlearn: 0.0468645\ttotal: 12.8s\tremaining: 20.6s\n",
            "384:\tlearn: 0.0468431\ttotal: 12.9s\tremaining: 20.6s\n",
            "385:\tlearn: 0.0468173\ttotal: 12.9s\tremaining: 20.5s\n",
            "386:\tlearn: 0.0467899\ttotal: 12.9s\tremaining: 20.5s\n",
            "387:\tlearn: 0.0467774\ttotal: 12.9s\tremaining: 20.4s\n",
            "388:\tlearn: 0.0467401\ttotal: 13s\tremaining: 20.4s\n",
            "389:\tlearn: 0.0467054\ttotal: 13s\tremaining: 20.3s\n",
            "390:\tlearn: 0.0466959\ttotal: 13s\tremaining: 20.3s\n",
            "391:\tlearn: 0.0466851\ttotal: 13.1s\tremaining: 20.3s\n",
            "392:\tlearn: 0.0466626\ttotal: 13.1s\tremaining: 20.2s\n",
            "393:\tlearn: 0.0466447\ttotal: 13.1s\tremaining: 20.2s\n",
            "394:\tlearn: 0.0466257\ttotal: 13.1s\tremaining: 20.1s\n",
            "395:\tlearn: 0.0466028\ttotal: 13.2s\tremaining: 20.1s\n",
            "396:\tlearn: 0.0465718\ttotal: 13.2s\tremaining: 20.1s\n",
            "397:\tlearn: 0.0465568\ttotal: 13.3s\tremaining: 20.1s\n",
            "398:\tlearn: 0.0465102\ttotal: 13.3s\tremaining: 20.1s\n",
            "399:\tlearn: 0.0464681\ttotal: 13.4s\tremaining: 20.1s\n",
            "400:\tlearn: 0.0464436\ttotal: 13.5s\tremaining: 20.1s\n",
            "401:\tlearn: 0.0463938\ttotal: 13.5s\tremaining: 20.1s\n",
            "402:\tlearn: 0.0463656\ttotal: 13.6s\tremaining: 20.2s\n",
            "403:\tlearn: 0.0463559\ttotal: 13.7s\tremaining: 20.2s\n",
            "404:\tlearn: 0.0463160\ttotal: 13.7s\tremaining: 20.2s\n",
            "405:\tlearn: 0.0462698\ttotal: 13.8s\tremaining: 20.2s\n",
            "406:\tlearn: 0.0462560\ttotal: 13.8s\tremaining: 20.2s\n",
            "407:\tlearn: 0.0462260\ttotal: 13.9s\tremaining: 20.2s\n",
            "408:\tlearn: 0.0461837\ttotal: 14s\tremaining: 20.2s\n",
            "409:\tlearn: 0.0461513\ttotal: 14.1s\tremaining: 20.2s\n",
            "410:\tlearn: 0.0461393\ttotal: 14.1s\tremaining: 20.3s\n",
            "411:\tlearn: 0.0461257\ttotal: 14.2s\tremaining: 20.3s\n",
            "412:\tlearn: 0.0461061\ttotal: 14.3s\tremaining: 20.3s\n",
            "413:\tlearn: 0.0460909\ttotal: 14.3s\tremaining: 20.3s\n",
            "414:\tlearn: 0.0460881\ttotal: 14.4s\tremaining: 20.3s\n",
            "415:\tlearn: 0.0460639\ttotal: 14.5s\tremaining: 20.3s\n",
            "416:\tlearn: 0.0460485\ttotal: 14.5s\tremaining: 20.3s\n",
            "417:\tlearn: 0.0460239\ttotal: 14.6s\tremaining: 20.3s\n",
            "418:\tlearn: 0.0459823\ttotal: 14.7s\tremaining: 20.3s\n",
            "419:\tlearn: 0.0459717\ttotal: 14.7s\tremaining: 20.3s\n",
            "420:\tlearn: 0.0459546\ttotal: 14.8s\tremaining: 20.3s\n",
            "421:\tlearn: 0.0459316\ttotal: 14.8s\tremaining: 20.3s\n",
            "422:\tlearn: 0.0459125\ttotal: 14.9s\tremaining: 20.3s\n",
            "423:\tlearn: 0.0458894\ttotal: 15s\tremaining: 20.3s\n",
            "424:\tlearn: 0.0458707\ttotal: 15s\tremaining: 20.3s\n",
            "425:\tlearn: 0.0458537\ttotal: 15.1s\tremaining: 20.3s\n",
            "426:\tlearn: 0.0458271\ttotal: 15.1s\tremaining: 20.3s\n",
            "427:\tlearn: 0.0457967\ttotal: 15.1s\tremaining: 20.2s\n",
            "428:\tlearn: 0.0457640\ttotal: 15.2s\tremaining: 20.2s\n",
            "429:\tlearn: 0.0457480\ttotal: 15.2s\tremaining: 20.2s\n",
            "430:\tlearn: 0.0457262\ttotal: 15.3s\tremaining: 20.2s\n",
            "431:\tlearn: 0.0456923\ttotal: 15.4s\tremaining: 20.2s\n",
            "432:\tlearn: 0.0456796\ttotal: 15.4s\tremaining: 20.2s\n",
            "433:\tlearn: 0.0456770\ttotal: 15.5s\tremaining: 20.2s\n",
            "434:\tlearn: 0.0456503\ttotal: 15.6s\tremaining: 20.2s\n",
            "435:\tlearn: 0.0456308\ttotal: 15.6s\tremaining: 20.2s\n",
            "436:\tlearn: 0.0456091\ttotal: 15.7s\tremaining: 20.2s\n",
            "437:\tlearn: 0.0455959\ttotal: 15.8s\tremaining: 20.3s\n",
            "438:\tlearn: 0.0455790\ttotal: 15.9s\tremaining: 20.3s\n",
            "439:\tlearn: 0.0455534\ttotal: 16s\tremaining: 20.3s\n",
            "440:\tlearn: 0.0455243\ttotal: 16s\tremaining: 20.3s\n",
            "441:\tlearn: 0.0455156\ttotal: 16s\tremaining: 20.3s\n",
            "442:\tlearn: 0.0454898\ttotal: 16.1s\tremaining: 20.2s\n",
            "443:\tlearn: 0.0454669\ttotal: 16.1s\tremaining: 20.2s\n",
            "444:\tlearn: 0.0454496\ttotal: 16.1s\tremaining: 20.1s\n",
            "445:\tlearn: 0.0454243\ttotal: 16.2s\tremaining: 20.1s\n",
            "446:\tlearn: 0.0453909\ttotal: 16.2s\tremaining: 20s\n",
            "447:\tlearn: 0.0453599\ttotal: 16.2s\tremaining: 20s\n",
            "448:\tlearn: 0.0453410\ttotal: 16.3s\tremaining: 19.9s\n",
            "449:\tlearn: 0.0453099\ttotal: 16.3s\tremaining: 19.9s\n",
            "450:\tlearn: 0.0452727\ttotal: 16.3s\tremaining: 19.9s\n",
            "451:\tlearn: 0.0452430\ttotal: 16.3s\tremaining: 19.8s\n",
            "452:\tlearn: 0.0452316\ttotal: 16.4s\tremaining: 19.8s\n",
            "453:\tlearn: 0.0452228\ttotal: 16.4s\tremaining: 19.7s\n",
            "454:\tlearn: 0.0452083\ttotal: 16.4s\tremaining: 19.7s\n",
            "455:\tlearn: 0.0451851\ttotal: 16.5s\tremaining: 19.6s\n",
            "456:\tlearn: 0.0451550\ttotal: 16.5s\tremaining: 19.6s\n",
            "457:\tlearn: 0.0451342\ttotal: 16.5s\tremaining: 19.6s\n",
            "458:\tlearn: 0.0451142\ttotal: 16.6s\tremaining: 19.5s\n",
            "459:\tlearn: 0.0450939\ttotal: 16.6s\tremaining: 19.5s\n",
            "460:\tlearn: 0.0450651\ttotal: 16.6s\tremaining: 19.4s\n",
            "461:\tlearn: 0.0450533\ttotal: 16.7s\tremaining: 19.4s\n",
            "462:\tlearn: 0.0450371\ttotal: 16.7s\tremaining: 19.3s\n",
            "463:\tlearn: 0.0450176\ttotal: 16.7s\tremaining: 19.3s\n",
            "464:\tlearn: 0.0449963\ttotal: 16.7s\tremaining: 19.3s\n",
            "465:\tlearn: 0.0449865\ttotal: 16.8s\tremaining: 19.2s\n",
            "466:\tlearn: 0.0449689\ttotal: 16.8s\tremaining: 19.2s\n",
            "467:\tlearn: 0.0449236\ttotal: 16.8s\tremaining: 19.1s\n",
            "468:\tlearn: 0.0449055\ttotal: 16.8s\tremaining: 19.1s\n",
            "469:\tlearn: 0.0448946\ttotal: 16.9s\tremaining: 19s\n",
            "470:\tlearn: 0.0448735\ttotal: 16.9s\tremaining: 19s\n",
            "471:\tlearn: 0.0448399\ttotal: 16.9s\tremaining: 18.9s\n",
            "472:\tlearn: 0.0448242\ttotal: 17s\tremaining: 18.9s\n",
            "473:\tlearn: 0.0448127\ttotal: 17s\tremaining: 18.9s\n",
            "474:\tlearn: 0.0447805\ttotal: 17s\tremaining: 18.8s\n",
            "475:\tlearn: 0.0447660\ttotal: 17s\tremaining: 18.8s\n",
            "476:\tlearn: 0.0447582\ttotal: 17.1s\tremaining: 18.7s\n",
            "477:\tlearn: 0.0447175\ttotal: 17.1s\tremaining: 18.7s\n",
            "478:\tlearn: 0.0447085\ttotal: 17.1s\tremaining: 18.6s\n",
            "479:\tlearn: 0.0446881\ttotal: 17.2s\tremaining: 18.6s\n",
            "480:\tlearn: 0.0446726\ttotal: 17.2s\tremaining: 18.5s\n",
            "481:\tlearn: 0.0446587\ttotal: 17.2s\tremaining: 18.5s\n",
            "482:\tlearn: 0.0446490\ttotal: 17.2s\tremaining: 18.4s\n",
            "483:\tlearn: 0.0446415\ttotal: 17.3s\tremaining: 18.4s\n",
            "484:\tlearn: 0.0446070\ttotal: 17.3s\tremaining: 18.4s\n",
            "485:\tlearn: 0.0445904\ttotal: 17.3s\tremaining: 18.3s\n",
            "486:\tlearn: 0.0445711\ttotal: 17.4s\tremaining: 18.3s\n",
            "487:\tlearn: 0.0445515\ttotal: 17.4s\tremaining: 18.2s\n",
            "488:\tlearn: 0.0445278\ttotal: 17.4s\tremaining: 18.2s\n",
            "489:\tlearn: 0.0445162\ttotal: 17.4s\tremaining: 18.1s\n",
            "490:\tlearn: 0.0445018\ttotal: 17.5s\tremaining: 18.1s\n",
            "491:\tlearn: 0.0444850\ttotal: 17.5s\tremaining: 18.1s\n",
            "492:\tlearn: 0.0444518\ttotal: 17.6s\tremaining: 18.1s\n",
            "493:\tlearn: 0.0444363\ttotal: 17.6s\tremaining: 18s\n",
            "494:\tlearn: 0.0444254\ttotal: 17.6s\tremaining: 18s\n",
            "495:\tlearn: 0.0444049\ttotal: 17.6s\tremaining: 17.9s\n",
            "496:\tlearn: 0.0443913\ttotal: 17.7s\tremaining: 17.9s\n",
            "497:\tlearn: 0.0443748\ttotal: 17.7s\tremaining: 17.8s\n",
            "498:\tlearn: 0.0443643\ttotal: 17.7s\tremaining: 17.8s\n",
            "499:\tlearn: 0.0443540\ttotal: 17.7s\tremaining: 17.7s\n",
            "500:\tlearn: 0.0443291\ttotal: 17.8s\tremaining: 17.7s\n",
            "501:\tlearn: 0.0443168\ttotal: 17.8s\tremaining: 17.7s\n",
            "502:\tlearn: 0.0442876\ttotal: 17.8s\tremaining: 17.6s\n",
            "503:\tlearn: 0.0442736\ttotal: 17.9s\tremaining: 17.6s\n",
            "504:\tlearn: 0.0442448\ttotal: 17.9s\tremaining: 17.5s\n",
            "505:\tlearn: 0.0442334\ttotal: 17.9s\tremaining: 17.5s\n",
            "506:\tlearn: 0.0442214\ttotal: 17.9s\tremaining: 17.4s\n",
            "507:\tlearn: 0.0441963\ttotal: 18s\tremaining: 17.4s\n",
            "508:\tlearn: 0.0441334\ttotal: 18s\tremaining: 17.4s\n",
            "509:\tlearn: 0.0441160\ttotal: 18s\tremaining: 17.3s\n",
            "510:\tlearn: 0.0440889\ttotal: 18.1s\tremaining: 17.3s\n",
            "511:\tlearn: 0.0440773\ttotal: 18.1s\tremaining: 17.2s\n",
            "512:\tlearn: 0.0440621\ttotal: 18.1s\tremaining: 17.2s\n",
            "513:\tlearn: 0.0440226\ttotal: 18.1s\tremaining: 17.1s\n",
            "514:\tlearn: 0.0439967\ttotal: 18.2s\tremaining: 17.1s\n",
            "515:\tlearn: 0.0439874\ttotal: 18.2s\tremaining: 17.1s\n",
            "516:\tlearn: 0.0439707\ttotal: 18.2s\tremaining: 17s\n",
            "517:\tlearn: 0.0439488\ttotal: 18.3s\tremaining: 17s\n",
            "518:\tlearn: 0.0439317\ttotal: 18.3s\tremaining: 16.9s\n",
            "519:\tlearn: 0.0439115\ttotal: 18.3s\tremaining: 16.9s\n",
            "520:\tlearn: 0.0438881\ttotal: 18.3s\tremaining: 16.9s\n",
            "521:\tlearn: 0.0438769\ttotal: 18.4s\tremaining: 16.8s\n",
            "522:\tlearn: 0.0438494\ttotal: 18.4s\tremaining: 16.8s\n",
            "523:\tlearn: 0.0438359\ttotal: 18.4s\tremaining: 16.7s\n",
            "524:\tlearn: 0.0438198\ttotal: 18.5s\tremaining: 16.7s\n",
            "525:\tlearn: 0.0437971\ttotal: 18.5s\tremaining: 16.7s\n",
            "526:\tlearn: 0.0437883\ttotal: 18.5s\tremaining: 16.6s\n",
            "527:\tlearn: 0.0437661\ttotal: 18.5s\tremaining: 16.6s\n",
            "528:\tlearn: 0.0437505\ttotal: 18.6s\tremaining: 16.5s\n",
            "529:\tlearn: 0.0437453\ttotal: 18.6s\tremaining: 16.5s\n",
            "530:\tlearn: 0.0437199\ttotal: 18.6s\tremaining: 16.5s\n",
            "531:\tlearn: 0.0437084\ttotal: 18.7s\tremaining: 16.4s\n",
            "532:\tlearn: 0.0436555\ttotal: 18.7s\tremaining: 16.4s\n",
            "533:\tlearn: 0.0436264\ttotal: 18.7s\tremaining: 16.3s\n",
            "534:\tlearn: 0.0436077\ttotal: 18.8s\tremaining: 16.3s\n",
            "535:\tlearn: 0.0435823\ttotal: 18.8s\tremaining: 16.3s\n",
            "536:\tlearn: 0.0435550\ttotal: 18.8s\tremaining: 16.2s\n",
            "537:\tlearn: 0.0435305\ttotal: 18.8s\tremaining: 16.2s\n",
            "538:\tlearn: 0.0435125\ttotal: 18.9s\tremaining: 16.1s\n",
            "539:\tlearn: 0.0434959\ttotal: 18.9s\tremaining: 16.1s\n",
            "540:\tlearn: 0.0434611\ttotal: 18.9s\tremaining: 16.1s\n",
            "541:\tlearn: 0.0434326\ttotal: 19s\tremaining: 16s\n",
            "542:\tlearn: 0.0434147\ttotal: 19s\tremaining: 16s\n",
            "543:\tlearn: 0.0434010\ttotal: 19s\tremaining: 15.9s\n",
            "544:\tlearn: 0.0433848\ttotal: 19s\tremaining: 15.9s\n",
            "545:\tlearn: 0.0433579\ttotal: 19.1s\tremaining: 15.9s\n",
            "546:\tlearn: 0.0433367\ttotal: 19.1s\tremaining: 15.8s\n",
            "547:\tlearn: 0.0433003\ttotal: 19.1s\tremaining: 15.8s\n",
            "548:\tlearn: 0.0432763\ttotal: 19.2s\tremaining: 15.7s\n",
            "549:\tlearn: 0.0432401\ttotal: 19.2s\tremaining: 15.7s\n",
            "550:\tlearn: 0.0432196\ttotal: 19.2s\tremaining: 15.7s\n",
            "551:\tlearn: 0.0431775\ttotal: 19.2s\tremaining: 15.6s\n",
            "552:\tlearn: 0.0431623\ttotal: 19.3s\tremaining: 15.6s\n",
            "553:\tlearn: 0.0431503\ttotal: 19.3s\tremaining: 15.5s\n",
            "554:\tlearn: 0.0431358\ttotal: 19.3s\tremaining: 15.5s\n",
            "555:\tlearn: 0.0431219\ttotal: 19.4s\tremaining: 15.5s\n",
            "556:\tlearn: 0.0431038\ttotal: 19.4s\tremaining: 15.4s\n",
            "557:\tlearn: 0.0430806\ttotal: 19.4s\tremaining: 15.4s\n",
            "558:\tlearn: 0.0430579\ttotal: 19.4s\tremaining: 15.3s\n",
            "559:\tlearn: 0.0430406\ttotal: 19.5s\tremaining: 15.3s\n",
            "560:\tlearn: 0.0430230\ttotal: 19.5s\tremaining: 15.3s\n",
            "561:\tlearn: 0.0430017\ttotal: 19.5s\tremaining: 15.2s\n",
            "562:\tlearn: 0.0429934\ttotal: 19.6s\tremaining: 15.2s\n",
            "563:\tlearn: 0.0429791\ttotal: 19.6s\tremaining: 15.1s\n",
            "564:\tlearn: 0.0429674\ttotal: 19.6s\tremaining: 15.1s\n",
            "565:\tlearn: 0.0429440\ttotal: 19.7s\tremaining: 15.1s\n",
            "566:\tlearn: 0.0429311\ttotal: 19.7s\tremaining: 15s\n",
            "567:\tlearn: 0.0429080\ttotal: 19.7s\tremaining: 15s\n",
            "568:\tlearn: 0.0428794\ttotal: 19.7s\tremaining: 14.9s\n",
            "569:\tlearn: 0.0428624\ttotal: 19.8s\tremaining: 14.9s\n",
            "570:\tlearn: 0.0428434\ttotal: 19.8s\tremaining: 14.9s\n",
            "571:\tlearn: 0.0428416\ttotal: 19.8s\tremaining: 14.8s\n",
            "572:\tlearn: 0.0428231\ttotal: 19.8s\tremaining: 14.8s\n",
            "573:\tlearn: 0.0428080\ttotal: 19.9s\tremaining: 14.7s\n",
            "574:\tlearn: 0.0427768\ttotal: 19.9s\tremaining: 14.7s\n",
            "575:\tlearn: 0.0427573\ttotal: 19.9s\tremaining: 14.7s\n",
            "576:\tlearn: 0.0427419\ttotal: 20s\tremaining: 14.6s\n",
            "577:\tlearn: 0.0427132\ttotal: 20s\tremaining: 14.6s\n",
            "578:\tlearn: 0.0426914\ttotal: 20s\tremaining: 14.6s\n",
            "579:\tlearn: 0.0426751\ttotal: 20s\tremaining: 14.5s\n",
            "580:\tlearn: 0.0426599\ttotal: 20.1s\tremaining: 14.5s\n",
            "581:\tlearn: 0.0426470\ttotal: 20.1s\tremaining: 14.4s\n",
            "582:\tlearn: 0.0425912\ttotal: 20.1s\tremaining: 14.4s\n",
            "583:\tlearn: 0.0425839\ttotal: 20.2s\tremaining: 14.4s\n",
            "584:\tlearn: 0.0425736\ttotal: 20.2s\tremaining: 14.3s\n",
            "585:\tlearn: 0.0425455\ttotal: 20.2s\tremaining: 14.3s\n",
            "586:\tlearn: 0.0425177\ttotal: 20.2s\tremaining: 14.2s\n",
            "587:\tlearn: 0.0424979\ttotal: 20.3s\tremaining: 14.2s\n",
            "588:\tlearn: 0.0424790\ttotal: 20.3s\tremaining: 14.2s\n",
            "589:\tlearn: 0.0424631\ttotal: 20.3s\tremaining: 14.1s\n",
            "590:\tlearn: 0.0424533\ttotal: 20.4s\tremaining: 14.1s\n",
            "591:\tlearn: 0.0424423\ttotal: 20.4s\tremaining: 14s\n",
            "592:\tlearn: 0.0424154\ttotal: 20.4s\tremaining: 14s\n",
            "593:\tlearn: 0.0424038\ttotal: 20.4s\tremaining: 14s\n",
            "594:\tlearn: 0.0423740\ttotal: 20.5s\tremaining: 13.9s\n",
            "595:\tlearn: 0.0423612\ttotal: 20.5s\tremaining: 13.9s\n",
            "596:\tlearn: 0.0423424\ttotal: 20.5s\tremaining: 13.9s\n",
            "597:\tlearn: 0.0423206\ttotal: 20.6s\tremaining: 13.8s\n",
            "598:\tlearn: 0.0423052\ttotal: 20.6s\tremaining: 13.8s\n",
            "599:\tlearn: 0.0422965\ttotal: 20.6s\tremaining: 13.8s\n",
            "600:\tlearn: 0.0422855\ttotal: 20.7s\tremaining: 13.7s\n",
            "601:\tlearn: 0.0422664\ttotal: 20.7s\tremaining: 13.7s\n",
            "602:\tlearn: 0.0422474\ttotal: 20.7s\tremaining: 13.6s\n",
            "603:\tlearn: 0.0422313\ttotal: 20.7s\tremaining: 13.6s\n",
            "604:\tlearn: 0.0422214\ttotal: 20.8s\tremaining: 13.6s\n",
            "605:\tlearn: 0.0422098\ttotal: 20.8s\tremaining: 13.5s\n",
            "606:\tlearn: 0.0421811\ttotal: 20.8s\tremaining: 13.5s\n",
            "607:\tlearn: 0.0421692\ttotal: 20.9s\tremaining: 13.4s\n",
            "608:\tlearn: 0.0421545\ttotal: 20.9s\tremaining: 13.4s\n",
            "609:\tlearn: 0.0421202\ttotal: 20.9s\tremaining: 13.4s\n",
            "610:\tlearn: 0.0421011\ttotal: 20.9s\tremaining: 13.3s\n",
            "611:\tlearn: 0.0420824\ttotal: 21s\tremaining: 13.3s\n",
            "612:\tlearn: 0.0420711\ttotal: 21s\tremaining: 13.2s\n",
            "613:\tlearn: 0.0420526\ttotal: 21s\tremaining: 13.2s\n",
            "614:\tlearn: 0.0420344\ttotal: 21s\tremaining: 13.2s\n",
            "615:\tlearn: 0.0420071\ttotal: 21.1s\tremaining: 13.1s\n",
            "616:\tlearn: 0.0419951\ttotal: 21.1s\tremaining: 13.1s\n",
            "617:\tlearn: 0.0419874\ttotal: 21.1s\tremaining: 13.1s\n",
            "618:\tlearn: 0.0419759\ttotal: 21.2s\tremaining: 13s\n",
            "619:\tlearn: 0.0419652\ttotal: 21.2s\tremaining: 13s\n",
            "620:\tlearn: 0.0419566\ttotal: 21.2s\tremaining: 12.9s\n",
            "621:\tlearn: 0.0419552\ttotal: 21.2s\tremaining: 12.9s\n",
            "622:\tlearn: 0.0419440\ttotal: 21.3s\tremaining: 12.9s\n",
            "623:\tlearn: 0.0419351\ttotal: 21.3s\tremaining: 12.8s\n",
            "624:\tlearn: 0.0419175\ttotal: 21.3s\tremaining: 12.8s\n",
            "625:\tlearn: 0.0419048\ttotal: 21.4s\tremaining: 12.8s\n",
            "626:\tlearn: 0.0418900\ttotal: 21.4s\tremaining: 12.7s\n",
            "627:\tlearn: 0.0418707\ttotal: 21.4s\tremaining: 12.7s\n",
            "628:\tlearn: 0.0418540\ttotal: 21.4s\tremaining: 12.6s\n",
            "629:\tlearn: 0.0418371\ttotal: 21.5s\tremaining: 12.6s\n",
            "630:\tlearn: 0.0418180\ttotal: 21.5s\tremaining: 12.6s\n",
            "631:\tlearn: 0.0418106\ttotal: 21.5s\tremaining: 12.5s\n",
            "632:\tlearn: 0.0417899\ttotal: 21.6s\tremaining: 12.5s\n",
            "633:\tlearn: 0.0417675\ttotal: 21.6s\tremaining: 12.5s\n",
            "634:\tlearn: 0.0417539\ttotal: 21.6s\tremaining: 12.4s\n",
            "635:\tlearn: 0.0417455\ttotal: 21.7s\tremaining: 12.4s\n",
            "636:\tlearn: 0.0417350\ttotal: 21.7s\tremaining: 12.4s\n",
            "637:\tlearn: 0.0417240\ttotal: 21.7s\tremaining: 12.3s\n",
            "638:\tlearn: 0.0417084\ttotal: 21.8s\tremaining: 12.3s\n",
            "639:\tlearn: 0.0416999\ttotal: 21.8s\tremaining: 12.3s\n",
            "640:\tlearn: 0.0416913\ttotal: 21.8s\tremaining: 12.2s\n",
            "641:\tlearn: 0.0416743\ttotal: 21.9s\tremaining: 12.2s\n",
            "642:\tlearn: 0.0416579\ttotal: 21.9s\tremaining: 12.1s\n",
            "643:\tlearn: 0.0416112\ttotal: 21.9s\tremaining: 12.1s\n",
            "644:\tlearn: 0.0415944\ttotal: 21.9s\tremaining: 12.1s\n",
            "645:\tlearn: 0.0415784\ttotal: 22s\tremaining: 12s\n",
            "646:\tlearn: 0.0415667\ttotal: 22s\tremaining: 12s\n",
            "647:\tlearn: 0.0415570\ttotal: 22s\tremaining: 12s\n",
            "648:\tlearn: 0.0415474\ttotal: 22.1s\tremaining: 11.9s\n",
            "649:\tlearn: 0.0415243\ttotal: 22.1s\tremaining: 11.9s\n",
            "650:\tlearn: 0.0414984\ttotal: 22.1s\tremaining: 11.9s\n",
            "651:\tlearn: 0.0414933\ttotal: 22.1s\tremaining: 11.8s\n",
            "652:\tlearn: 0.0414832\ttotal: 22.2s\tremaining: 11.8s\n",
            "653:\tlearn: 0.0414681\ttotal: 22.2s\tremaining: 11.8s\n",
            "654:\tlearn: 0.0414593\ttotal: 22.2s\tremaining: 11.7s\n",
            "655:\tlearn: 0.0414394\ttotal: 22.3s\tremaining: 11.7s\n",
            "656:\tlearn: 0.0414154\ttotal: 22.3s\tremaining: 11.6s\n",
            "657:\tlearn: 0.0414061\ttotal: 22.3s\tremaining: 11.6s\n",
            "658:\tlearn: 0.0413946\ttotal: 22.4s\tremaining: 11.6s\n",
            "659:\tlearn: 0.0413806\ttotal: 22.4s\tremaining: 11.5s\n",
            "660:\tlearn: 0.0413717\ttotal: 22.4s\tremaining: 11.5s\n",
            "661:\tlearn: 0.0413554\ttotal: 22.5s\tremaining: 11.5s\n",
            "662:\tlearn: 0.0413256\ttotal: 22.5s\tremaining: 11.4s\n",
            "663:\tlearn: 0.0413131\ttotal: 22.5s\tremaining: 11.4s\n",
            "664:\tlearn: 0.0412885\ttotal: 22.5s\tremaining: 11.4s\n",
            "665:\tlearn: 0.0412773\ttotal: 22.6s\tremaining: 11.3s\n",
            "666:\tlearn: 0.0412773\ttotal: 22.6s\tremaining: 11.3s\n",
            "667:\tlearn: 0.0412772\ttotal: 22.6s\tremaining: 11.2s\n",
            "668:\tlearn: 0.0412651\ttotal: 22.7s\tremaining: 11.2s\n",
            "669:\tlearn: 0.0412512\ttotal: 22.7s\tremaining: 11.2s\n",
            "670:\tlearn: 0.0412414\ttotal: 22.7s\tremaining: 11.1s\n",
            "671:\tlearn: 0.0412269\ttotal: 22.8s\tremaining: 11.1s\n",
            "672:\tlearn: 0.0412256\ttotal: 22.8s\tremaining: 11.1s\n",
            "673:\tlearn: 0.0412144\ttotal: 22.8s\tremaining: 11s\n",
            "674:\tlearn: 0.0412105\ttotal: 22.8s\tremaining: 11s\n",
            "675:\tlearn: 0.0411975\ttotal: 22.9s\tremaining: 11s\n",
            "676:\tlearn: 0.0411860\ttotal: 22.9s\tremaining: 10.9s\n",
            "677:\tlearn: 0.0411562\ttotal: 22.9s\tremaining: 10.9s\n",
            "678:\tlearn: 0.0411462\ttotal: 23s\tremaining: 10.9s\n",
            "679:\tlearn: 0.0411347\ttotal: 23s\tremaining: 10.8s\n",
            "680:\tlearn: 0.0411041\ttotal: 23s\tremaining: 10.8s\n",
            "681:\tlearn: 0.0410923\ttotal: 23.1s\tremaining: 10.8s\n",
            "682:\tlearn: 0.0410713\ttotal: 23.1s\tremaining: 10.7s\n",
            "683:\tlearn: 0.0410547\ttotal: 23.1s\tremaining: 10.7s\n",
            "684:\tlearn: 0.0410324\ttotal: 23.1s\tremaining: 10.6s\n",
            "685:\tlearn: 0.0410116\ttotal: 23.2s\tremaining: 10.6s\n",
            "686:\tlearn: 0.0410014\ttotal: 23.2s\tremaining: 10.6s\n",
            "687:\tlearn: 0.0409928\ttotal: 23.2s\tremaining: 10.5s\n",
            "688:\tlearn: 0.0409830\ttotal: 23.3s\tremaining: 10.5s\n",
            "689:\tlearn: 0.0409639\ttotal: 23.3s\tremaining: 10.5s\n",
            "690:\tlearn: 0.0409383\ttotal: 23.3s\tremaining: 10.4s\n",
            "691:\tlearn: 0.0409126\ttotal: 23.4s\tremaining: 10.4s\n",
            "692:\tlearn: 0.0408848\ttotal: 23.4s\tremaining: 10.4s\n",
            "693:\tlearn: 0.0408776\ttotal: 23.4s\tremaining: 10.3s\n",
            "694:\tlearn: 0.0408683\ttotal: 23.4s\tremaining: 10.3s\n",
            "695:\tlearn: 0.0408531\ttotal: 23.5s\tremaining: 10.3s\n",
            "696:\tlearn: 0.0408443\ttotal: 23.5s\tremaining: 10.2s\n",
            "697:\tlearn: 0.0408363\ttotal: 23.5s\tremaining: 10.2s\n",
            "698:\tlearn: 0.0408281\ttotal: 23.6s\tremaining: 10.1s\n",
            "699:\tlearn: 0.0408091\ttotal: 23.6s\tremaining: 10.1s\n",
            "700:\tlearn: 0.0408011\ttotal: 23.6s\tremaining: 10.1s\n",
            "701:\tlearn: 0.0407892\ttotal: 23.6s\tremaining: 10s\n",
            "702:\tlearn: 0.0407801\ttotal: 23.7s\tremaining: 10s\n",
            "703:\tlearn: 0.0407600\ttotal: 23.7s\tremaining: 9.98s\n",
            "704:\tlearn: 0.0407499\ttotal: 23.8s\tremaining: 9.94s\n",
            "705:\tlearn: 0.0407380\ttotal: 23.8s\tremaining: 9.9s\n",
            "706:\tlearn: 0.0407296\ttotal: 23.8s\tremaining: 9.87s\n",
            "707:\tlearn: 0.0407131\ttotal: 23.8s\tremaining: 9.83s\n",
            "708:\tlearn: 0.0406920\ttotal: 23.9s\tremaining: 9.8s\n",
            "709:\tlearn: 0.0406839\ttotal: 23.9s\tremaining: 9.77s\n",
            "710:\tlearn: 0.0406614\ttotal: 23.9s\tremaining: 9.73s\n",
            "711:\tlearn: 0.0406536\ttotal: 24s\tremaining: 9.69s\n",
            "712:\tlearn: 0.0406407\ttotal: 24s\tremaining: 9.66s\n",
            "713:\tlearn: 0.0405974\ttotal: 24s\tremaining: 9.62s\n",
            "714:\tlearn: 0.0405882\ttotal: 24.1s\tremaining: 9.59s\n",
            "715:\tlearn: 0.0405681\ttotal: 24.1s\tremaining: 9.55s\n",
            "716:\tlearn: 0.0405539\ttotal: 24.1s\tremaining: 9.52s\n",
            "717:\tlearn: 0.0405282\ttotal: 24.1s\tremaining: 9.48s\n",
            "718:\tlearn: 0.0405160\ttotal: 24.2s\tremaining: 9.45s\n",
            "719:\tlearn: 0.0405160\ttotal: 24.2s\tremaining: 9.41s\n",
            "720:\tlearn: 0.0405103\ttotal: 24.2s\tremaining: 9.37s\n",
            "721:\tlearn: 0.0404852\ttotal: 24.3s\tremaining: 9.34s\n",
            "722:\tlearn: 0.0404591\ttotal: 24.3s\tremaining: 9.3s\n",
            "723:\tlearn: 0.0404431\ttotal: 24.3s\tremaining: 9.27s\n",
            "724:\tlearn: 0.0404352\ttotal: 24.3s\tremaining: 9.23s\n",
            "725:\tlearn: 0.0404258\ttotal: 24.4s\tremaining: 9.2s\n",
            "726:\tlearn: 0.0404080\ttotal: 24.4s\tremaining: 9.16s\n",
            "727:\tlearn: 0.0403751\ttotal: 24.4s\tremaining: 9.13s\n",
            "728:\tlearn: 0.0403608\ttotal: 24.5s\tremaining: 9.09s\n",
            "729:\tlearn: 0.0403431\ttotal: 24.5s\tremaining: 9.06s\n",
            "730:\tlearn: 0.0403230\ttotal: 24.5s\tremaining: 9.02s\n",
            "731:\tlearn: 0.0403077\ttotal: 24.6s\tremaining: 8.99s\n",
            "732:\tlearn: 0.0402854\ttotal: 24.6s\tremaining: 8.95s\n",
            "733:\tlearn: 0.0402773\ttotal: 24.6s\tremaining: 8.92s\n",
            "734:\tlearn: 0.0402570\ttotal: 24.6s\tremaining: 8.88s\n",
            "735:\tlearn: 0.0402462\ttotal: 24.7s\tremaining: 8.85s\n",
            "736:\tlearn: 0.0402323\ttotal: 24.7s\tremaining: 8.82s\n",
            "737:\tlearn: 0.0402224\ttotal: 24.7s\tremaining: 8.78s\n",
            "738:\tlearn: 0.0402099\ttotal: 24.8s\tremaining: 8.75s\n",
            "739:\tlearn: 0.0402021\ttotal: 24.8s\tremaining: 8.71s\n",
            "740:\tlearn: 0.0401854\ttotal: 24.8s\tremaining: 8.68s\n",
            "741:\tlearn: 0.0401789\ttotal: 24.9s\tremaining: 8.64s\n",
            "742:\tlearn: 0.0401721\ttotal: 24.9s\tremaining: 8.61s\n",
            "743:\tlearn: 0.0401612\ttotal: 24.9s\tremaining: 8.57s\n",
            "744:\tlearn: 0.0401578\ttotal: 24.9s\tremaining: 8.54s\n",
            "745:\tlearn: 0.0401335\ttotal: 25s\tremaining: 8.5s\n",
            "746:\tlearn: 0.0401234\ttotal: 25s\tremaining: 8.47s\n",
            "747:\tlearn: 0.0401073\ttotal: 25s\tremaining: 8.43s\n",
            "748:\tlearn: 0.0400984\ttotal: 25.1s\tremaining: 8.4s\n",
            "749:\tlearn: 0.0400802\ttotal: 25.1s\tremaining: 8.36s\n",
            "750:\tlearn: 0.0400762\ttotal: 25.1s\tremaining: 8.33s\n",
            "751:\tlearn: 0.0400589\ttotal: 25.1s\tremaining: 8.29s\n",
            "752:\tlearn: 0.0400499\ttotal: 25.2s\tremaining: 8.26s\n",
            "753:\tlearn: 0.0400423\ttotal: 25.2s\tremaining: 8.22s\n",
            "754:\tlearn: 0.0400269\ttotal: 25.2s\tremaining: 8.19s\n",
            "755:\tlearn: 0.0400131\ttotal: 25.3s\tremaining: 8.15s\n",
            "756:\tlearn: 0.0399986\ttotal: 25.3s\tremaining: 8.12s\n",
            "757:\tlearn: 0.0399914\ttotal: 25.3s\tremaining: 8.09s\n",
            "758:\tlearn: 0.0399774\ttotal: 25.4s\tremaining: 8.05s\n",
            "759:\tlearn: 0.0399640\ttotal: 25.4s\tremaining: 8.02s\n",
            "760:\tlearn: 0.0399510\ttotal: 25.4s\tremaining: 7.98s\n",
            "761:\tlearn: 0.0399297\ttotal: 25.4s\tremaining: 7.95s\n",
            "762:\tlearn: 0.0399184\ttotal: 25.5s\tremaining: 7.91s\n",
            "763:\tlearn: 0.0399041\ttotal: 25.5s\tremaining: 7.88s\n",
            "764:\tlearn: 0.0398909\ttotal: 25.5s\tremaining: 7.84s\n",
            "765:\tlearn: 0.0398618\ttotal: 25.6s\tremaining: 7.81s\n",
            "766:\tlearn: 0.0398533\ttotal: 25.6s\tremaining: 7.77s\n",
            "767:\tlearn: 0.0398379\ttotal: 25.6s\tremaining: 7.74s\n",
            "768:\tlearn: 0.0398256\ttotal: 25.7s\tremaining: 7.71s\n",
            "769:\tlearn: 0.0398056\ttotal: 25.7s\tremaining: 7.67s\n",
            "770:\tlearn: 0.0397972\ttotal: 25.7s\tremaining: 7.64s\n",
            "771:\tlearn: 0.0397926\ttotal: 25.8s\tremaining: 7.61s\n",
            "772:\tlearn: 0.0397817\ttotal: 25.8s\tremaining: 7.57s\n",
            "773:\tlearn: 0.0397788\ttotal: 25.8s\tremaining: 7.54s\n",
            "774:\tlearn: 0.0397534\ttotal: 25.9s\tremaining: 7.5s\n",
            "775:\tlearn: 0.0397346\ttotal: 25.9s\tremaining: 7.47s\n",
            "776:\tlearn: 0.0397243\ttotal: 25.9s\tremaining: 7.44s\n",
            "777:\tlearn: 0.0397093\ttotal: 26s\tremaining: 7.42s\n",
            "778:\tlearn: 0.0396921\ttotal: 26.1s\tremaining: 7.39s\n",
            "779:\tlearn: 0.0396619\ttotal: 26.1s\tremaining: 7.37s\n",
            "780:\tlearn: 0.0396531\ttotal: 26.2s\tremaining: 7.34s\n",
            "781:\tlearn: 0.0396437\ttotal: 26.2s\tremaining: 7.31s\n",
            "782:\tlearn: 0.0396371\ttotal: 26.3s\tremaining: 7.28s\n",
            "783:\tlearn: 0.0396283\ttotal: 26.3s\tremaining: 7.26s\n",
            "784:\tlearn: 0.0396253\ttotal: 26.4s\tremaining: 7.24s\n",
            "785:\tlearn: 0.0396090\ttotal: 26.5s\tremaining: 7.21s\n",
            "786:\tlearn: 0.0396023\ttotal: 26.5s\tremaining: 7.18s\n",
            "787:\tlearn: 0.0395870\ttotal: 26.6s\tremaining: 7.16s\n",
            "788:\tlearn: 0.0395811\ttotal: 26.7s\tremaining: 7.14s\n",
            "789:\tlearn: 0.0395688\ttotal: 26.8s\tremaining: 7.12s\n",
            "790:\tlearn: 0.0395293\ttotal: 26.8s\tremaining: 7.09s\n",
            "791:\tlearn: 0.0395202\ttotal: 26.9s\tremaining: 7.07s\n",
            "792:\tlearn: 0.0395060\ttotal: 27s\tremaining: 7.05s\n",
            "793:\tlearn: 0.0394939\ttotal: 27s\tremaining: 7.01s\n",
            "794:\tlearn: 0.0394819\ttotal: 27.1s\tremaining: 6.98s\n",
            "795:\tlearn: 0.0394515\ttotal: 27.2s\tremaining: 6.96s\n",
            "796:\tlearn: 0.0394381\ttotal: 27.2s\tremaining: 6.93s\n",
            "797:\tlearn: 0.0394151\ttotal: 27.2s\tremaining: 6.9s\n",
            "798:\tlearn: 0.0393966\ttotal: 27.3s\tremaining: 6.87s\n",
            "799:\tlearn: 0.0393842\ttotal: 27.4s\tremaining: 6.85s\n",
            "800:\tlearn: 0.0393489\ttotal: 27.5s\tremaining: 6.82s\n",
            "801:\tlearn: 0.0393288\ttotal: 27.5s\tremaining: 6.8s\n",
            "802:\tlearn: 0.0393092\ttotal: 27.6s\tremaining: 6.77s\n",
            "803:\tlearn: 0.0392984\ttotal: 27.7s\tremaining: 6.75s\n",
            "804:\tlearn: 0.0392746\ttotal: 27.7s\tremaining: 6.72s\n",
            "805:\tlearn: 0.0392666\ttotal: 27.8s\tremaining: 6.7s\n",
            "806:\tlearn: 0.0392561\ttotal: 27.9s\tremaining: 6.66s\n",
            "807:\tlearn: 0.0392485\ttotal: 27.9s\tremaining: 6.64s\n",
            "808:\tlearn: 0.0392404\ttotal: 28s\tremaining: 6.61s\n",
            "809:\tlearn: 0.0392241\ttotal: 28.1s\tremaining: 6.58s\n",
            "810:\tlearn: 0.0392171\ttotal: 28.1s\tremaining: 6.55s\n",
            "811:\tlearn: 0.0392096\ttotal: 28.2s\tremaining: 6.53s\n",
            "812:\tlearn: 0.0391887\ttotal: 28.3s\tremaining: 6.5s\n",
            "813:\tlearn: 0.0391699\ttotal: 28.3s\tremaining: 6.47s\n",
            "814:\tlearn: 0.0391530\ttotal: 28.4s\tremaining: 6.44s\n",
            "815:\tlearn: 0.0391346\ttotal: 28.4s\tremaining: 6.41s\n",
            "816:\tlearn: 0.0391234\ttotal: 28.5s\tremaining: 6.38s\n",
            "817:\tlearn: 0.0391069\ttotal: 28.6s\tremaining: 6.36s\n",
            "818:\tlearn: 0.0390939\ttotal: 28.7s\tremaining: 6.33s\n",
            "819:\tlearn: 0.0390794\ttotal: 28.7s\tremaining: 6.3s\n",
            "820:\tlearn: 0.0390582\ttotal: 28.8s\tremaining: 6.28s\n",
            "821:\tlearn: 0.0390456\ttotal: 28.8s\tremaining: 6.24s\n",
            "822:\tlearn: 0.0390268\ttotal: 28.9s\tremaining: 6.21s\n",
            "823:\tlearn: 0.0390130\ttotal: 28.9s\tremaining: 6.17s\n",
            "824:\tlearn: 0.0389994\ttotal: 28.9s\tremaining: 6.13s\n",
            "825:\tlearn: 0.0389875\ttotal: 28.9s\tremaining: 6.1s\n",
            "826:\tlearn: 0.0389716\ttotal: 29s\tremaining: 6.06s\n",
            "827:\tlearn: 0.0389569\ttotal: 29s\tremaining: 6.03s\n",
            "828:\tlearn: 0.0389499\ttotal: 29s\tremaining: 5.99s\n",
            "829:\tlearn: 0.0389434\ttotal: 29.1s\tremaining: 5.95s\n",
            "830:\tlearn: 0.0389364\ttotal: 29.1s\tremaining: 5.92s\n",
            "831:\tlearn: 0.0389131\ttotal: 29.1s\tremaining: 5.88s\n",
            "832:\tlearn: 0.0389015\ttotal: 29.1s\tremaining: 5.84s\n",
            "833:\tlearn: 0.0389014\ttotal: 29.2s\tremaining: 5.8s\n",
            "834:\tlearn: 0.0389014\ttotal: 29.2s\tremaining: 5.77s\n",
            "835:\tlearn: 0.0388961\ttotal: 29.2s\tremaining: 5.73s\n",
            "836:\tlearn: 0.0388854\ttotal: 29.2s\tremaining: 5.7s\n",
            "837:\tlearn: 0.0388738\ttotal: 29.3s\tremaining: 5.66s\n",
            "838:\tlearn: 0.0388610\ttotal: 29.3s\tremaining: 5.62s\n",
            "839:\tlearn: 0.0388478\ttotal: 29.3s\tremaining: 5.59s\n",
            "840:\tlearn: 0.0388422\ttotal: 29.4s\tremaining: 5.55s\n",
            "841:\tlearn: 0.0388207\ttotal: 29.4s\tremaining: 5.51s\n",
            "842:\tlearn: 0.0388113\ttotal: 29.4s\tremaining: 5.48s\n",
            "843:\tlearn: 0.0387973\ttotal: 29.4s\tremaining: 5.44s\n",
            "844:\tlearn: 0.0387907\ttotal: 29.5s\tremaining: 5.41s\n",
            "845:\tlearn: 0.0387802\ttotal: 29.5s\tremaining: 5.37s\n",
            "846:\tlearn: 0.0387688\ttotal: 29.5s\tremaining: 5.33s\n",
            "847:\tlearn: 0.0387497\ttotal: 29.6s\tremaining: 5.3s\n",
            "848:\tlearn: 0.0387497\ttotal: 29.6s\tremaining: 5.26s\n",
            "849:\tlearn: 0.0387184\ttotal: 29.6s\tremaining: 5.22s\n",
            "850:\tlearn: 0.0387037\ttotal: 29.6s\tremaining: 5.19s\n",
            "851:\tlearn: 0.0386831\ttotal: 29.7s\tremaining: 5.15s\n",
            "852:\tlearn: 0.0386709\ttotal: 29.7s\tremaining: 5.12s\n",
            "853:\tlearn: 0.0386707\ttotal: 29.7s\tremaining: 5.08s\n",
            "854:\tlearn: 0.0386639\ttotal: 29.7s\tremaining: 5.04s\n",
            "855:\tlearn: 0.0386499\ttotal: 29.8s\tremaining: 5.01s\n",
            "856:\tlearn: 0.0386399\ttotal: 29.8s\tremaining: 4.97s\n",
            "857:\tlearn: 0.0386349\ttotal: 29.8s\tremaining: 4.94s\n",
            "858:\tlearn: 0.0386192\ttotal: 29.9s\tremaining: 4.9s\n",
            "859:\tlearn: 0.0386152\ttotal: 29.9s\tremaining: 4.87s\n",
            "860:\tlearn: 0.0386090\ttotal: 29.9s\tremaining: 4.83s\n",
            "861:\tlearn: 0.0385904\ttotal: 30s\tremaining: 4.79s\n",
            "862:\tlearn: 0.0385787\ttotal: 30s\tremaining: 4.76s\n",
            "863:\tlearn: 0.0385667\ttotal: 30s\tremaining: 4.72s\n",
            "864:\tlearn: 0.0385514\ttotal: 30s\tremaining: 4.69s\n",
            "865:\tlearn: 0.0385332\ttotal: 30.1s\tremaining: 4.65s\n",
            "866:\tlearn: 0.0385093\ttotal: 30.1s\tremaining: 4.62s\n",
            "867:\tlearn: 0.0384942\ttotal: 30.1s\tremaining: 4.58s\n",
            "868:\tlearn: 0.0384835\ttotal: 30.2s\tremaining: 4.54s\n",
            "869:\tlearn: 0.0384726\ttotal: 30.2s\tremaining: 4.51s\n",
            "870:\tlearn: 0.0384573\ttotal: 30.2s\tremaining: 4.47s\n",
            "871:\tlearn: 0.0384502\ttotal: 30.2s\tremaining: 4.44s\n",
            "872:\tlearn: 0.0384459\ttotal: 30.3s\tremaining: 4.4s\n",
            "873:\tlearn: 0.0384320\ttotal: 30.3s\tremaining: 4.37s\n",
            "874:\tlearn: 0.0384239\ttotal: 30.3s\tremaining: 4.33s\n",
            "875:\tlearn: 0.0384239\ttotal: 30.3s\tremaining: 4.29s\n",
            "876:\tlearn: 0.0384188\ttotal: 30.4s\tremaining: 4.26s\n",
            "877:\tlearn: 0.0383996\ttotal: 30.4s\tremaining: 4.22s\n",
            "878:\tlearn: 0.0383830\ttotal: 30.4s\tremaining: 4.19s\n",
            "879:\tlearn: 0.0383830\ttotal: 30.5s\tremaining: 4.15s\n",
            "880:\tlearn: 0.0383770\ttotal: 30.5s\tremaining: 4.12s\n",
            "881:\tlearn: 0.0383700\ttotal: 30.5s\tremaining: 4.08s\n",
            "882:\tlearn: 0.0383428\ttotal: 30.5s\tremaining: 4.05s\n",
            "883:\tlearn: 0.0383283\ttotal: 30.6s\tremaining: 4.01s\n",
            "884:\tlearn: 0.0383157\ttotal: 30.6s\tremaining: 3.98s\n",
            "885:\tlearn: 0.0382989\ttotal: 30.6s\tremaining: 3.94s\n",
            "886:\tlearn: 0.0382889\ttotal: 30.7s\tremaining: 3.9s\n",
            "887:\tlearn: 0.0382800\ttotal: 30.7s\tremaining: 3.87s\n",
            "888:\tlearn: 0.0382717\ttotal: 30.7s\tremaining: 3.83s\n",
            "889:\tlearn: 0.0382641\ttotal: 30.7s\tremaining: 3.8s\n",
            "890:\tlearn: 0.0382443\ttotal: 30.8s\tremaining: 3.76s\n",
            "891:\tlearn: 0.0382402\ttotal: 30.8s\tremaining: 3.73s\n",
            "892:\tlearn: 0.0382237\ttotal: 30.8s\tremaining: 3.69s\n",
            "893:\tlearn: 0.0382079\ttotal: 30.9s\tremaining: 3.66s\n",
            "894:\tlearn: 0.0381931\ttotal: 30.9s\tremaining: 3.62s\n",
            "895:\tlearn: 0.0381812\ttotal: 30.9s\tremaining: 3.59s\n",
            "896:\tlearn: 0.0381732\ttotal: 30.9s\tremaining: 3.55s\n",
            "897:\tlearn: 0.0381673\ttotal: 31s\tremaining: 3.52s\n",
            "898:\tlearn: 0.0381526\ttotal: 31s\tremaining: 3.48s\n",
            "899:\tlearn: 0.0381460\ttotal: 31s\tremaining: 3.45s\n",
            "900:\tlearn: 0.0381316\ttotal: 31.1s\tremaining: 3.41s\n",
            "901:\tlearn: 0.0381224\ttotal: 31.1s\tremaining: 3.38s\n",
            "902:\tlearn: 0.0381114\ttotal: 31.1s\tremaining: 3.34s\n",
            "903:\tlearn: 0.0381035\ttotal: 31.2s\tremaining: 3.31s\n",
            "904:\tlearn: 0.0380842\ttotal: 31.2s\tremaining: 3.27s\n",
            "905:\tlearn: 0.0380726\ttotal: 31.2s\tremaining: 3.24s\n",
            "906:\tlearn: 0.0380675\ttotal: 31.2s\tremaining: 3.2s\n",
            "907:\tlearn: 0.0380541\ttotal: 31.3s\tremaining: 3.17s\n",
            "908:\tlearn: 0.0380445\ttotal: 31.3s\tremaining: 3.13s\n",
            "909:\tlearn: 0.0380379\ttotal: 31.3s\tremaining: 3.1s\n",
            "910:\tlearn: 0.0380226\ttotal: 31.3s\tremaining: 3.06s\n",
            "911:\tlearn: 0.0380141\ttotal: 31.4s\tremaining: 3.03s\n",
            "912:\tlearn: 0.0380036\ttotal: 31.4s\tremaining: 2.99s\n",
            "913:\tlearn: 0.0379984\ttotal: 31.4s\tremaining: 2.96s\n",
            "914:\tlearn: 0.0379831\ttotal: 31.5s\tremaining: 2.92s\n",
            "915:\tlearn: 0.0379831\ttotal: 31.5s\tremaining: 2.89s\n",
            "916:\tlearn: 0.0379735\ttotal: 31.5s\tremaining: 2.85s\n",
            "917:\tlearn: 0.0379591\ttotal: 31.5s\tremaining: 2.82s\n",
            "918:\tlearn: 0.0379462\ttotal: 31.6s\tremaining: 2.78s\n",
            "919:\tlearn: 0.0379380\ttotal: 31.6s\tremaining: 2.75s\n",
            "920:\tlearn: 0.0379222\ttotal: 31.6s\tremaining: 2.71s\n",
            "921:\tlearn: 0.0379087\ttotal: 31.6s\tremaining: 2.68s\n",
            "922:\tlearn: 0.0379062\ttotal: 31.7s\tremaining: 2.64s\n",
            "923:\tlearn: 0.0378969\ttotal: 31.7s\tremaining: 2.61s\n",
            "924:\tlearn: 0.0378874\ttotal: 31.7s\tremaining: 2.57s\n",
            "925:\tlearn: 0.0378800\ttotal: 31.8s\tremaining: 2.54s\n",
            "926:\tlearn: 0.0378800\ttotal: 31.8s\tremaining: 2.5s\n",
            "927:\tlearn: 0.0378800\ttotal: 31.8s\tremaining: 2.47s\n",
            "928:\tlearn: 0.0378688\ttotal: 31.8s\tremaining: 2.43s\n",
            "929:\tlearn: 0.0378583\ttotal: 31.9s\tremaining: 2.4s\n",
            "930:\tlearn: 0.0378378\ttotal: 31.9s\tremaining: 2.37s\n",
            "931:\tlearn: 0.0378292\ttotal: 31.9s\tremaining: 2.33s\n",
            "932:\tlearn: 0.0378138\ttotal: 32s\tremaining: 2.3s\n",
            "933:\tlearn: 0.0378028\ttotal: 32s\tremaining: 2.26s\n",
            "934:\tlearn: 0.0377828\ttotal: 32s\tremaining: 2.23s\n",
            "935:\tlearn: 0.0377648\ttotal: 32.1s\tremaining: 2.19s\n",
            "936:\tlearn: 0.0377593\ttotal: 32.1s\tremaining: 2.16s\n",
            "937:\tlearn: 0.0377512\ttotal: 32.1s\tremaining: 2.12s\n",
            "938:\tlearn: 0.0377348\ttotal: 32.1s\tremaining: 2.09s\n",
            "939:\tlearn: 0.0377264\ttotal: 32.2s\tremaining: 2.05s\n",
            "940:\tlearn: 0.0377133\ttotal: 32.2s\tremaining: 2.02s\n",
            "941:\tlearn: 0.0376945\ttotal: 32.2s\tremaining: 1.99s\n",
            "942:\tlearn: 0.0376945\ttotal: 32.3s\tremaining: 1.95s\n",
            "943:\tlearn: 0.0376846\ttotal: 32.3s\tremaining: 1.92s\n",
            "944:\tlearn: 0.0376746\ttotal: 32.3s\tremaining: 1.88s\n",
            "945:\tlearn: 0.0376611\ttotal: 32.3s\tremaining: 1.85s\n",
            "946:\tlearn: 0.0376553\ttotal: 32.4s\tremaining: 1.81s\n",
            "947:\tlearn: 0.0376485\ttotal: 32.4s\tremaining: 1.78s\n",
            "948:\tlearn: 0.0376351\ttotal: 32.4s\tremaining: 1.74s\n",
            "949:\tlearn: 0.0376301\ttotal: 32.5s\tremaining: 1.71s\n",
            "950:\tlearn: 0.0376202\ttotal: 32.5s\tremaining: 1.68s\n",
            "951:\tlearn: 0.0376087\ttotal: 32.6s\tremaining: 1.64s\n",
            "952:\tlearn: 0.0376018\ttotal: 32.6s\tremaining: 1.61s\n",
            "953:\tlearn: 0.0375939\ttotal: 32.6s\tremaining: 1.57s\n",
            "954:\tlearn: 0.0375794\ttotal: 32.7s\tremaining: 1.54s\n",
            "955:\tlearn: 0.0375742\ttotal: 32.7s\tremaining: 1.5s\n",
            "956:\tlearn: 0.0375688\ttotal: 32.7s\tremaining: 1.47s\n",
            "957:\tlearn: 0.0375627\ttotal: 32.7s\tremaining: 1.43s\n",
            "958:\tlearn: 0.0375540\ttotal: 32.8s\tremaining: 1.4s\n",
            "959:\tlearn: 0.0375400\ttotal: 32.8s\tremaining: 1.37s\n",
            "960:\tlearn: 0.0375358\ttotal: 32.8s\tremaining: 1.33s\n",
            "961:\tlearn: 0.0375216\ttotal: 32.8s\tremaining: 1.3s\n",
            "962:\tlearn: 0.0375062\ttotal: 32.9s\tremaining: 1.26s\n",
            "963:\tlearn: 0.0374956\ttotal: 32.9s\tremaining: 1.23s\n",
            "964:\tlearn: 0.0374825\ttotal: 32.9s\tremaining: 1.19s\n",
            "965:\tlearn: 0.0374739\ttotal: 33s\tremaining: 1.16s\n",
            "966:\tlearn: 0.0374631\ttotal: 33s\tremaining: 1.13s\n",
            "967:\tlearn: 0.0374590\ttotal: 33s\tremaining: 1.09s\n",
            "968:\tlearn: 0.0374421\ttotal: 33.1s\tremaining: 1.06s\n",
            "969:\tlearn: 0.0374346\ttotal: 33.1s\tremaining: 1.02s\n",
            "970:\tlearn: 0.0374251\ttotal: 33.1s\tremaining: 989ms\n",
            "971:\tlearn: 0.0374088\ttotal: 33.1s\tremaining: 955ms\n",
            "972:\tlearn: 0.0373971\ttotal: 33.2s\tremaining: 920ms\n",
            "973:\tlearn: 0.0373926\ttotal: 33.2s\tremaining: 886ms\n",
            "974:\tlearn: 0.0373791\ttotal: 33.2s\tremaining: 852ms\n",
            "975:\tlearn: 0.0373706\ttotal: 33.2s\tremaining: 818ms\n",
            "976:\tlearn: 0.0373667\ttotal: 33.3s\tremaining: 783ms\n",
            "977:\tlearn: 0.0373507\ttotal: 33.3s\tremaining: 749ms\n",
            "978:\tlearn: 0.0373400\ttotal: 33.3s\tremaining: 715ms\n",
            "979:\tlearn: 0.0373286\ttotal: 33.4s\tremaining: 681ms\n",
            "980:\tlearn: 0.0373131\ttotal: 33.4s\tremaining: 647ms\n",
            "981:\tlearn: 0.0373012\ttotal: 33.4s\tremaining: 613ms\n",
            "982:\tlearn: 0.0372861\ttotal: 33.4s\tremaining: 578ms\n",
            "983:\tlearn: 0.0372759\ttotal: 33.5s\tremaining: 544ms\n",
            "984:\tlearn: 0.0372686\ttotal: 33.5s\tremaining: 510ms\n",
            "985:\tlearn: 0.0372488\ttotal: 33.5s\tremaining: 476ms\n",
            "986:\tlearn: 0.0372439\ttotal: 33.6s\tremaining: 442ms\n",
            "987:\tlearn: 0.0372390\ttotal: 33.6s\tremaining: 408ms\n",
            "988:\tlearn: 0.0372337\ttotal: 33.6s\tremaining: 374ms\n",
            "989:\tlearn: 0.0372194\ttotal: 33.6s\tremaining: 340ms\n",
            "990:\tlearn: 0.0372003\ttotal: 33.7s\tremaining: 306ms\n",
            "991:\tlearn: 0.0371909\ttotal: 33.7s\tremaining: 272ms\n",
            "992:\tlearn: 0.0371777\ttotal: 33.7s\tremaining: 238ms\n",
            "993:\tlearn: 0.0371679\ttotal: 33.8s\tremaining: 204ms\n",
            "994:\tlearn: 0.0371632\ttotal: 33.8s\tremaining: 170ms\n",
            "995:\tlearn: 0.0371567\ttotal: 33.8s\tremaining: 136ms\n",
            "996:\tlearn: 0.0371465\ttotal: 33.8s\tremaining: 102ms\n",
            "997:\tlearn: 0.0371142\ttotal: 33.9s\tremaining: 67.9ms\n",
            "998:\tlearn: 0.0371012\ttotal: 33.9s\tremaining: 34ms\n",
            "999:\tlearn: 0.0370900\ttotal: 34s\tremaining: 0us\n"
          ]
        },
        {
          "output_type": "execute_result",
          "data": {
            "text/plain": [
              "<catboost.core.CatBoostClassifier at 0x7e3cb589b550>"
            ]
          },
          "metadata": {},
          "execution_count": 195
        }
      ]
    },
    {
      "cell_type": "code",
      "source": [
        "pickle.dump(cb, open(\"model.pkl\", \"wb\"))"
      ],
      "metadata": {
        "id": "R9k8TMLw_frm"
      },
      "execution_count": null,
      "outputs": []
    },
    {
      "cell_type": "code",
      "source": [
        "# Classifier predicting data testing\n",
        "y_pred = cb.predict(X_test)"
      ],
      "metadata": {
        "execution": {
          "iopub.status.busy": "2024-05-02T04:11:39.211332Z",
          "iopub.execute_input": "2024-05-02T04:11:39.211777Z",
          "iopub.status.idle": "2024-05-02T04:11:39.242648Z",
          "shell.execute_reply.started": "2024-05-02T04:11:39.211743Z",
          "shell.execute_reply": "2024-05-02T04:11:39.241420Z"
        },
        "trusted": true,
        "id": "eIDMvnCvskcf"
      },
      "execution_count": null,
      "outputs": []
    },
    {
      "cell_type": "markdown",
      "source": [
        "### Accuracy Score"
      ],
      "metadata": {
        "id": "0OWnho-YV9pt"
      }
    },
    {
      "cell_type": "code",
      "source": [
        "# Accuracy score\n",
        "accuracy = accuracy_score(y_test, y_pred)\n",
        "print(\"Accuracy:\", accuracy)"
      ],
      "metadata": {
        "execution": {
          "iopub.status.busy": "2024-05-02T04:11:41.038918Z",
          "iopub.execute_input": "2024-05-02T04:11:41.039327Z",
          "iopub.status.idle": "2024-05-02T04:11:41.048713Z",
          "shell.execute_reply.started": "2024-05-02T04:11:41.039295Z",
          "shell.execute_reply": "2024-05-02T04:11:41.047322Z"
        },
        "trusted": true,
        "id": "T6BN2ZyZskcf",
        "outputId": "c22c2b19-b281-4f91-8056-9ff3212eddd5",
        "colab": {
          "base_uri": "https://localhost:8080/"
        }
      },
      "execution_count": null,
      "outputs": [
        {
          "output_type": "stream",
          "name": "stdout",
          "text": [
            "Accuracy: 0.9722390526025888\n"
          ]
        }
      ]
    },
    {
      "cell_type": "markdown",
      "source": [
        "The CatBoost classifier achieved around a 97% accuracy score, which is a significant number, indicating that the model is highly effective at correctly classifying instances in the dataset.\n",
        "\n",
        "However, accuracy alone may not provide a complete picture of the model's performance, especially in scenarios where class distribution is imbalanced or where different types of errors carry varying degrees of importance."
      ],
      "metadata": {
        "id": "une0dj68VKLj"
      }
    },
    {
      "cell_type": "markdown",
      "source": [
        "### Classification Report"
      ],
      "metadata": {
        "id": "uV8kfQ-tV7HZ"
      }
    },
    {
      "cell_type": "code",
      "source": [
        "print(classification_report(y_test, y_pred))"
      ],
      "metadata": {
        "colab": {
          "base_uri": "https://localhost:8080/"
        },
        "id": "FoeZGCmoTjk5",
        "outputId": "c4bc4bc3-8aa4-4ca6-ccd4-4659800ab859"
      },
      "execution_count": null,
      "outputs": [
        {
          "output_type": "stream",
          "name": "stdout",
          "text": [
            "              precision    recall  f1-score   support\n",
            "\n",
            "           0       0.97      1.00      0.99     16727\n",
            "           1       0.93      0.70      0.80      1428\n",
            "\n",
            "    accuracy                           0.97     18155\n",
            "   macro avg       0.95      0.85      0.89     18155\n",
            "weighted avg       0.97      0.97      0.97     18155\n",
            "\n"
          ]
        }
      ]
    },
    {
      "cell_type": "markdown",
      "source": [
        "The model achieves exceptionally high precision, recall, and F1-score for both classes. For class 0 (absence of the condition), the precision is 0.97, recall is 1.00, and F1-score is 0.98, indicating the model's ability to accurately identify instances without the condition.\n",
        "\n",
        "Similarly, for class 1 (presence of the condition), the precision is 0.94, recall is 0.70, and F1-score is 0.80, showcasing the model's decent proficiency in correctly classifying instances with the condition.\n",
        "\n",
        "The overall accuracy of the model is 97%, with macro and weighted average metrics also reflecting high scores, indicating consistent performance across both classes. This suggests that the model effectively discriminates between the two classes and demonstrates robustness in its predictions."
      ],
      "metadata": {
        "id": "mt7vSl8Wyt2M"
      }
    },
    {
      "cell_type": "markdown",
      "source": [
        "### Confusion Matrix"
      ],
      "metadata": {
        "id": "sgod365bWAdr"
      }
    },
    {
      "cell_type": "code",
      "source": [
        "# Displaying Confusion Matrix\n",
        "cm = confusion_matrix(y_test, y_pred, labels=cb.classes_)\n",
        "disp = ConfusionMatrixDisplay(confusion_matrix=cm, display_labels=cb.classes_)\n",
        "disp.plot()\n",
        "plt.show()"
      ],
      "metadata": {
        "colab": {
          "base_uri": "https://localhost:8080/",
          "height": 451
        },
        "id": "LmiqxRqLWEK3",
        "outputId": "322b9975-832a-4c4d-897c-67783b26e403"
      },
      "execution_count": null,
      "outputs": [
        {
          "output_type": "display_data",
          "data": {
            "text/plain": [
              "<Figure size 640x480 with 2 Axes>"
            ],
            "image/png": "[encoded data removed]"
          },
          "metadata": {}
        }
      ]
    },
    {
      "cell_type": "code",
      "source": [
        "# Showing true results of y_test split\n",
        "y_test.value_counts()"
      ],
      "metadata": {
        "colab": {
          "base_uri": "https://localhost:8080/"
        },
        "id": "VqfOD-4CvQP_",
        "outputId": "31891269-d276-42af-d765-21920765935a"
      },
      "execution_count": null,
      "outputs": [
        {
          "output_type": "execute_result",
          "data": {
            "text/plain": [
              "diabetes\n",
              "0    16727\n",
              "1     1428\n",
              "Name: count, dtype: int64"
            ]
          },
          "metadata": {},
          "execution_count": 200
        }
      ]
    },
    {
      "cell_type": "markdown",
      "source": [
        "From the confusion matrix that our team gathered, it can be inferred that the model scored 17000+ True Negatives and True Positives, while the remaining 1200+ predictions were False Positives and False Negatives.\n",
        "\n",
        "Our team can conclude that the model can consistently predicts individuals who has a diabetes or not."
      ],
      "metadata": {
        "id": "iqJbBS_NZWzr"
      }
    },
    {
      "cell_type": "markdown",
      "source": [
        "### Feature Importance"
      ],
      "metadata": {
        "id": "K4iuae5askcg"
      }
    },
    {
      "cell_type": "code",
      "source": [
        "# Gather Feature Importance from CatBoost classifier\n",
        "fi = cb.get_feature_importance(prettified=True)\n",
        "\n",
        "# Categorize features with importance less than 1 as others\n",
        "fi_df = fi[fi['Importances'] >= 1].copy()\n",
        "new_row = pd.DataFrame(data={\n",
        "    'Feature Id' : ['others'],\n",
        "    'Importances' : [fi['Importances'][fi['Importances'] < 1].sum() ]\n",
        "})\n",
        "fi_df = pd.concat([fi_df, new_row])\n",
        "\n",
        "# Visualize\n",
        "fig, axes = plt.subplots(figsize = (6,6))\n",
        "plt.subplots_adjust(1,0.5,2,5)\n",
        "axes.set_title('Feature Importance')\n",
        "plt.pie(fi_df['Importances'], labels=fi_df['Feature Id'], radius=0.89, autopct='%1.1f%%')\n",
        "plt.legend(loc = 'upper left')\n",
        "plt.show()"
      ],
      "metadata": {
        "colab": {
          "base_uri": "https://localhost:8080/",
          "height": 655
        },
        "id": "erpuvh5nMF7i",
        "outputId": "4fc0d3c1-5394-4b21-c6fd-92bd07fe0def"
      },
      "execution_count": null,
      "outputs": [
        {
          "output_type": "display_data",
          "data": {
            "text/plain": [
              "<Figure size 600x600 with 1 Axes>"
            ],
            "image/png": "[encoded data removed]"
          },
          "metadata": {}
        }
      ]
    },
    {
      "cell_type": "markdown",
      "source": [
        "From the feature importance gathered from the model, HbA1c or hemoglobin and blood glucose levels holds an important role in determining whether an individual is diabetic or not. This confirms the real-world application of diabetes check-ups, where monitoring blood glucose and hemoglobin levels helps determine diabetic status."
      ],
      "metadata": {
        "id": "5Xk5viCvNNNY"
      }
    },
    {
      "cell_type": "markdown",
      "source": [
        "# Conclusion"
      ],
      "metadata": {
        "id": "E5Yk5fbUMp3a"
      }
    },
    {
      "cell_type": "markdown",
      "source": [
        "Based on the results of the data analysis that has been carried out, the following conclusions can be drawn.\n",
        "1. Diabetes prediction data that has been explored and analyzed using statistical methods produces important information regarding characteristics and relationships between features.\n",
        "2. Diabetes prediction data that has gone through the preprocessing stage by handling missing values, handling duplicate data, and removing noise, has much better quality.\n",
        "3. From feature importance\n",
        "it can be inferred that\n",
        "Hemoglobin and blood glucose are both important features that determine diabetes or not.\n",
        "4. Several model screening experiments have been carried out, from Linear Regression, Random Forest, Catboost and XGBoost, it was found that the Catboost model has the highest accuracy value, namely 0.9722 or equivalent to 97%"
      ],
      "metadata": {
        "id": "aN9BTWyKMuWw"
      }
    },
    {
      "cell_type": "markdown",
      "source": [
        "# Appendix: Other Classifier (Comparison)"
      ],
      "metadata": {
        "id": "sgluqwvdMixI"
      }
    },
    {
      "cell_type": "markdown",
      "source": [
        "## XGBoost"
      ],
      "metadata": {
        "id": "euHuYvo6-XVW"
      }
    },
    {
      "cell_type": "code",
      "source": [
        "# Create and train the XGBoost Classifier\n",
        "xgb = XGBClassifier()\n",
        "xgb.fit(X_train, y_train)\n",
        "\n",
        "# Predict on the test set\n",
        "y_pred = xgb.predict(X_test)\n",
        "\n",
        "# Evaluate the model\n",
        "accuracy = accuracy_score(y_test, y_pred)\n",
        "report = classification_report(y_test, y_pred)\n",
        "\n",
        "print(\"XGBoost Model Accuracy:\", accuracy)\n",
        "print(\"Classification Report:\\n\", report)\n",
        "cm = confusion_matrix(y_test, y_pred, labels=xgb.classes_)\n",
        "disp = ConfusionMatrixDisplay(confusion_matrix=cm, display_labels=xgb.classes_)\n",
        "disp.plot()\n",
        "plt.show()"
      ],
      "metadata": {
        "colab": {
          "base_uri": "https://localhost:8080/",
          "height": 642
        },
        "id": "Y_lPXR2O-Wt6",
        "outputId": "3eb4cb43-d6bf-4ad3-bd27-619ca471d9e8"
      },
      "execution_count": null,
      "outputs": [
        {
          "output_type": "stream",
          "name": "stdout",
          "text": [
            "XGBoost Model Accuracy: 0.9718534838887359\n",
            "Classification Report:\n",
            "               precision    recall  f1-score   support\n",
            "\n",
            "           0       0.98      0.99      0.98     16727\n",
            "           1       0.92      0.70      0.80      1428\n",
            "\n",
            "    accuracy                           0.97     18155\n",
            "   macro avg       0.95      0.85      0.89     18155\n",
            "weighted avg       0.97      0.97      0.97     18155\n",
            "\n"
          ]
        },
        {
          "output_type": "display_data",
          "data": {
            "text/plain": [
              "<Figure size 640x480 with 2 Axes>"
            ],
            "image/png": "[encoded data removed]"
          },
          "metadata": {}
        }
      ]
    },
    {
      "cell_type": "markdown",
      "source": [
        "## Logistic Regression\n"
      ],
      "metadata": {
        "id": "BtiBWEuSDZpC"
      }
    },
    {
      "cell_type": "code",
      "source": [
        "logistic_model = LogisticRegression()\n",
        "logistic_model.fit(X_train, y_train)\n",
        "\n",
        "# Make predictions on the test set\n",
        "logistic_predictions = logistic_model.predict(X_test)\n",
        "\n",
        "# Calculate AUC\n",
        "logistic_auc = roc_auc_score(y_test, logistic_predictions)\n",
        "\n",
        "# Generate ROC curve\n",
        "fpr, tpr, _ = roc_curve(y_test, logistic_predictions)\n",
        "\n",
        "# Evaluate the model's performance\n",
        "accuracy = accuracy_score(y_test, logistic_predictions)\n",
        "print(f\"Logistic Regression Accuracy: {accuracy:.2f}\")\n",
        "print(\"Logistic Regression Classification Report:\")\n",
        "print(classification_report(y_test, logistic_predictions))"
      ],
      "metadata": {
        "id": "_fSROv3S_WHK",
        "colab": {
          "base_uri": "https://localhost:8080/"
        },
        "outputId": "961b14b2-b046-4157-be49-0d7a46f4a8e0"
      },
      "execution_count": null,
      "outputs": [
        {
          "output_type": "stream",
          "name": "stdout",
          "text": [
            "Logistic Regression Accuracy: 0.88\n",
            "Logistic Regression Classification Report:\n",
            "              precision    recall  f1-score   support\n",
            "\n",
            "           0       0.99      0.88      0.93     16727\n",
            "           1       0.39      0.88      0.55      1428\n",
            "\n",
            "    accuracy                           0.88     18155\n",
            "   macro avg       0.69      0.88      0.74     18155\n",
            "weighted avg       0.94      0.88      0.90     18155\n",
            "\n"
          ]
        }
      ]
    },
    {
      "cell_type": "code",
      "source": [
        "# Displaying Confusion Matrix\n",
        "cm = confusion_matrix(y_test, y_pred, labels=logistic_model.classes_)\n",
        "disp = ConfusionMatrixDisplay(confusion_matrix=cm, display_labels=logistic_model.classes_)\n",
        "disp.plot()\n",
        "plt.show()"
      ],
      "metadata": {
        "id": "Ux-XmZh1ByQf",
        "colab": {
          "base_uri": "https://localhost:8080/",
          "height": 451
        },
        "outputId": "5a10746c-810a-4235-bfac-c40a538f08bc"
      },
      "execution_count": null,
      "outputs": [
        {
          "output_type": "display_data",
          "data": {
            "text/plain": [
              "<Figure size 640x480 with 2 Axes>"
            ],
            "image/png": "[encoded data removed]"
          },
          "metadata": {}
        }
      ]
    },
    {
      "cell_type": "markdown",
      "source": [
        "## Random Forest"
      ],
      "metadata": {
        "id": "r7GdTbwQDjVn"
      }
    },
    {
      "cell_type": "code",
      "source": [
        "# Create Random Forest model\n",
        "random_forest_model = RandomForestClassifier()\n",
        "random_forest_model.fit(X_train, y_train)\n",
        "\n",
        "# Make predictions on the test set\n",
        "random_forest_predictions = random_forest_model.predict(X_test)\n",
        "\n",
        "# Calculate AUC\n",
        "random_forest_auc = roc_auc_score(y_test, random_forest_predictions)\n",
        "\n",
        "# Generate ROC curve\n",
        "fpr_rf, tpr_rf, _ = roc_curve(y_test, random_forest_predictions)\n",
        "\n",
        "# Evaluate the model's performance\n",
        "accuracy_rf = accuracy_score(y_test, random_forest_predictions)\n",
        "print(f\"Random Forest Accuracy: {accuracy_rf}\")\n",
        "print(\"Random Forest Classification Report:\")\n",
        "print(classification_report(y_test, random_forest_predictions))"
      ],
      "metadata": {
        "colab": {
          "base_uri": "https://localhost:8080/"
        },
        "id": "CklO1VV6DYTZ",
        "outputId": "3b10206a-23e2-4c3d-b51f-a07345efa95c"
      },
      "execution_count": null,
      "outputs": [
        {
          "output_type": "stream",
          "name": "stdout",
          "text": [
            "Random Forest Accuracy: 0.9611677223905261\n",
            "Random Forest Classification Report:\n",
            "              precision    recall  f1-score   support\n",
            "\n",
            "           0       0.98      0.98      0.98     16727\n",
            "           1       0.76      0.73      0.75      1428\n",
            "\n",
            "    accuracy                           0.96     18155\n",
            "   macro avg       0.87      0.86      0.86     18155\n",
            "weighted avg       0.96      0.96      0.96     18155\n",
            "\n"
          ]
        }
      ]
    },
    {
      "cell_type": "code",
      "source": [
        "# Displaying Confusion Matrix\n",
        "cm_rf = confusion_matrix(y_test, random_forest_predictions, labels=random_forest_model.classes_)\n",
        "disp_rf = ConfusionMatrixDisplay(confusion_matrix=cm_rf, display_labels=random_forest_model.classes_)\n",
        "disp_rf.plot()\n",
        "plt.show()"
      ],
      "metadata": {
        "id": "NZZTaiP9D-hO",
        "outputId": "8e0fafd7-7ca7-49d8-c2e9-81e5cfac0f02",
        "colab": {
          "base_uri": "https://localhost:8080/",
          "height": 451
        }
      },
      "execution_count": null,
      "outputs": [
        {
          "output_type": "display_data",
          "data": {
            "text/plain": [
              "<Figure size 640x480 with 2 Axes>"
            ],
            "image/png": "[encoded data removed]"
          },
          "metadata": {}
        }
      ]
    }
  ]
}